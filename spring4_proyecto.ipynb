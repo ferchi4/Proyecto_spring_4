{
 "cells": [
  {
   "cell_type": "markdown",
   "id": "3Xg_RQfnafXz",
   "metadata": {
    "id": "3Xg_RQfnafXz"
   },
   "source": [
    "# ¡Llena ese carrito!"
   ]
  },
  {
   "cell_type": "markdown",
   "id": "mhIvmmkW414q",
   "metadata": {
    "id": "mhIvmmkW414q"
   },
   "source": [
    "# Introducción\n",
    "\n",
    "Instacart es una plataforma de entregas de comestibles donde la clientela puede registrar un pedido y hacer que se lo entreguen, similar a Uber Eats y Door Dash.\n",
    "El conjunto de datos que te hemos proporcionado tiene modificaciones del original. Redujimos el tamaño del conjunto para que tus cálculos se hicieran más rápido e introdujimos valores ausentes y duplicados. Tuvimos cuidado de conservar las distribuciones de los datos originales cuando hicimos los cambios.\n",
    "\n",
    "Debes completar tres pasos. Para cada uno de ellos, escribe una breve introducción que refleje con claridad cómo pretendes resolver cada paso, y escribe párrafos explicatorios que justifiquen tus decisiones al tiempo que avanzas en tu solución.  También escribe una conclusión que resuma tus hallazgos y elecciones.\n"
   ]
  },
  {
   "cell_type": "markdown",
   "id": "3MbyzpOQZ5Or",
   "metadata": {
    "id": "3MbyzpOQZ5Or",
    "jp-MarkdownHeadingCollapsed": true
   },
   "source": [
    "## Diccionario de datos\n",
    "\n",
    "Hay cinco tablas en el conjunto de datos, y tendrás que usarlas todas para hacer el preprocesamiento de datos y el análisis exploratorio de datos. A continuación se muestra un diccionario de datos que enumera las columnas de cada tabla y describe los datos que contienen.\n",
    "\n",
    "- `instacart_orders.csv`: cada fila corresponde a un pedido en la aplicación Instacart.\n",
    "    - `'order_id'`: número de ID que identifica de manera única cada pedido.\n",
    "    - `'user_id'`: número de ID que identifica de manera única la cuenta de cada cliente.\n",
    "    - `'order_number'`: el número de veces que este cliente ha hecho un pedido.\n",
    "    - `'order_dow'`: día de la semana en que se hizo el pedido (0 si es domingo).\n",
    "    - `'order_hour_of_day'`: hora del día en que se hizo el pedido.\n",
    "    - `'days_since_prior_order'`: número de días transcurridos desde que este cliente hizo su pedido anterior.\n",
    "- `products.csv`: cada fila corresponde a un producto único que pueden comprar los clientes.\n",
    "    - `'product_id'`: número ID que identifica de manera única cada producto.\n",
    "    - `'product_name'`: nombre del producto.\n",
    "    - `'aisle_id'`: número ID que identifica de manera única cada categoría de pasillo de víveres.\n",
    "    - `'department_id'`: número ID que identifica de manera única cada departamento de víveres.\n",
    "- `order_products.csv`: cada fila corresponde a un artículo pedido en un pedido.\n",
    "    - `'order_id'`: número de ID que identifica de manera única cada pedido.\n",
    "    - `'product_id'`: número ID que identifica de manera única cada producto.\n",
    "    - `'add_to_cart_order'`: el orden secuencial en el que se añadió cada artículo en el carrito.\n",
    "    - `'reordered'`: 0 si el cliente nunca ha pedido este producto antes, 1 si lo ha pedido.\n",
    "- `aisles.csv`\n",
    "    - `'aisle_id'`: número ID que identifica de manera única cada categoría de pasillo de víveres.\n",
    "    - `'aisle'`: nombre del pasillo.\n",
    "- `departments.csv`\n",
    "    - `'department_id'`: número ID que identifica de manera única cada departamento de víveres.\n",
    "    - `'department'`: nombre del departamento."
   ]
  },
  {
   "cell_type": "markdown",
   "id": "n3Ha_cNSZ8lK",
   "metadata": {
    "id": "n3Ha_cNSZ8lK"
   },
   "source": [
    "# Paso 1. Descripción de los datos\n",
    "\n",
    "Lee los archivos de datos (`/datasets/instacart_orders.csv`, `/datasets/products.csv`, `/datasets/aisles.csv`, `/datasets/departments.csv` y `/datasets/order_products.csv`) con `pd.read_csv()` usando los parámetros adecuados para leer los datos correctamente. Verifica la información para cada DataFrame creado.\n"
   ]
  },
  {
   "cell_type": "markdown",
   "id": "OmlQPLlyaAfR",
   "metadata": {
    "id": "OmlQPLlyaAfR"
   },
   "source": [
    "## Plan de solución\n",
    "\n",
    "Escribe aquí tu plan de solución para el Paso 1. Descripción de los datos."
   ]
  },
  {
   "cell_type": "code",
   "execution_count": 14,
   "id": "fbf1adab",
   "metadata": {
    "id": "fbf1adab"
   },
   "outputs": [],
   "source": [
    "# importar librerías\n",
    "import numpy as np\n",
    "import pandas as pd\n",
    "import matplotlib.pyplot as plt\n",
    "import seaborn as sns"
   ]
  },
  {
   "cell_type": "code",
   "execution_count": 15,
   "id": "ad36396d",
   "metadata": {
    "id": "ad36396d"
   },
   "outputs": [],
   "source": [
    "# leer conjuntos de datos en los DataFrames\n",
    "orders = pd.read_csv('instacart_orders.csv', sep=';')\n",
    "products = pd.read_csv('products.csv', sep=';')\n",
    "aisles = pd.read_csv('aisles.csv', sep=';')\n",
    "departments = pd.read_csv('departments.csv', sep=';')\n",
    "order_products = pd.read_csv('order_products.csv', sep=';')"
   ]
  },
  {
   "cell_type": "code",
   "execution_count": 16,
   "id": "ad6a1efa",
   "metadata": {
    "id": "ad6a1efa"
   },
   "outputs": [
    {
     "name": "stdout",
     "output_type": "stream",
     "text": [
      "<class 'pandas.core.frame.DataFrame'>\n",
      "RangeIndex: 478967 entries, 0 to 478966\n",
      "Data columns (total 6 columns):\n",
      " #   Column                  Non-Null Count   Dtype  \n",
      "---  ------                  --------------   -----  \n",
      " 0   order_id                478967 non-null  int64  \n",
      " 1   user_id                 478967 non-null  int64  \n",
      " 2   order_number            478967 non-null  int64  \n",
      " 3   order_dow               478967 non-null  int64  \n",
      " 4   order_hour_of_day       478967 non-null  int64  \n",
      " 5   days_since_prior_order  450148 non-null  float64\n",
      "dtypes: float64(1), int64(5)\n",
      "memory usage: 21.9 MB\n"
     ]
    }
   ],
   "source": [
    "# mostrar información del DataFrame\n",
    "orders.info()"
   ]
  },
  {
   "cell_type": "code",
   "execution_count": 17,
   "id": "5130e05e",
   "metadata": {
    "id": "5130e05e"
   },
   "outputs": [
    {
     "name": "stdout",
     "output_type": "stream",
     "text": [
      "<class 'pandas.core.frame.DataFrame'>\n",
      "RangeIndex: 49694 entries, 0 to 49693\n",
      "Data columns (total 4 columns):\n",
      " #   Column         Non-Null Count  Dtype \n",
      "---  ------         --------------  ----- \n",
      " 0   product_id     49694 non-null  int64 \n",
      " 1   product_name   48436 non-null  object\n",
      " 2   aisle_id       49694 non-null  int64 \n",
      " 3   department_id  49694 non-null  int64 \n",
      "dtypes: int64(3), object(1)\n",
      "memory usage: 1.5+ MB\n"
     ]
    }
   ],
   "source": [
    "# mostrar información del DataFrame\n",
    "products.info()"
   ]
  },
  {
   "cell_type": "code",
   "execution_count": 18,
   "id": "d8370c05",
   "metadata": {
    "id": "d8370c05"
   },
   "outputs": [
    {
     "name": "stdout",
     "output_type": "stream",
     "text": [
      "<class 'pandas.core.frame.DataFrame'>\n",
      "RangeIndex: 134 entries, 0 to 133\n",
      "Data columns (total 2 columns):\n",
      " #   Column    Non-Null Count  Dtype \n",
      "---  ------    --------------  ----- \n",
      " 0   aisle_id  134 non-null    int64 \n",
      " 1   aisle     134 non-null    object\n",
      "dtypes: int64(1), object(1)\n",
      "memory usage: 2.2+ KB\n"
     ]
    }
   ],
   "source": [
    "# mostrar información del DataFrame\n",
    "aisles.info()"
   ]
  },
  {
   "cell_type": "code",
   "execution_count": 19,
   "id": "59e2090f",
   "metadata": {
    "id": "59e2090f"
   },
   "outputs": [
    {
     "name": "stdout",
     "output_type": "stream",
     "text": [
      "<class 'pandas.core.frame.DataFrame'>\n",
      "RangeIndex: 21 entries, 0 to 20\n",
      "Data columns (total 2 columns):\n",
      " #   Column         Non-Null Count  Dtype \n",
      "---  ------         --------------  ----- \n",
      " 0   department_id  21 non-null     int64 \n",
      " 1   department     21 non-null     object\n",
      "dtypes: int64(1), object(1)\n",
      "memory usage: 468.0+ bytes\n"
     ]
    }
   ],
   "source": [
    "# mostrar información del DataFrame\n",
    "departments.info()"
   ]
  },
  {
   "cell_type": "code",
   "execution_count": 20,
   "id": "6fc81694",
   "metadata": {
    "id": "6fc81694"
   },
   "outputs": [
    {
     "name": "stdout",
     "output_type": "stream",
     "text": [
      "<class 'pandas.core.frame.DataFrame'>\n",
      "RangeIndex: 4545007 entries, 0 to 4545006\n",
      "Data columns (total 4 columns):\n",
      " #   Column             Non-Null Count    Dtype  \n",
      "---  ------             --------------    -----  \n",
      " 0   order_id           4545007 non-null  int64  \n",
      " 1   product_id         4545007 non-null  int64  \n",
      " 2   add_to_cart_order  4544171 non-null  float64\n",
      " 3   reordered          4545007 non-null  int64  \n",
      "dtypes: float64(1), int64(3)\n",
      "memory usage: 138.7 MB\n"
     ]
    }
   ],
   "source": [
    "# mostrar información del DataFrame\n",
    "order_products.info(show_counts=True)"
   ]
  },
  {
   "cell_type": "markdown",
   "id": "t75BD19oaR5f",
   "metadata": {
    "id": "t75BD19oaR5f"
   },
   "source": [
    "## Conclusiones\n",
    "\n",
    "Escribe aquí tus conclusiones intermedias sobre el Paso 1. Descripción de los datos.\n",
    "\n",
    "\n",
    "Contamos con valores ausentes en las sigientes columnas:\n",
    "\n",
    "- Orders (days_since_prior_order - 28819).\n",
    "- Products (product_name - 1258) .\n",
    "- Order_products (add_to_cart_order - 836).\n",
    "\n"
   ]
  },
  {
   "cell_type": "markdown",
   "id": "8RJHqxVmaVsF",
   "metadata": {
    "id": "8RJHqxVmaVsF"
   },
   "source": [
    "# Paso 2. Preprocesamiento de los datos\n",
    "\n",
    "Preprocesa los datos de la siguiente manera:\n",
    "\n",
    "- Verifica y corrige los tipos de datos (por ejemplo, asegúrate de que las columnas de ID sean números enteros).\n",
    "- Identifica y completa los valores ausentes.\n",
    "- Identifica y elimina los valores duplicados.\n",
    "\n",
    "Asegúrate de explicar qué tipos de valores ausentes y duplicados encontraste, cómo los completaste o eliminaste y por qué usaste esos métodos. ¿Por qué crees que estos valores ausentes y duplicados pueden haber estado presentes en el conjunto de datos?"
   ]
  },
  {
   "cell_type": "markdown",
   "id": "p6poABZQaZYb",
   "metadata": {
    "id": "p6poABZQaZYb"
   },
   "source": [
    "## Plan de solución\n",
    "\n",
    "Escribe aquí tu plan para el Paso 2. Preprocesamiento de los datos.\n",
    "\n",
    "### Plan de solución \n",
    "\n",
    "1. **Verificación y corrección de tipos de datos**:\n",
    "   - Revisar los tipos de datos de cada columna en los DataFrames.\n",
    "   - Convertir las columnas de ID a enteros si no lo están.\n",
    "   - Asegurarse de que las columnas categóricas tengan el tipo de dato adecuado.\n",
    "\n",
    "2. **Identificación y manejo de valores ausentes**:\n",
    "   - Identificar las columnas con valores ausentes en cada DataFrame.\n",
    "   - Analizar el contexto de los valores ausentes para decidir cómo manejarlos:\n",
    "     - Reemplazar valores ausentes con un valor predeterminado \n",
    "     - Imputar valores ausentes con valores lógicos \n",
    "     - Documentar cualquier decisión tomada.\n",
    "\n",
    "3. **Identificación y eliminación de duplicados**:\n",
    "   - Revisar si hay filas duplicadas en cada DataFrame.\n",
    "   - Analizar las filas duplicadas para determinar si deben eliminarse.\n",
    "   - Eliminar duplicados y documentar las razones detrás de esta decisión.\n",
    "\n",
    "4. **Validación de datos**:\n",
    "   - Verificar que los datos sean consistentes después del preprocesamiento.\n",
    "   - Asegurarse de que no queden valores ausentes o duplicados no deseados.\n",
    "   - Confirmar que los tipos de datos sean correctos y que los rangos de valores sean razonables.\n",
    "\n",
    "5. **Preparación para el análisis**:\n",
    "   - Guardar los DataFrames limpios y listos para el análisis exploratorio.\n",
    "   - Documentar los cambios realizados en cada paso para futuras referencias.\n",
    "    "
   ]
  },
  {
   "cell_type": "markdown",
   "id": "07357848-dc64-4156-9cc3-01ff4365226d",
   "metadata": {
    "id": "07357848-dc64-4156-9cc3-01ff4365226d"
   },
   "source": [
    "## Encuentra y elimina los valores duplicados (y describe cómo tomaste tus decisiones)."
   ]
  },
  {
   "cell_type": "markdown",
   "id": "f179f0a9",
   "metadata": {
    "id": "f179f0a9"
   },
   "source": [
    "### `orders` data frame"
   ]
  },
  {
   "cell_type": "code",
   "execution_count": 21,
   "id": "b99297a5-405a-463d-8535-9adc3da4ad74",
   "metadata": {
    "id": "b99297a5-405a-463d-8535-9adc3da4ad74"
   },
   "outputs": [
    {
     "data": {
      "application/vnd.microsoft.datawrangler.viewer.v0+json": {
       "columns": [
        {
         "name": "index",
         "rawType": "int64",
         "type": "integer"
        },
        {
         "name": "order_id",
         "rawType": "int64",
         "type": "integer"
        },
        {
         "name": "user_id",
         "rawType": "int64",
         "type": "integer"
        },
        {
         "name": "order_number",
         "rawType": "int64",
         "type": "integer"
        },
        {
         "name": "order_dow",
         "rawType": "int64",
         "type": "integer"
        },
        {
         "name": "order_hour_of_day",
         "rawType": "int64",
         "type": "integer"
        },
        {
         "name": "days_since_prior_order",
         "rawType": "float64",
         "type": "float"
        }
       ],
       "ref": "9ac49688-f54a-432b-8074-ca03926fdb53",
       "rows": [
        [
         "145574",
         "794638",
         "50898",
         "24",
         "3",
         "2",
         "2.0"
        ],
        [
         "223105",
         "2160484",
         "107525",
         "16",
         "3",
         "2",
         "30.0"
        ],
        [
         "230807",
         "1918001",
         "188546",
         "14",
         "3",
         "2",
         "16.0"
        ],
        [
         "266232",
         "1782114",
         "106752",
         "1",
         "3",
         "2",
         null
        ],
        [
         "273805",
         "1112182",
         "202304",
         "84",
         "3",
         "2",
         "6.0"
        ],
        [
         "284038",
         "2845099",
         "31189",
         "11",
         "3",
         "2",
         "7.0"
        ],
        [
         "311713",
         "1021560",
         "53767",
         "3",
         "3",
         "2",
         "9.0"
        ],
        [
         "321100",
         "408114",
         "68324",
         "4",
         "3",
         "2",
         "18.0"
        ],
        [
         "323900",
         "1919531",
         "191501",
         "32",
         "3",
         "2",
         "7.0"
        ],
        [
         "345917",
         "2232988",
         "82565",
         "1",
         "3",
         "2",
         null
        ],
        [
         "371905",
         "391768",
         "57671",
         "19",
         "3",
         "2",
         "10.0"
        ],
        [
         "394347",
         "467134",
         "63189",
         "21",
         "3",
         "2",
         "2.0"
        ],
        [
         "411408",
         "1286742",
         "183220",
         "48",
         "3",
         "2",
         "4.0"
        ],
        [
         "415163",
         "2282673",
         "86751",
         "49",
         "3",
         "2",
         "2.0"
        ],
        [
         "441599",
         "2125197",
         "14050",
         "48",
         "3",
         "2",
         "3.0"
        ]
       ],
       "shape": {
        "columns": 6,
        "rows": 15
       }
      },
      "text/html": [
       "<div>\n",
       "<style scoped>\n",
       "    .dataframe tbody tr th:only-of-type {\n",
       "        vertical-align: middle;\n",
       "    }\n",
       "\n",
       "    .dataframe tbody tr th {\n",
       "        vertical-align: top;\n",
       "    }\n",
       "\n",
       "    .dataframe thead th {\n",
       "        text-align: right;\n",
       "    }\n",
       "</style>\n",
       "<table border=\"1\" class=\"dataframe\">\n",
       "  <thead>\n",
       "    <tr style=\"text-align: right;\">\n",
       "      <th></th>\n",
       "      <th>order_id</th>\n",
       "      <th>user_id</th>\n",
       "      <th>order_number</th>\n",
       "      <th>order_dow</th>\n",
       "      <th>order_hour_of_day</th>\n",
       "      <th>days_since_prior_order</th>\n",
       "    </tr>\n",
       "  </thead>\n",
       "  <tbody>\n",
       "    <tr>\n",
       "      <th>145574</th>\n",
       "      <td>794638</td>\n",
       "      <td>50898</td>\n",
       "      <td>24</td>\n",
       "      <td>3</td>\n",
       "      <td>2</td>\n",
       "      <td>2.0</td>\n",
       "    </tr>\n",
       "    <tr>\n",
       "      <th>223105</th>\n",
       "      <td>2160484</td>\n",
       "      <td>107525</td>\n",
       "      <td>16</td>\n",
       "      <td>3</td>\n",
       "      <td>2</td>\n",
       "      <td>30.0</td>\n",
       "    </tr>\n",
       "    <tr>\n",
       "      <th>230807</th>\n",
       "      <td>1918001</td>\n",
       "      <td>188546</td>\n",
       "      <td>14</td>\n",
       "      <td>3</td>\n",
       "      <td>2</td>\n",
       "      <td>16.0</td>\n",
       "    </tr>\n",
       "    <tr>\n",
       "      <th>266232</th>\n",
       "      <td>1782114</td>\n",
       "      <td>106752</td>\n",
       "      <td>1</td>\n",
       "      <td>3</td>\n",
       "      <td>2</td>\n",
       "      <td>NaN</td>\n",
       "    </tr>\n",
       "    <tr>\n",
       "      <th>273805</th>\n",
       "      <td>1112182</td>\n",
       "      <td>202304</td>\n",
       "      <td>84</td>\n",
       "      <td>3</td>\n",
       "      <td>2</td>\n",
       "      <td>6.0</td>\n",
       "    </tr>\n",
       "    <tr>\n",
       "      <th>284038</th>\n",
       "      <td>2845099</td>\n",
       "      <td>31189</td>\n",
       "      <td>11</td>\n",
       "      <td>3</td>\n",
       "      <td>2</td>\n",
       "      <td>7.0</td>\n",
       "    </tr>\n",
       "    <tr>\n",
       "      <th>311713</th>\n",
       "      <td>1021560</td>\n",
       "      <td>53767</td>\n",
       "      <td>3</td>\n",
       "      <td>3</td>\n",
       "      <td>2</td>\n",
       "      <td>9.0</td>\n",
       "    </tr>\n",
       "    <tr>\n",
       "      <th>321100</th>\n",
       "      <td>408114</td>\n",
       "      <td>68324</td>\n",
       "      <td>4</td>\n",
       "      <td>3</td>\n",
       "      <td>2</td>\n",
       "      <td>18.0</td>\n",
       "    </tr>\n",
       "    <tr>\n",
       "      <th>323900</th>\n",
       "      <td>1919531</td>\n",
       "      <td>191501</td>\n",
       "      <td>32</td>\n",
       "      <td>3</td>\n",
       "      <td>2</td>\n",
       "      <td>7.0</td>\n",
       "    </tr>\n",
       "    <tr>\n",
       "      <th>345917</th>\n",
       "      <td>2232988</td>\n",
       "      <td>82565</td>\n",
       "      <td>1</td>\n",
       "      <td>3</td>\n",
       "      <td>2</td>\n",
       "      <td>NaN</td>\n",
       "    </tr>\n",
       "    <tr>\n",
       "      <th>371905</th>\n",
       "      <td>391768</td>\n",
       "      <td>57671</td>\n",
       "      <td>19</td>\n",
       "      <td>3</td>\n",
       "      <td>2</td>\n",
       "      <td>10.0</td>\n",
       "    </tr>\n",
       "    <tr>\n",
       "      <th>394347</th>\n",
       "      <td>467134</td>\n",
       "      <td>63189</td>\n",
       "      <td>21</td>\n",
       "      <td>3</td>\n",
       "      <td>2</td>\n",
       "      <td>2.0</td>\n",
       "    </tr>\n",
       "    <tr>\n",
       "      <th>411408</th>\n",
       "      <td>1286742</td>\n",
       "      <td>183220</td>\n",
       "      <td>48</td>\n",
       "      <td>3</td>\n",
       "      <td>2</td>\n",
       "      <td>4.0</td>\n",
       "    </tr>\n",
       "    <tr>\n",
       "      <th>415163</th>\n",
       "      <td>2282673</td>\n",
       "      <td>86751</td>\n",
       "      <td>49</td>\n",
       "      <td>3</td>\n",
       "      <td>2</td>\n",
       "      <td>2.0</td>\n",
       "    </tr>\n",
       "    <tr>\n",
       "      <th>441599</th>\n",
       "      <td>2125197</td>\n",
       "      <td>14050</td>\n",
       "      <td>48</td>\n",
       "      <td>3</td>\n",
       "      <td>2</td>\n",
       "      <td>3.0</td>\n",
       "    </tr>\n",
       "  </tbody>\n",
       "</table>\n",
       "</div>"
      ],
      "text/plain": [
       "        order_id  user_id  order_number  order_dow  order_hour_of_day  \\\n",
       "145574    794638    50898            24          3                  2   \n",
       "223105   2160484   107525            16          3                  2   \n",
       "230807   1918001   188546            14          3                  2   \n",
       "266232   1782114   106752             1          3                  2   \n",
       "273805   1112182   202304            84          3                  2   \n",
       "284038   2845099    31189            11          3                  2   \n",
       "311713   1021560    53767             3          3                  2   \n",
       "321100    408114    68324             4          3                  2   \n",
       "323900   1919531   191501            32          3                  2   \n",
       "345917   2232988    82565             1          3                  2   \n",
       "371905    391768    57671            19          3                  2   \n",
       "394347    467134    63189            21          3                  2   \n",
       "411408   1286742   183220            48          3                  2   \n",
       "415163   2282673    86751            49          3                  2   \n",
       "441599   2125197    14050            48          3                  2   \n",
       "\n",
       "        days_since_prior_order  \n",
       "145574                     2.0  \n",
       "223105                    30.0  \n",
       "230807                    16.0  \n",
       "266232                     NaN  \n",
       "273805                     6.0  \n",
       "284038                     7.0  \n",
       "311713                     9.0  \n",
       "321100                    18.0  \n",
       "323900                     7.0  \n",
       "345917                     NaN  \n",
       "371905                    10.0  \n",
       "394347                     2.0  \n",
       "411408                     4.0  \n",
       "415163                     2.0  \n",
       "441599                     3.0  "
      ]
     },
     "execution_count": 21,
     "metadata": {},
     "output_type": "execute_result"
    }
   ],
   "source": [
    "# Revisa si hay pedidos duplicados\n",
    "orders[orders.duplicated()]"
   ]
  },
  {
   "cell_type": "markdown",
   "id": "PEkwUX_gvt5A",
   "metadata": {
    "id": "PEkwUX_gvt5A"
   },
   "source": [
    "¿Tienes líneas duplicadas? Si sí, ¿qué tienen en común?"
   ]
  },
  {
   "cell_type": "markdown",
   "id": "vu2OWyoqwOx5",
   "metadata": {
    "id": "vu2OWyoqwOx5"
   },
   "source": [
    "¿Qué sugiere este resultado?\n",
    "\n",
    "    Los duplicados detectados muestran un patrón temporal consistente (miércoles 2AM), indicando probable origen técnico relacionado con procesos automatizados o mantenimiento del sistema durante esa ventana horaria.\n",
    "    "
   ]
  },
  {
   "cell_type": "code",
   "execution_count": 22,
   "id": "0d44de5d",
   "metadata": {
    "id": "0d44de5d"
   },
   "outputs": [
    {
     "data": {
      "text/plain": [
       "15"
      ]
     },
     "execution_count": 22,
     "metadata": {},
     "output_type": "execute_result"
    }
   ],
   "source": [
    "# Basándote en tus hallazgos,\n",
    "# Verifica todos los pedidos que se hicieron el miércoles a las 2:00 a.m.\n",
    "orders.query('order_dow == 3 and order_hour_of_day == 2').duplicated().sum()"
   ]
  },
  {
   "cell_type": "code",
   "execution_count": 23,
   "id": "480563c7",
   "metadata": {
    "id": "480563c7"
   },
   "outputs": [],
   "source": [
    "# Elimina los pedidos duplicados\n",
    "orders = orders.drop_duplicates().reset_index(drop=True)"
   ]
  },
  {
   "cell_type": "code",
   "execution_count": 24,
   "id": "0b2396a2",
   "metadata": {
    "id": "0b2396a2"
   },
   "outputs": [
    {
     "data": {
      "text/plain": [
       "0"
      ]
     },
     "execution_count": 24,
     "metadata": {},
     "output_type": "execute_result"
    }
   ],
   "source": [
    "# Vuelve a verificar si hay filas duplicadas\n",
    "orders.duplicated().sum()"
   ]
  },
  {
   "cell_type": "code",
   "execution_count": 25,
   "id": "f6113ef1",
   "metadata": {
    "id": "f6113ef1"
   },
   "outputs": [
    {
     "data": {
      "text/plain": [
       "0"
      ]
     },
     "execution_count": 25,
     "metadata": {},
     "output_type": "execute_result"
    }
   ],
   "source": [
    "# Vuelve a verificar únicamente si hay IDs duplicados de pedidos\n",
    "orders['order_id'].duplicated().sum()"
   ]
  },
  {
   "cell_type": "markdown",
   "id": "5e8905ae",
   "metadata": {
    "id": "5e8905ae"
   },
   "source": [
    "Describe brevemente tus hallazgos y lo que hiciste con ellos\n",
    "\n",
    "    El 12% de las facturas generadas el día miércoles a las 2 am son repetidas lo cual fueron eliminadas.  "
   ]
  },
  {
   "cell_type": "markdown",
   "id": "45e6bc46",
   "metadata": {
    "id": "45e6bc46"
   },
   "source": [
    "### `products` data frame"
   ]
  },
  {
   "cell_type": "code",
   "execution_count": 26,
   "id": "5f526b5b-8175-46fa-a0fd-441767d50e64",
   "metadata": {
    "id": "5f526b5b-8175-46fa-a0fd-441767d50e64"
   },
   "outputs": [
    {
     "data": {
      "application/vnd.microsoft.datawrangler.viewer.v0+json": {
       "columns": [
        {
         "name": "index",
         "rawType": "object",
         "type": "string"
        },
        {
         "name": "0",
         "rawType": "object",
         "type": "unknown"
        }
       ],
       "ref": "24df5069-c1c6-4ef1-95a0-ab4e8a4b3481",
       "rows": [
        [
         "product_id",
         "0"
        ],
        [
         "product_name",
         "0"
        ],
        [
         "aisle_id",
         "0"
        ],
        [
         "department_id",
         "0"
        ]
       ],
       "shape": {
        "columns": 1,
        "rows": 4
       }
      },
      "text/plain": [
       "product_id       0\n",
       "product_name     0\n",
       "aisle_id         0\n",
       "department_id    0\n",
       "dtype: object"
      ]
     },
     "execution_count": 26,
     "metadata": {},
     "output_type": "execute_result"
    }
   ],
   "source": [
    "# Verifica si hay filas totalmente duplicadas\n",
    "products[products.duplicated()].sum()"
   ]
  },
  {
   "cell_type": "code",
   "execution_count": 27,
   "id": "88daa4f4",
   "metadata": {
    "id": "88daa4f4"
   },
   "outputs": [
    {
     "data": {
      "text/plain": [
       "0"
      ]
     },
     "execution_count": 27,
     "metadata": {},
     "output_type": "execute_result"
    }
   ],
   "source": [
    "# Revisa únicamente si hay ID de productos duplicados\n",
    "products['product_id'].duplicated().sum()"
   ]
  },
  {
   "cell_type": "code",
   "execution_count": 28,
   "id": "c773f0bf",
   "metadata": {
    "id": "c773f0bf"
   },
   "outputs": [
    {
     "data": {
      "application/vnd.microsoft.datawrangler.viewer.v0+json": {
       "columns": [
        {
         "name": "index",
         "rawType": "int64",
         "type": "integer"
        },
        {
         "name": "product_id",
         "rawType": "int64",
         "type": "integer"
        },
        {
         "name": "product_name",
         "rawType": "object",
         "type": "unknown"
        },
        {
         "name": "aisle_id",
         "rawType": "int64",
         "type": "integer"
        },
        {
         "name": "department_id",
         "rawType": "int64",
         "type": "integer"
        }
       ],
       "ref": "81e80099-8bc1-4263-a4cc-b982e68a8049",
       "rows": [
        [
         "37",
         "38",
         null,
         "100",
         "21"
        ],
        [
         "41",
         "42",
         "Biotin 1000 mcg",
         "47",
         "11"
        ],
        [
         "71",
         "72",
         null,
         "100",
         "21"
        ],
        [
         "109",
         "110",
         null,
         "100",
         "21"
        ],
        [
         "185",
         "186",
         "Fresh Scent Dishwasher Detergent with Dawn",
         "74",
         "17"
        ],
        [
         "296",
         "297",
         null,
         "100",
         "21"
        ],
        [
         "416",
         "417",
         null,
         "100",
         "21"
        ],
        [
         "436",
         "437",
         null,
         "100",
         "21"
        ],
        [
         "439",
         "440",
         null,
         "100",
         "21"
        ],
        [
         "471",
         "472",
         null,
         "100",
         "21"
        ],
        [
         "490",
         "491",
         null,
         "100",
         "21"
        ],
        [
         "515",
         "516",
         "American Cheese Slices",
         "21",
         "16"
        ],
        [
         "555",
         "556",
         null,
         "100",
         "21"
        ],
        [
         "561",
         "562",
         null,
         "100",
         "21"
        ],
        [
         "613",
         "614",
         null,
         "100",
         "21"
        ],
        [
         "623",
         "624",
         null,
         "100",
         "21"
        ],
        [
         "689",
         "690",
         null,
         "100",
         "21"
        ],
        [
         "767",
         "768",
         null,
         "100",
         "21"
        ],
        [
         "803",
         "804",
         null,
         "100",
         "21"
        ],
        [
         "890",
         "891",
         null,
         "100",
         "21"
        ],
        [
         "990",
         "991",
         null,
         "100",
         "21"
        ],
        [
         "1018",
         "1019",
         null,
         "100",
         "21"
        ],
        [
         "1054",
         "1055",
         null,
         "100",
         "21"
        ],
        [
         "1217",
         "1218",
         null,
         "100",
         "21"
        ],
        [
         "1282",
         "1283",
         null,
         "100",
         "21"
        ],
        [
         "1301",
         "1302",
         null,
         "100",
         "21"
        ],
        [
         "1386",
         "1387",
         null,
         "100",
         "21"
        ],
        [
         "1538",
         "1539",
         "Cauliflower head",
         "83",
         "4"
        ],
        [
         "1547",
         "1548",
         null,
         "100",
         "21"
        ],
        [
         "1561",
         "1562",
         null,
         "100",
         "21"
        ],
        [
         "1714",
         "1715",
         null,
         "100",
         "21"
        ],
        [
         "1717",
         "1718",
         null,
         "100",
         "21"
        ],
        [
         "1741",
         "1742",
         null,
         "100",
         "21"
        ],
        [
         "1783",
         "1784",
         "NUTrition Protein Mix Blueberry Nut",
         "117",
         "19"
        ],
        [
         "1797",
         "1798",
         null,
         "100",
         "21"
        ],
        [
         "1826",
         "1827",
         "Yams Cut Sweet Potatoes in Syrup",
         "81",
         "15"
        ],
        [
         "1853",
         "1854",
         "Pineapple Slices In Heavy Syrup",
         "99",
         "15"
        ],
        [
         "1858",
         "1859",
         null,
         "100",
         "21"
        ],
        [
         "1960",
         "1961",
         null,
         "100",
         "21"
        ],
        [
         "2031",
         "2032",
         null,
         "100",
         "21"
        ],
        [
         "2037",
         "2038",
         "Green Tea with Ginseng and Honey",
         "94",
         "7"
        ],
        [
         "2058",
         "2059",
         "Biotin 1000 Mcg",
         "47",
         "11"
        ],
        [
         "2081",
         "2082",
         null,
         "100",
         "21"
        ],
        [
         "2133",
         "2134",
         null,
         "100",
         "21"
        ],
        [
         "2161",
         "2162",
         null,
         "100",
         "21"
        ],
        [
         "2197",
         "2198",
         null,
         "100",
         "21"
        ],
        [
         "2264",
         "2265",
         null,
         "100",
         "21"
        ],
        [
         "2334",
         "2335",
         null,
         "100",
         "21"
        ],
        [
         "2370",
         "2371",
         null,
         "100",
         "21"
        ],
        [
         "2374",
         "2375",
         null,
         "100",
         "21"
        ]
       ],
       "shape": {
        "columns": 4,
        "rows": 1465
       }
      },
      "text/html": [
       "<div>\n",
       "<style scoped>\n",
       "    .dataframe tbody tr th:only-of-type {\n",
       "        vertical-align: middle;\n",
       "    }\n",
       "\n",
       "    .dataframe tbody tr th {\n",
       "        vertical-align: top;\n",
       "    }\n",
       "\n",
       "    .dataframe thead th {\n",
       "        text-align: right;\n",
       "    }\n",
       "</style>\n",
       "<table border=\"1\" class=\"dataframe\">\n",
       "  <thead>\n",
       "    <tr style=\"text-align: right;\">\n",
       "      <th></th>\n",
       "      <th>product_id</th>\n",
       "      <th>product_name</th>\n",
       "      <th>aisle_id</th>\n",
       "      <th>department_id</th>\n",
       "    </tr>\n",
       "  </thead>\n",
       "  <tbody>\n",
       "    <tr>\n",
       "      <th>37</th>\n",
       "      <td>38</td>\n",
       "      <td>NaN</td>\n",
       "      <td>100</td>\n",
       "      <td>21</td>\n",
       "    </tr>\n",
       "    <tr>\n",
       "      <th>41</th>\n",
       "      <td>42</td>\n",
       "      <td>Biotin 1000 mcg</td>\n",
       "      <td>47</td>\n",
       "      <td>11</td>\n",
       "    </tr>\n",
       "    <tr>\n",
       "      <th>71</th>\n",
       "      <td>72</td>\n",
       "      <td>NaN</td>\n",
       "      <td>100</td>\n",
       "      <td>21</td>\n",
       "    </tr>\n",
       "    <tr>\n",
       "      <th>109</th>\n",
       "      <td>110</td>\n",
       "      <td>NaN</td>\n",
       "      <td>100</td>\n",
       "      <td>21</td>\n",
       "    </tr>\n",
       "    <tr>\n",
       "      <th>185</th>\n",
       "      <td>186</td>\n",
       "      <td>Fresh Scent Dishwasher Detergent with Dawn</td>\n",
       "      <td>74</td>\n",
       "      <td>17</td>\n",
       "    </tr>\n",
       "    <tr>\n",
       "      <th>...</th>\n",
       "      <td>...</td>\n",
       "      <td>...</td>\n",
       "      <td>...</td>\n",
       "      <td>...</td>\n",
       "    </tr>\n",
       "    <tr>\n",
       "      <th>49689</th>\n",
       "      <td>49690</td>\n",
       "      <td>HIGH PERFORMANCE ENERGY DRINK</td>\n",
       "      <td>64</td>\n",
       "      <td>7</td>\n",
       "    </tr>\n",
       "    <tr>\n",
       "      <th>49690</th>\n",
       "      <td>49691</td>\n",
       "      <td>ORIGINAL PANCAKE &amp; WAFFLE MIX</td>\n",
       "      <td>130</td>\n",
       "      <td>14</td>\n",
       "    </tr>\n",
       "    <tr>\n",
       "      <th>49691</th>\n",
       "      <td>49692</td>\n",
       "      <td>ORGANIC INSTANT OATMEAL LIGHT MAPLE BROWN SUGAR</td>\n",
       "      <td>130</td>\n",
       "      <td>14</td>\n",
       "    </tr>\n",
       "    <tr>\n",
       "      <th>49692</th>\n",
       "      <td>49693</td>\n",
       "      <td>SPRING WATER BODY WASH</td>\n",
       "      <td>127</td>\n",
       "      <td>11</td>\n",
       "    </tr>\n",
       "    <tr>\n",
       "      <th>49693</th>\n",
       "      <td>49694</td>\n",
       "      <td>BURRITO- STEAK &amp; CHEESE</td>\n",
       "      <td>38</td>\n",
       "      <td>1</td>\n",
       "    </tr>\n",
       "  </tbody>\n",
       "</table>\n",
       "<p>1465 rows × 4 columns</p>\n",
       "</div>"
      ],
      "text/plain": [
       "       product_id                                     product_name  aisle_id  \\\n",
       "37             38                                              NaN       100   \n",
       "41             42                                  Biotin 1000 mcg        47   \n",
       "71             72                                              NaN       100   \n",
       "109           110                                              NaN       100   \n",
       "185           186       Fresh Scent Dishwasher Detergent with Dawn        74   \n",
       "...           ...                                              ...       ...   \n",
       "49689       49690                    HIGH PERFORMANCE ENERGY DRINK        64   \n",
       "49690       49691                    ORIGINAL PANCAKE & WAFFLE MIX       130   \n",
       "49691       49692  ORGANIC INSTANT OATMEAL LIGHT MAPLE BROWN SUGAR       130   \n",
       "49692       49693                           SPRING WATER BODY WASH       127   \n",
       "49693       49694                          BURRITO- STEAK & CHEESE        38   \n",
       "\n",
       "       department_id  \n",
       "37                21  \n",
       "41                11  \n",
       "71                21  \n",
       "109               21  \n",
       "185               17  \n",
       "...              ...  \n",
       "49689              7  \n",
       "49690             14  \n",
       "49691             14  \n",
       "49692             11  \n",
       "49693              1  \n",
       "\n",
       "[1465 rows x 4 columns]"
      ]
     },
     "execution_count": 28,
     "metadata": {},
     "output_type": "execute_result"
    }
   ],
   "source": [
    "# Revisa únicamente si hay nombres duplicados de productos (convierte los nombres a letras mayúsculas para compararlos mejor)\n",
    "products[products['product_name'].str.upper().duplicated(keep=False)]"
   ]
  },
  {
   "cell_type": "code",
   "execution_count": 29,
   "id": "01efd02e",
   "metadata": {
    "id": "01efd02e"
   },
   "outputs": [
    {
     "data": {
      "text/plain": [
       "104"
      ]
     },
     "execution_count": 29,
     "metadata": {},
     "output_type": "execute_result"
    }
   ],
   "source": [
    "# Revisa si hay nombres duplicados de productos no faltantes\n",
    "products['product_name'].dropna().str.upper().duplicated().sum()"
   ]
  },
  {
   "cell_type": "markdown",
   "id": "9da8d293",
   "metadata": {
    "id": "9da8d293"
   },
   "source": [
    "Describe brevemente tus hallazgos y lo que hiciste con ellos.\n",
    "\n",
    "    Se detectaron 104 nombres repetidos por errores ortográficos (no son valores nulos). Se conservan sin cambios"
   ]
  },
  {
   "cell_type": "markdown",
   "id": "60f30db1",
   "metadata": {
    "id": "60f30db1"
   },
   "source": [
    "### `departments` data frame"
   ]
  },
  {
   "cell_type": "code",
   "execution_count": 30,
   "id": "fb410ad4-0fbf-4b80-bb09-23fdea79afe3",
   "metadata": {
    "id": "fb410ad4-0fbf-4b80-bb09-23fdea79afe3"
   },
   "outputs": [
    {
     "data": {
      "application/vnd.microsoft.datawrangler.viewer.v0+json": {
       "columns": [
        {
         "name": "index",
         "rawType": "object",
         "type": "string"
        },
        {
         "name": "0",
         "rawType": "object",
         "type": "unknown"
        }
       ],
       "ref": "552110bc-1c31-406a-a11c-77e0e36bb8fa",
       "rows": [
        [
         "department_id",
         "0"
        ],
        [
         "department",
         "0"
        ]
       ],
       "shape": {
        "columns": 1,
        "rows": 2
       }
      },
      "text/plain": [
       "department_id    0\n",
       "department       0\n",
       "dtype: object"
      ]
     },
     "execution_count": 30,
     "metadata": {},
     "output_type": "execute_result"
    }
   ],
   "source": [
    "# Revisa si hay filas totalmente duplicadas\n",
    "departments[departments.duplicated()].sum()"
   ]
  },
  {
   "cell_type": "code",
   "execution_count": 31,
   "id": "332b12bb",
   "metadata": {
    "id": "332b12bb"
   },
   "outputs": [
    {
     "data": {
      "text/plain": [
       "0"
      ]
     },
     "execution_count": 31,
     "metadata": {},
     "output_type": "execute_result"
    }
   ],
   "source": [
    "# Revisa únicamente si hay IDs duplicadas de departamentos\n",
    "departments['department_id'].duplicated().sum()"
   ]
  },
  {
   "cell_type": "markdown",
   "id": "bd30d78e",
   "metadata": {
    "id": "bd30d78e"
   },
   "source": [
    "Describe brevemente tus hallazgos y lo que hiciste con ellos.\n",
    "\n",
    "    No contamos con valores duplicados, no se realiza acción "
   ]
  },
  {
   "cell_type": "markdown",
   "id": "889349c1",
   "metadata": {
    "id": "889349c1"
   },
   "source": [
    "### `aisles` data frame"
   ]
  },
  {
   "cell_type": "code",
   "execution_count": 32,
   "id": "9da89fb9-4679-40f5-ad0d-c34df753a3f8",
   "metadata": {
    "id": "9da89fb9-4679-40f5-ad0d-c34df753a3f8"
   },
   "outputs": [
    {
     "data": {
      "application/vnd.microsoft.datawrangler.viewer.v0+json": {
       "columns": [
        {
         "name": "index",
         "rawType": "object",
         "type": "string"
        },
        {
         "name": "0",
         "rawType": "object",
         "type": "unknown"
        }
       ],
       "ref": "ff7c9f16-928b-49b0-b7c8-d5a1a694631e",
       "rows": [
        [
         "aisle_id",
         "0"
        ],
        [
         "aisle",
         "0"
        ]
       ],
       "shape": {
        "columns": 1,
        "rows": 2
       }
      },
      "text/plain": [
       "aisle_id    0\n",
       "aisle       0\n",
       "dtype: object"
      ]
     },
     "execution_count": 32,
     "metadata": {},
     "output_type": "execute_result"
    }
   ],
   "source": [
    "# Revisa si hay filas totalmente duplicadas\n",
    "aisles[aisles.duplicated()].sum()"
   ]
  },
  {
   "cell_type": "code",
   "execution_count": 33,
   "id": "da7c2822",
   "metadata": {
    "id": "da7c2822"
   },
   "outputs": [
    {
     "data": {
      "text/plain": [
       "0"
      ]
     },
     "execution_count": 33,
     "metadata": {},
     "output_type": "execute_result"
    }
   ],
   "source": [
    "# Revisa únicamente si hay IDs duplicadas de pasillos\n",
    "aisles['aisle_id'].duplicated().sum()"
   ]
  },
  {
   "cell_type": "markdown",
   "id": "ac63826f",
   "metadata": {
    "id": "ac63826f"
   },
   "source": [
    "Describe brevemente tus hallazgos y lo que hiciste con ellos.\n",
    "\n",
    "    No contamos con valores duplicados, no se realiza acción "
   ]
  },
  {
   "cell_type": "markdown",
   "id": "274cd06a",
   "metadata": {
    "id": "274cd06a"
   },
   "source": [
    "### `order_products` data frame"
   ]
  },
  {
   "cell_type": "code",
   "execution_count": 34,
   "id": "52326689-84a8-4b8f-a881-7c68780f62c9",
   "metadata": {
    "id": "52326689-84a8-4b8f-a881-7c68780f62c9"
   },
   "outputs": [
    {
     "data": {
      "application/vnd.microsoft.datawrangler.viewer.v0+json": {
       "columns": [
        {
         "name": "index",
         "rawType": "object",
         "type": "string"
        },
        {
         "name": "0",
         "rawType": "float64",
         "type": "float"
        }
       ],
       "ref": "d09d5b0d-ce9f-4583-b506-cb4a567486d5",
       "rows": [
        [
         "order_id",
         "0.0"
        ],
        [
         "product_id",
         "0.0"
        ],
        [
         "add_to_cart_order",
         "0.0"
        ],
        [
         "reordered",
         "0.0"
        ]
       ],
       "shape": {
        "columns": 1,
        "rows": 4
       }
      },
      "text/plain": [
       "order_id             0.0\n",
       "product_id           0.0\n",
       "add_to_cart_order    0.0\n",
       "reordered            0.0\n",
       "dtype: float64"
      ]
     },
     "execution_count": 34,
     "metadata": {},
     "output_type": "execute_result"
    }
   ],
   "source": [
    "# Revisa si hay filas totalmente duplicadas\n",
    "order_products[order_products.duplicated()].sum()"
   ]
  },
  {
   "cell_type": "code",
   "execution_count": 35,
   "id": "7b861391",
   "metadata": {
    "id": "7b861391"
   },
   "outputs": [
    {
     "data": {
      "text/plain": [
       "0"
      ]
     },
     "execution_count": 35,
     "metadata": {},
     "output_type": "execute_result"
    }
   ],
   "source": [
    "# Vuelve a verificar si hay cualquier otro duplicado engañoso\n",
    "order_products.duplicated(['order_id','product_id']).sum()"
   ]
  },
  {
   "cell_type": "markdown",
   "id": "0b890492",
   "metadata": {
    "id": "0b890492"
   },
   "source": [
    "Describe brevemente tus hallazgos y lo que hiciste con ellos.\n",
    "\n",
    "    No contamos con valores duplicados, no se realiza acción "
   ]
  },
  {
   "cell_type": "markdown",
   "id": "1e46de76",
   "metadata": {
    "id": "1e46de76"
   },
   "source": [
    "## Encuentra y elimina los valores ausentes\n",
    "\n",
    "Al trabajar con valores duplicados, pudimos observar que también nos falta investigar valores ausentes:\n",
    "\n",
    "* La columna `'product_name'` de la tabla products.\n",
    "* La columna `'days_since_prior_order'` de la tabla orders.\n",
    "* La columna `'add_to_cart_order'` de la tabla order_productos."
   ]
  },
  {
   "cell_type": "markdown",
   "id": "c0aebd78",
   "metadata": {
    "id": "c0aebd78"
   },
   "source": [
    "### `products` data frame"
   ]
  },
  {
   "cell_type": "code",
   "execution_count": 36,
   "id": "fe4a8b0f",
   "metadata": {
    "id": "fe4a8b0f",
    "scrolled": true
   },
   "outputs": [
    {
     "data": {
      "application/vnd.microsoft.datawrangler.viewer.v0+json": {
       "columns": [
        {
         "name": "index",
         "rawType": "int64",
         "type": "integer"
        },
        {
         "name": "product_id",
         "rawType": "int64",
         "type": "integer"
        },
        {
         "name": "product_name",
         "rawType": "object",
         "type": "unknown"
        },
        {
         "name": "aisle_id",
         "rawType": "int64",
         "type": "integer"
        },
        {
         "name": "department_id",
         "rawType": "int64",
         "type": "integer"
        }
       ],
       "ref": "25cc9551-312c-43d0-9f27-82830ee773a3",
       "rows": [
        [
         "37",
         "38",
         null,
         "100",
         "21"
        ],
        [
         "71",
         "72",
         null,
         "100",
         "21"
        ],
        [
         "109",
         "110",
         null,
         "100",
         "21"
        ],
        [
         "296",
         "297",
         null,
         "100",
         "21"
        ],
        [
         "416",
         "417",
         null,
         "100",
         "21"
        ],
        [
         "436",
         "437",
         null,
         "100",
         "21"
        ],
        [
         "439",
         "440",
         null,
         "100",
         "21"
        ],
        [
         "471",
         "472",
         null,
         "100",
         "21"
        ],
        [
         "490",
         "491",
         null,
         "100",
         "21"
        ],
        [
         "555",
         "556",
         null,
         "100",
         "21"
        ],
        [
         "561",
         "562",
         null,
         "100",
         "21"
        ],
        [
         "613",
         "614",
         null,
         "100",
         "21"
        ],
        [
         "623",
         "624",
         null,
         "100",
         "21"
        ],
        [
         "689",
         "690",
         null,
         "100",
         "21"
        ],
        [
         "767",
         "768",
         null,
         "100",
         "21"
        ],
        [
         "803",
         "804",
         null,
         "100",
         "21"
        ],
        [
         "890",
         "891",
         null,
         "100",
         "21"
        ],
        [
         "990",
         "991",
         null,
         "100",
         "21"
        ],
        [
         "1018",
         "1019",
         null,
         "100",
         "21"
        ],
        [
         "1054",
         "1055",
         null,
         "100",
         "21"
        ],
        [
         "1217",
         "1218",
         null,
         "100",
         "21"
        ],
        [
         "1282",
         "1283",
         null,
         "100",
         "21"
        ],
        [
         "1301",
         "1302",
         null,
         "100",
         "21"
        ],
        [
         "1386",
         "1387",
         null,
         "100",
         "21"
        ],
        [
         "1547",
         "1548",
         null,
         "100",
         "21"
        ],
        [
         "1561",
         "1562",
         null,
         "100",
         "21"
        ],
        [
         "1714",
         "1715",
         null,
         "100",
         "21"
        ],
        [
         "1717",
         "1718",
         null,
         "100",
         "21"
        ],
        [
         "1741",
         "1742",
         null,
         "100",
         "21"
        ],
        [
         "1797",
         "1798",
         null,
         "100",
         "21"
        ],
        [
         "1858",
         "1859",
         null,
         "100",
         "21"
        ],
        [
         "1960",
         "1961",
         null,
         "100",
         "21"
        ],
        [
         "2031",
         "2032",
         null,
         "100",
         "21"
        ],
        [
         "2081",
         "2082",
         null,
         "100",
         "21"
        ],
        [
         "2133",
         "2134",
         null,
         "100",
         "21"
        ],
        [
         "2161",
         "2162",
         null,
         "100",
         "21"
        ],
        [
         "2197",
         "2198",
         null,
         "100",
         "21"
        ],
        [
         "2264",
         "2265",
         null,
         "100",
         "21"
        ],
        [
         "2334",
         "2335",
         null,
         "100",
         "21"
        ],
        [
         "2370",
         "2371",
         null,
         "100",
         "21"
        ],
        [
         "2374",
         "2375",
         null,
         "100",
         "21"
        ],
        [
         "2383",
         "2384",
         null,
         "100",
         "21"
        ],
        [
         "2506",
         "2507",
         null,
         "100",
         "21"
        ],
        [
         "2553",
         "2554",
         null,
         "100",
         "21"
        ],
        [
         "2556",
         "2557",
         null,
         "100",
         "21"
        ],
        [
         "2576",
         "2577",
         null,
         "100",
         "21"
        ],
        [
         "2591",
         "2592",
         null,
         "100",
         "21"
        ],
        [
         "2607",
         "2608",
         null,
         "100",
         "21"
        ],
        [
         "2672",
         "2673",
         null,
         "100",
         "21"
        ],
        [
         "2686",
         "2687",
         null,
         "100",
         "21"
        ]
       ],
       "shape": {
        "columns": 4,
        "rows": 1258
       }
      },
      "text/html": [
       "<div>\n",
       "<style scoped>\n",
       "    .dataframe tbody tr th:only-of-type {\n",
       "        vertical-align: middle;\n",
       "    }\n",
       "\n",
       "    .dataframe tbody tr th {\n",
       "        vertical-align: top;\n",
       "    }\n",
       "\n",
       "    .dataframe thead th {\n",
       "        text-align: right;\n",
       "    }\n",
       "</style>\n",
       "<table border=\"1\" class=\"dataframe\">\n",
       "  <thead>\n",
       "    <tr style=\"text-align: right;\">\n",
       "      <th></th>\n",
       "      <th>product_id</th>\n",
       "      <th>product_name</th>\n",
       "      <th>aisle_id</th>\n",
       "      <th>department_id</th>\n",
       "    </tr>\n",
       "  </thead>\n",
       "  <tbody>\n",
       "    <tr>\n",
       "      <th>37</th>\n",
       "      <td>38</td>\n",
       "      <td>NaN</td>\n",
       "      <td>100</td>\n",
       "      <td>21</td>\n",
       "    </tr>\n",
       "    <tr>\n",
       "      <th>71</th>\n",
       "      <td>72</td>\n",
       "      <td>NaN</td>\n",
       "      <td>100</td>\n",
       "      <td>21</td>\n",
       "    </tr>\n",
       "    <tr>\n",
       "      <th>109</th>\n",
       "      <td>110</td>\n",
       "      <td>NaN</td>\n",
       "      <td>100</td>\n",
       "      <td>21</td>\n",
       "    </tr>\n",
       "    <tr>\n",
       "      <th>296</th>\n",
       "      <td>297</td>\n",
       "      <td>NaN</td>\n",
       "      <td>100</td>\n",
       "      <td>21</td>\n",
       "    </tr>\n",
       "    <tr>\n",
       "      <th>416</th>\n",
       "      <td>417</td>\n",
       "      <td>NaN</td>\n",
       "      <td>100</td>\n",
       "      <td>21</td>\n",
       "    </tr>\n",
       "    <tr>\n",
       "      <th>...</th>\n",
       "      <td>...</td>\n",
       "      <td>...</td>\n",
       "      <td>...</td>\n",
       "      <td>...</td>\n",
       "    </tr>\n",
       "    <tr>\n",
       "      <th>49552</th>\n",
       "      <td>49553</td>\n",
       "      <td>NaN</td>\n",
       "      <td>100</td>\n",
       "      <td>21</td>\n",
       "    </tr>\n",
       "    <tr>\n",
       "      <th>49574</th>\n",
       "      <td>49575</td>\n",
       "      <td>NaN</td>\n",
       "      <td>100</td>\n",
       "      <td>21</td>\n",
       "    </tr>\n",
       "    <tr>\n",
       "      <th>49640</th>\n",
       "      <td>49641</td>\n",
       "      <td>NaN</td>\n",
       "      <td>100</td>\n",
       "      <td>21</td>\n",
       "    </tr>\n",
       "    <tr>\n",
       "      <th>49663</th>\n",
       "      <td>49664</td>\n",
       "      <td>NaN</td>\n",
       "      <td>100</td>\n",
       "      <td>21</td>\n",
       "    </tr>\n",
       "    <tr>\n",
       "      <th>49668</th>\n",
       "      <td>49669</td>\n",
       "      <td>NaN</td>\n",
       "      <td>100</td>\n",
       "      <td>21</td>\n",
       "    </tr>\n",
       "  </tbody>\n",
       "</table>\n",
       "<p>1258 rows × 4 columns</p>\n",
       "</div>"
      ],
      "text/plain": [
       "       product_id product_name  aisle_id  department_id\n",
       "37             38          NaN       100             21\n",
       "71             72          NaN       100             21\n",
       "109           110          NaN       100             21\n",
       "296           297          NaN       100             21\n",
       "416           417          NaN       100             21\n",
       "...           ...          ...       ...            ...\n",
       "49552       49553          NaN       100             21\n",
       "49574       49575          NaN       100             21\n",
       "49640       49641          NaN       100             21\n",
       "49663       49664          NaN       100             21\n",
       "49668       49669          NaN       100             21\n",
       "\n",
       "[1258 rows x 4 columns]"
      ]
     },
     "execution_count": 36,
     "metadata": {},
     "output_type": "execute_result"
    }
   ],
   "source": [
    "# Encuentra los valores ausentes en la columna 'product_name'\n",
    "products[products['product_name'].isna()]"
   ]
  },
  {
   "cell_type": "markdown",
   "id": "-A6x1AbJhjkp",
   "metadata": {
    "id": "-A6x1AbJhjkp"
   },
   "source": [
    "Describe brevemente cuáles son tus hallazgos.\n",
    "    \n",
    "    Contamos con 1258 valores ausentes en la columna de product name\n",
    "    "
   ]
  },
  {
   "cell_type": "code",
   "execution_count": 37,
   "id": "e96167bc",
   "metadata": {
    "id": "e96167bc"
   },
   "outputs": [
    {
     "data": {
      "application/vnd.microsoft.datawrangler.viewer.v0+json": {
       "columns": [
        {
         "name": "aisle_id",
         "rawType": "int64",
         "type": "integer"
        },
        {
         "name": "count",
         "rawType": "int64",
         "type": "integer"
        }
       ],
       "ref": "eb5f7654-0021-44ad-a4ed-07788a083fac",
       "rows": [
        [
         "100",
         "1258"
        ]
       ],
       "shape": {
        "columns": 1,
        "rows": 1
       }
      },
      "text/plain": [
       "aisle_id\n",
       "100    1258\n",
       "Name: count, dtype: int64"
      ]
     },
     "execution_count": 37,
     "metadata": {},
     "output_type": "execute_result"
    }
   ],
   "source": [
    "#  ¿Todos los nombres de productos ausentes están relacionados con el pasillo con ID 100?\n",
    "products[products['product_name'].isna()]['aisle_id'].value_counts()"
   ]
  },
  {
   "cell_type": "markdown",
   "id": "WRpIfXRphpSL",
   "metadata": {
    "id": "WRpIfXRphpSL"
   },
   "source": [
    "Describe brevemente cuáles son tus hallazgos.\n",
    "\n",
    "    Todos los valores ausentes pertenecen al pasillo número 100"
   ]
  },
  {
   "cell_type": "code",
   "execution_count": 38,
   "id": "8fd0a541",
   "metadata": {
    "id": "8fd0a541"
   },
   "outputs": [
    {
     "data": {
      "application/vnd.microsoft.datawrangler.viewer.v0+json": {
       "columns": [
        {
         "name": "department_id",
         "rawType": "int64",
         "type": "integer"
        },
        {
         "name": "count",
         "rawType": "int64",
         "type": "integer"
        }
       ],
       "ref": "5ff39b29-7751-4eb8-976c-6dce030d81a6",
       "rows": [
        [
         "21",
         "1258"
        ]
       ],
       "shape": {
        "columns": 1,
        "rows": 1
       }
      },
      "text/plain": [
       "department_id\n",
       "21    1258\n",
       "Name: count, dtype: int64"
      ]
     },
     "execution_count": 38,
     "metadata": {},
     "output_type": "execute_result"
    }
   ],
   "source": [
    "# ¿Todos los nombres de productos ausentes están relacionados con el departamento con ID 21?\n",
    "products[products['product_name'].isna()]['department_id'].value_counts()"
   ]
  },
  {
   "cell_type": "markdown",
   "id": "qDpdYn1Fht_I",
   "metadata": {
    "id": "qDpdYn1Fht_I"
   },
   "source": [
    "Describe brevemente cuáles son tus hallazgos.\n",
    "\n",
    "    Todos los valores nulos pertenecen al departamento número 21"
   ]
  },
  {
   "cell_type": "code",
   "execution_count": 39,
   "id": "325c3464",
   "metadata": {
    "id": "325c3464"
   },
   "outputs": [
    {
     "data": {
      "application/vnd.microsoft.datawrangler.viewer.v0+json": {
       "columns": [
        {
         "name": "index",
         "rawType": "int64",
         "type": "integer"
        },
        {
         "name": "product_id",
         "rawType": "int64",
         "type": "integer"
        },
        {
         "name": "product_name",
         "rawType": "object",
         "type": "unknown"
        },
        {
         "name": "aisle_id",
         "rawType": "int64",
         "type": "integer"
        },
        {
         "name": "department_id",
         "rawType": "int64",
         "type": "integer"
        }
       ],
       "ref": "6340bc6e-9997-49d8-9074-0ca8ce6dc0e1",
       "rows": [
        [
         "37",
         "38",
         null,
         "100",
         "21"
        ],
        [
         "71",
         "72",
         null,
         "100",
         "21"
        ],
        [
         "109",
         "110",
         null,
         "100",
         "21"
        ],
        [
         "296",
         "297",
         null,
         "100",
         "21"
        ],
        [
         "416",
         "417",
         null,
         "100",
         "21"
        ],
        [
         "436",
         "437",
         null,
         "100",
         "21"
        ],
        [
         "439",
         "440",
         null,
         "100",
         "21"
        ],
        [
         "471",
         "472",
         null,
         "100",
         "21"
        ],
        [
         "490",
         "491",
         null,
         "100",
         "21"
        ],
        [
         "555",
         "556",
         null,
         "100",
         "21"
        ],
        [
         "561",
         "562",
         null,
         "100",
         "21"
        ],
        [
         "613",
         "614",
         null,
         "100",
         "21"
        ],
        [
         "623",
         "624",
         null,
         "100",
         "21"
        ],
        [
         "689",
         "690",
         null,
         "100",
         "21"
        ],
        [
         "767",
         "768",
         null,
         "100",
         "21"
        ],
        [
         "803",
         "804",
         null,
         "100",
         "21"
        ],
        [
         "890",
         "891",
         null,
         "100",
         "21"
        ],
        [
         "990",
         "991",
         null,
         "100",
         "21"
        ],
        [
         "1018",
         "1019",
         null,
         "100",
         "21"
        ],
        [
         "1054",
         "1055",
         null,
         "100",
         "21"
        ],
        [
         "1217",
         "1218",
         null,
         "100",
         "21"
        ],
        [
         "1282",
         "1283",
         null,
         "100",
         "21"
        ],
        [
         "1301",
         "1302",
         null,
         "100",
         "21"
        ],
        [
         "1386",
         "1387",
         null,
         "100",
         "21"
        ],
        [
         "1547",
         "1548",
         null,
         "100",
         "21"
        ],
        [
         "1561",
         "1562",
         null,
         "100",
         "21"
        ],
        [
         "1714",
         "1715",
         null,
         "100",
         "21"
        ],
        [
         "1717",
         "1718",
         null,
         "100",
         "21"
        ],
        [
         "1741",
         "1742",
         null,
         "100",
         "21"
        ],
        [
         "1797",
         "1798",
         null,
         "100",
         "21"
        ],
        [
         "1858",
         "1859",
         null,
         "100",
         "21"
        ],
        [
         "1960",
         "1961",
         null,
         "100",
         "21"
        ],
        [
         "2031",
         "2032",
         null,
         "100",
         "21"
        ],
        [
         "2081",
         "2082",
         null,
         "100",
         "21"
        ],
        [
         "2133",
         "2134",
         null,
         "100",
         "21"
        ],
        [
         "2161",
         "2162",
         null,
         "100",
         "21"
        ],
        [
         "2197",
         "2198",
         null,
         "100",
         "21"
        ],
        [
         "2264",
         "2265",
         null,
         "100",
         "21"
        ],
        [
         "2334",
         "2335",
         null,
         "100",
         "21"
        ],
        [
         "2370",
         "2371",
         null,
         "100",
         "21"
        ],
        [
         "2374",
         "2375",
         null,
         "100",
         "21"
        ],
        [
         "2383",
         "2384",
         null,
         "100",
         "21"
        ],
        [
         "2506",
         "2507",
         null,
         "100",
         "21"
        ],
        [
         "2553",
         "2554",
         null,
         "100",
         "21"
        ],
        [
         "2556",
         "2557",
         null,
         "100",
         "21"
        ],
        [
         "2576",
         "2577",
         null,
         "100",
         "21"
        ],
        [
         "2591",
         "2592",
         null,
         "100",
         "21"
        ],
        [
         "2607",
         "2608",
         null,
         "100",
         "21"
        ],
        [
         "2672",
         "2673",
         null,
         "100",
         "21"
        ],
        [
         "2686",
         "2687",
         null,
         "100",
         "21"
        ]
       ],
       "shape": {
        "columns": 4,
        "rows": 1258
       }
      },
      "text/html": [
       "<div>\n",
       "<style scoped>\n",
       "    .dataframe tbody tr th:only-of-type {\n",
       "        vertical-align: middle;\n",
       "    }\n",
       "\n",
       "    .dataframe tbody tr th {\n",
       "        vertical-align: top;\n",
       "    }\n",
       "\n",
       "    .dataframe thead th {\n",
       "        text-align: right;\n",
       "    }\n",
       "</style>\n",
       "<table border=\"1\" class=\"dataframe\">\n",
       "  <thead>\n",
       "    <tr style=\"text-align: right;\">\n",
       "      <th></th>\n",
       "      <th>product_id</th>\n",
       "      <th>product_name</th>\n",
       "      <th>aisle_id</th>\n",
       "      <th>department_id</th>\n",
       "    </tr>\n",
       "  </thead>\n",
       "  <tbody>\n",
       "    <tr>\n",
       "      <th>37</th>\n",
       "      <td>38</td>\n",
       "      <td>NaN</td>\n",
       "      <td>100</td>\n",
       "      <td>21</td>\n",
       "    </tr>\n",
       "    <tr>\n",
       "      <th>71</th>\n",
       "      <td>72</td>\n",
       "      <td>NaN</td>\n",
       "      <td>100</td>\n",
       "      <td>21</td>\n",
       "    </tr>\n",
       "    <tr>\n",
       "      <th>109</th>\n",
       "      <td>110</td>\n",
       "      <td>NaN</td>\n",
       "      <td>100</td>\n",
       "      <td>21</td>\n",
       "    </tr>\n",
       "    <tr>\n",
       "      <th>296</th>\n",
       "      <td>297</td>\n",
       "      <td>NaN</td>\n",
       "      <td>100</td>\n",
       "      <td>21</td>\n",
       "    </tr>\n",
       "    <tr>\n",
       "      <th>416</th>\n",
       "      <td>417</td>\n",
       "      <td>NaN</td>\n",
       "      <td>100</td>\n",
       "      <td>21</td>\n",
       "    </tr>\n",
       "    <tr>\n",
       "      <th>...</th>\n",
       "      <td>...</td>\n",
       "      <td>...</td>\n",
       "      <td>...</td>\n",
       "      <td>...</td>\n",
       "    </tr>\n",
       "    <tr>\n",
       "      <th>49552</th>\n",
       "      <td>49553</td>\n",
       "      <td>NaN</td>\n",
       "      <td>100</td>\n",
       "      <td>21</td>\n",
       "    </tr>\n",
       "    <tr>\n",
       "      <th>49574</th>\n",
       "      <td>49575</td>\n",
       "      <td>NaN</td>\n",
       "      <td>100</td>\n",
       "      <td>21</td>\n",
       "    </tr>\n",
       "    <tr>\n",
       "      <th>49640</th>\n",
       "      <td>49641</td>\n",
       "      <td>NaN</td>\n",
       "      <td>100</td>\n",
       "      <td>21</td>\n",
       "    </tr>\n",
       "    <tr>\n",
       "      <th>49663</th>\n",
       "      <td>49664</td>\n",
       "      <td>NaN</td>\n",
       "      <td>100</td>\n",
       "      <td>21</td>\n",
       "    </tr>\n",
       "    <tr>\n",
       "      <th>49668</th>\n",
       "      <td>49669</td>\n",
       "      <td>NaN</td>\n",
       "      <td>100</td>\n",
       "      <td>21</td>\n",
       "    </tr>\n",
       "  </tbody>\n",
       "</table>\n",
       "<p>1258 rows × 4 columns</p>\n",
       "</div>"
      ],
      "text/plain": [
       "       product_id product_name  aisle_id  department_id\n",
       "37             38          NaN       100             21\n",
       "71             72          NaN       100             21\n",
       "109           110          NaN       100             21\n",
       "296           297          NaN       100             21\n",
       "416           417          NaN       100             21\n",
       "...           ...          ...       ...            ...\n",
       "49552       49553          NaN       100             21\n",
       "49574       49575          NaN       100             21\n",
       "49640       49641          NaN       100             21\n",
       "49663       49664          NaN       100             21\n",
       "49668       49669          NaN       100             21\n",
       "\n",
       "[1258 rows x 4 columns]"
      ]
     },
     "execution_count": 39,
     "metadata": {},
     "output_type": "execute_result"
    }
   ],
   "source": [
    "# Usa las tablas department y aisle para revisar los datos del pasillo con ID 100 y el departamento con ID 21.\n",
    "df_missing = products[\n",
    "    (products['department_id'] == 21) & \n",
    "    (products['aisle_id'] == 100) & \n",
    "    (products['product_name'].isna())\n",
    "]\n",
    "# Muestra el resultado\n",
    "df_missing"
   ]
  },
  {
   "cell_type": "markdown",
   "id": "nqhSTUPhhvEJ",
   "metadata": {
    "id": "nqhSTUPhhvEJ"
   },
   "source": [
    "Describe brevemente cuáles son tus hallazgos.\n",
    "\n",
    "Se identificaron 1,258 productos con las siguientes características:\n",
    "\n",
    "    Departamento: 21 (etiquetado como 'NaN')\n",
    "\n",
    "    Pasillo: 100 (etiquetado como 'NaN')\n",
    "\n",
    "    Nombre de producto: No disponible (valores nulos o vacíos)  "
   ]
  },
  {
   "cell_type": "code",
   "execution_count": 40,
   "id": "6b295120",
   "metadata": {
    "id": "6b295120"
   },
   "outputs": [
    {
     "data": {
      "application/vnd.microsoft.datawrangler.viewer.v0+json": {
       "columns": [
        {
         "name": "product_name",
         "rawType": "object",
         "type": "string"
        },
        {
         "name": "count",
         "rawType": "int64",
         "type": "integer"
        }
       ],
       "ref": "47ef7e49-6de5-4db4-bcc8-3aa66319e58a",
       "rows": [
        [
         "Unknown",
         "1258"
        ],
        [
         "Chocolate Sandwich Cookies",
         "1"
        ],
        [
         "Krinkle Cut Carolina BBQ Potato Chips",
         "1"
        ],
        [
         "Fresh Ground Turkey- 85% Lean/15% Fat",
         "1"
        ],
        [
         "Organic Unsweetened Ketchup",
         "1"
        ]
       ],
       "shape": {
        "columns": 1,
        "rows": 5
       }
      },
      "text/plain": [
       "product_name\n",
       "Unknown                                  1258\n",
       "Chocolate Sandwich Cookies                  1\n",
       "Krinkle Cut Carolina BBQ Potato Chips       1\n",
       "Fresh Ground Turkey- 85% Lean/15% Fat       1\n",
       "Organic Unsweetened Ketchup                 1\n",
       "Name: count, dtype: int64"
      ]
     },
     "execution_count": 40,
     "metadata": {},
     "output_type": "execute_result"
    }
   ],
   "source": [
    "# Completa los nombres de productos ausentes con 'Unknown'\n",
    "products['product_name'].fillna('Unknown', inplace=True)\n",
    "products['product_name'].value_counts().head(5)\n"
   ]
  },
  {
   "cell_type": "markdown",
   "id": "fc70e5ad",
   "metadata": {
    "id": "fc70e5ad"
   },
   "source": [
    "Describe brevemente tus hallazgos y lo que hiciste con ellos.\n",
    "\n",
    "    Se ejecutó un proceso de limpieza en la columna product_name donde los valores nulos (NaN) fueron reemplazados por el texto \"Unknown\"."
   ]
  },
  {
   "cell_type": "markdown",
   "id": "7eb45c86",
   "metadata": {
    "id": "7eb45c86"
   },
   "source": [
    "### `orders` data frame"
   ]
  },
  {
   "cell_type": "code",
   "execution_count": 41,
   "id": "93e41d96",
   "metadata": {
    "id": "93e41d96"
   },
   "outputs": [
    {
     "data": {
      "application/vnd.microsoft.datawrangler.viewer.v0+json": {
       "columns": [
        {
         "name": "index",
         "rawType": "object",
         "type": "string"
        },
        {
         "name": "0",
         "rawType": "int64",
         "type": "integer"
        }
       ],
       "ref": "bc60a91f-0648-4d17-8232-4f13a826032c",
       "rows": [
        [
         "order_id",
         "0"
        ],
        [
         "user_id",
         "0"
        ],
        [
         "order_number",
         "0"
        ],
        [
         "order_dow",
         "0"
        ],
        [
         "order_hour_of_day",
         "0"
        ],
        [
         "days_since_prior_order",
         "28817"
        ]
       ],
       "shape": {
        "columns": 1,
        "rows": 6
       }
      },
      "text/plain": [
       "order_id                      0\n",
       "user_id                       0\n",
       "order_number                  0\n",
       "order_dow                     0\n",
       "order_hour_of_day             0\n",
       "days_since_prior_order    28817\n",
       "dtype: int64"
      ]
     },
     "execution_count": 41,
     "metadata": {},
     "output_type": "execute_result"
    }
   ],
   "source": [
    "# Encuentra los valores ausentes\n",
    "orders.isna().sum()"
   ]
  },
  {
   "cell_type": "code",
   "execution_count": 42,
   "id": "b22bf2a8",
   "metadata": {},
   "outputs": [
    {
     "name": "stdout",
     "output_type": "stream",
     "text": [
      "(0, 6)\n"
     ]
    }
   ],
   "source": [
    "# ¿Hay algún valor ausente que no sea el primer pedido del cliente?\n",
    "print(orders[\n",
    "    (orders['days_since_prior_order'].isna()) & \n",
    "    (~orders['order_number'] == 1)].shape)"
   ]
  },
  {
   "cell_type": "code",
   "execution_count": 43,
   "id": "166e5a86",
   "metadata": {
    "id": "166e5a86"
   },
   "outputs": [
    {
     "data": {
      "application/vnd.microsoft.datawrangler.viewer.v0+json": {
       "columns": [
        {
         "name": "index",
         "rawType": "object",
         "type": "string"
        },
        {
         "name": "0",
         "rawType": "int64",
         "type": "integer"
        }
       ],
       "ref": "1936a151-ea01-4c1f-8e69-00821794b4e1",
       "rows": [
        [
         "order_id",
         "0"
        ],
        [
         "user_id",
         "0"
        ],
        [
         "order_number",
         "0"
        ],
        [
         "order_dow",
         "0"
        ],
        [
         "order_hour_of_day",
         "0"
        ],
        [
         "days_since_prior_order",
         "0"
        ]
       ],
       "shape": {
        "columns": 1,
        "rows": 6
       }
      },
      "text/plain": [
       "order_id                  0\n",
       "user_id                   0\n",
       "order_number              0\n",
       "order_dow                 0\n",
       "order_hour_of_day         0\n",
       "days_since_prior_order    0\n",
       "dtype: int64"
      ]
     },
     "execution_count": 43,
     "metadata": {},
     "output_type": "execute_result"
    }
   ],
   "source": [
    "orders = orders.fillna(0)\n",
    "orders.isna().sum()"
   ]
  },
  {
   "cell_type": "markdown",
   "id": "4e23d089",
   "metadata": {
    "id": "4e23d089"
   },
   "source": [
    "Describe brevemente tus hallazgos y lo que hiciste con ellos.\n",
    "\n",
    "    Todos los valores ausentes vienen de la primera compra\n",
    "\n",
    "    \n",
    "    "
   ]
  },
  {
   "cell_type": "markdown",
   "id": "69dc9ca4",
   "metadata": {
    "id": "69dc9ca4"
   },
   "source": [
    "### `order_products` data frame"
   ]
  },
  {
   "cell_type": "code",
   "execution_count": 44,
   "id": "b8240253",
   "metadata": {
    "id": "b8240253"
   },
   "outputs": [
    {
     "data": {
      "application/vnd.microsoft.datawrangler.viewer.v0+json": {
       "columns": [
        {
         "name": "index",
         "rawType": "object",
         "type": "string"
        },
        {
         "name": "0",
         "rawType": "int64",
         "type": "integer"
        }
       ],
       "ref": "c1b78977-a435-4b54-a226-8aa0e0d57372",
       "rows": [
        [
         "order_id",
         "0"
        ],
        [
         "product_id",
         "0"
        ],
        [
         "add_to_cart_order",
         "836"
        ],
        [
         "reordered",
         "0"
        ]
       ],
       "shape": {
        "columns": 1,
        "rows": 4
       }
      },
      "text/plain": [
       "order_id               0\n",
       "product_id             0\n",
       "add_to_cart_order    836\n",
       "reordered              0\n",
       "dtype: int64"
      ]
     },
     "execution_count": 44,
     "metadata": {},
     "output_type": "execute_result"
    }
   ],
   "source": [
    "# Encuentra los valores ausentes\n",
    "order_products.isna().sum()"
   ]
  },
  {
   "cell_type": "code",
   "execution_count": 45,
   "id": "d71e7722",
   "metadata": {},
   "outputs": [
    {
     "name": "stdout",
     "output_type": "stream",
     "text": [
      "Orden mínimo en carrito: 1.0\n",
      "Orden máximo en carrito: 64.0\n"
     ]
    }
   ],
   "source": [
    "# ¿Cuáles son los valores mínimos y máximos en esta columna?\n",
    "min_val, max_val = order_products['add_to_cart_order'].min(), order_products['add_to_cart_order'].max()\n",
    "print(f\"Orden mínimo en carrito: {min_val}\")\n",
    "print(f\"Orden máximo en carrito: {max_val}\")   "
   ]
  },
  {
   "cell_type": "markdown",
   "id": "-Z2Ja215jW78",
   "metadata": {
    "id": "-Z2Ja215jW78"
   },
   "source": [
    "Describe brevemente cuáles son tus hallazgos.\n",
    "   \n",
    "    Existen 836 valores ausentes (NaN) en la columna add_to_cart_order, \n",
    "    \n",
    "    Los valores no nulos van desde 1 hasta 64, lo que sugiere que el campo representa el orden en que se agregaron productos al carrito (1 = primer producto, 64 = último).\n",
    "\n"
   ]
  },
  {
   "cell_type": "code",
   "execution_count": 46,
   "id": "d6717840-b72c-457e-8432-507fae385a37",
   "metadata": {
    "id": "ab9d0c2b"
   },
   "outputs": [
    {
     "data": {
      "text/plain": [
       "array([2449164, 1968313, 2926893, 1717990, 1959075,  844733,   61355,\n",
       "        936852,  264710, 1564093,  129627,  293169, 2849370, 1386261,\n",
       "       3308010,  903110, 2136777, 3347453, 1888628,  165801, 2094761,\n",
       "       1038146, 2997021,  813364, 2256933,  171934, 2409109, 1730767,\n",
       "       1169835,  733526,  404157, 3125735,  747668, 1800005, 1961723,\n",
       "        871281,  388234, 1648217, 1477139,  102236, 1021563, 1832957,\n",
       "       2721963,  678116, 1220886, 1673227, 2999801, 1633337, 2470674,\n",
       "       2625444, 1677118, 2479011, 3383594, 1183255, 1713430, 2652650,\n",
       "       1598369, 1916118,  854647, 1302315,  888470,  180546, 2621907,\n",
       "       1308785, 2729254,    9310, 2170451, 2979697, 1625713, 1529171],\n",
       "      dtype=int64)"
      ]
     },
     "execution_count": 46,
     "metadata": {},
     "output_type": "execute_result"
    }
   ],
   "source": [
    "# Guarda todas las IDs de pedidos que tengan un valor ausente en 'add_to_cart_order'\n",
    "missing_order_ids = order_products[order_products['add_to_cart_order'].isna()]['order_id'].unique()\n",
    "\n",
    "# ¿Cuántos pedidos tienen un valor ausente en 'add_to_cart_order'?\n",
    "missing_order_ids"
   ]
  },
  {
   "cell_type": "code",
   "execution_count": 47,
   "id": "54c31695",
   "metadata": {
    "id": "54c31695"
   },
   "outputs": [
    {
     "name": "stdout",
     "output_type": "stream",
     "text": [
      "¿Todos los pedidos con valores ausentes tienen más de 64 productos?: False\n",
      "Mínimo de productos: 1\n",
      "Total de pedidos con valores ausentes: 70\n"
     ]
    }
   ],
   "source": [
    "# ¿Todos los pedidos con valores ausentes tienen más de 64 productos?\n",
    "# Agrupa todos los pedidos con datos ausentes por su ID de pedido.\n",
    "# Cuenta el número de 'product_id' en cada pedido y revisa el valor mínimo del conteo.\n",
    "missing_orders_product_count = order_products[order_products['add_to_cart_order'].isna()].groupby('order_id')['product_id'].count()\n",
    "\n",
    "print(f\"¿Todos los pedidos con valores ausentes tienen más de 64 productos?: {(missing_orders_product_count > 64).all()}\")\n",
    "print(f\"Mínimo de productos: {missing_orders_product_count.min()}\")\n",
    "print(f\"Total de pedidos con valores ausentes: {len(missing_orders_product_count)}\")"
   ]
  },
  {
   "cell_type": "markdown",
   "id": "p9V6pddtjglj",
   "metadata": {
    "id": "p9V6pddtjglj"
   },
   "source": [
    "Describe brevemente cuáles son tus hallazgos.\n",
    "\n",
    "    Se identificaron 70 pedidos únicos con valores ausentes en add_to_cart_order. Sin embargo, no todos estos pedidos tienen más de 64 productos; el pedido con el menor número de productos tiene solo 1 artículo.    "
   ]
  },
  {
   "cell_type": "code",
   "execution_count": 48,
   "id": "7a987d08",
   "metadata": {
    "id": "7a987d08"
   },
   "outputs": [
    {
     "data": {
      "application/vnd.microsoft.datawrangler.viewer.v0+json": {
       "columns": [
        {
         "name": "index",
         "rawType": "object",
         "type": "string"
        },
        {
         "name": "0",
         "rawType": "int64",
         "type": "integer"
        }
       ],
       "ref": "58274664-6039-4cbe-8035-fd1b38e16495",
       "rows": [
        [
         "order_id",
         "0"
        ],
        [
         "product_id",
         "0"
        ],
        [
         "add_to_cart_order",
         "0"
        ],
        [
         "reordered",
         "0"
        ]
       ],
       "shape": {
        "columns": 1,
        "rows": 4
       }
      },
      "text/plain": [
       "order_id             0\n",
       "product_id           0\n",
       "add_to_cart_order    0\n",
       "reordered            0\n",
       "dtype: int64"
      ]
     },
     "execution_count": 48,
     "metadata": {},
     "output_type": "execute_result"
    }
   ],
   "source": [
    "# Remplaza los valores ausentes en la columna 'add_to_cart? con 999 y convierte la columna al tipo entero.\n",
    "order_products['add_to_cart_order'] = order_products['add_to_cart_order'].fillna(999).astype(int)\n",
    "\n",
    "order_products.isna().sum()"
   ]
  },
  {
   "cell_type": "markdown",
   "id": "fea4bcc7",
   "metadata": {
    "id": "fea4bcc7"
   },
   "source": [
    "Describe brevemente tus hallazgos y lo que hiciste con ellos.\n",
    "\n",
    "    Se decidió reemplazar los NaN con 999 (un valor fuera del rango normal 1-64) y convertir la columna a entero, con la finalidad de mantener los registros sin eliminarlos e dentificar fácilmente los casos atípicos (999) en análisis posteriores. "
   ]
  },
  {
   "cell_type": "markdown",
   "id": "RnplPFY1gSrb",
   "metadata": {
    "id": "RnplPFY1gSrb"
   },
   "source": [
    "## Conclusiones\n",
    "\n",
    "Escribe aquí tus conclusiones intermedias sobre el Paso 2. Preprocesamiento de los datos\n",
    "\n",
    "\n",
    "        Se realizó una limpieza efectiva de los datos, eliminando duplicados (como los pedidos repetidos por errores técnicos) y manejando valores ausentes mediante imputaciones lógicas:\n",
    "\n",
    "        product_name (nulos) → \"Unknown\"\n",
    "\n",
    "        days_since_prior_order (nulos) → 0 (primera compra).\n",
    "\n",
    "        add_to_cart_order (nulos) → 999 (para diferenciarlos del rango normal 1-64).\n",
    "\n",
    "    Se verificó la calidad de los datos (rangos, tipos de datos y consistencia), asegurando que estén listos para análisis sin distorsiones. Los valores nulos en add_to_cart_order no siguieron un patrón claro, pero su imputación con 999 permite identificarlos fácilmente en futuros estudios.\n",
    "    \n",
    "    El preprocesamiento de los datos permitió identificar y corregir problemas clave, como duplicados, valores ausentes y tipos de datos inconsistentes. Estas acciones aseguran que los datos estén limpios y listos para el análisis exploratorio y la generación de insights.\n"
   ]
  },
  {
   "cell_type": "markdown",
   "id": "UjrOIwTcz3ri",
   "metadata": {
    "id": "UjrOIwTcz3ri"
   },
   "source": [
    "# Paso 3. Análisis de los datos\n",
    "\n",
    "Una vez los datos estén procesados y listos, haz el siguiente análisis:"
   ]
  },
  {
   "cell_type": "markdown",
   "id": "turkish-kidney",
   "metadata": {
    "id": "turkish-kidney"
   },
   "source": [
    "# [A] Fácil (deben completarse todos para aprobar)\n",
    "\n",
    "1. Verifica que los valores en las columnas `'order_hour_of_day'` y `'order_dow'` en la tabla orders sean razonables (es decir, `'order_hour_of_day'` oscile entre 0 y 23 y `'order_dow'` oscile entre 0 y 6).\n",
    "2. Crea un gráfico que muestre el número de personas que hacen pedidos dependiendo de la hora del día.\n",
    "3. Crea un gráfico que muestre qué día de la semana la gente hace sus compras.\n",
    "4. Crea un gráfico que muestre el tiempo que la gente espera hasta hacer su siguiente pedido, y comenta sobre los valores mínimos y máximos."
   ]
  },
  {
   "cell_type": "markdown",
   "id": "short-capability",
   "metadata": {
    "id": "short-capability"
   },
   "source": [
    "### [A1] Verifica que los valores sean sensibles"
   ]
  },
  {
   "cell_type": "code",
   "execution_count": 49,
   "id": "growing-fruit",
   "metadata": {
    "id": "growing-fruit"
   },
   "outputs": [
    {
     "name": "stdout",
     "output_type": "stream",
     "text": [
      "Número de registros fuera de rango: 0\n"
     ]
    }
   ],
   "source": [
    "# Mostrar el número de registros con valores fuera de rango\n",
    "out_of_range_count = orders[~orders['order_dow'].between(0, 6) | ~orders['order_hour_of_day'].between(0, 23)].shape[0]\n",
    "print(f\"Número de registros fuera de rango: {out_of_range_count}\")"
   ]
  },
  {
   "cell_type": "markdown",
   "id": "hmR2GNQ6lCsX",
   "metadata": {
    "id": "hmR2GNQ6lCsX"
   },
   "source": [
    "Escribe aquí tus conclusiones\n",
    "\n",
    "    Los datos son consistentes y no presentan valores anómalos en estas columnas."
   ]
  },
  {
   "cell_type": "markdown",
   "id": "a6743a70",
   "metadata": {
    "id": "a6743a70"
   },
   "source": [
    "### [A2] Para cada hora del día, ¿cuántas personas hacen órdenes?"
   ]
  },
  {
   "cell_type": "code",
   "execution_count": 50,
   "id": "a36cca27",
   "metadata": {
    "id": "a36cca27"
   },
   "outputs": [
    {
     "data": {
      "image/png": "[encoded data removed]",
      "text/plain": [
       "<Figure size 1000x600 with 1 Axes>"
      ]
     },
     "metadata": {},
     "output_type": "display_data"
    }
   ],
   "source": [
    "hourly_orders = orders['order_hour_of_day'].value_counts().sort_index()\n",
    "\n",
    "# Graficar\n",
    "plt.figure(figsize=(10, 6))\n",
    "hourly_orders.plot(kind='bar', color='skyblue')\n",
    "plt.title('Número de pedidos por hora del día')\n",
    "plt.xlabel('Hora del día')\n",
    "plt.ylabel('Número de pedidos')\n",
    "plt.xticks(rotation=0)\n",
    "plt.grid(axis='y', linestyle='--', alpha=0.7)\n",
    "plt.show()"
   ]
  },
  {
   "cell_type": "markdown",
   "id": "11270eed",
   "metadata": {
    "id": "11270eed"
   },
   "source": [
    "Escribe aquí tus conclusiones\n",
    "\n",
    "        Existen horas pico en las que se realizan más pedidos, probablemente relacionadas con los horarios en los que los usuarios están más activos, como las mañanas o las tardes. Por otro lado, las horas de menor actividad, como la madrugada, muestran una baja en el número de pedidos.\n",
    "\n",
    "    El comportamiento puede estar relacionado con los hábitos alimenticios y horarios de consumo ya que los usuarios tienden a realizar más pedidos durante estos momentos del día."
   ]
  },
  {
   "cell_type": "markdown",
   "id": "documented-command",
   "metadata": {
    "id": "documented-command"
   },
   "source": [
    "### [A3] ¿Qué día de la semana compran víveres las personas?"
   ]
  },
  {
   "cell_type": "code",
   "execution_count": 51,
   "id": "chief-digit",
   "metadata": {
    "id": "chief-digit"
   },
   "outputs": [
    {
     "data": {
      "image/png": "[encoded data removed]",
      "text/plain": [
       "<Figure size 1000x600 with 1 Axes>"
      ]
     },
     "metadata": {},
     "output_type": "display_data"
    }
   ],
   "source": [
    "dow_orders = orders['order_dow'].value_counts().sort_index()\n",
    "\n",
    "# Graficar\n",
    "plt.figure(figsize=(10, 6))\n",
    "dow_orders.plot(kind='bar', color='lightgreen')\n",
    "plt.title('Número de pedidos por día de la semana')\n",
    "plt.xlabel('Día de la semana (0 = Domingo)')\n",
    "plt.ylabel('Número de pedidos')\n",
    "plt.xticks(rotation=0)\n",
    "plt.grid(axis='y', linestyle='--', alpha=0.7)\n",
    "plt.show()"
   ]
  },
  {
   "cell_type": "markdown",
   "id": "dominant-lightning",
   "metadata": {
    "id": "dominant-lightning"
   },
   "source": [
    "Escribe aquí tus conclusiones\n",
    "\n",
    "        Domingo y lunes son los días que registran más pedidos"
   ]
  },
  {
   "cell_type": "markdown",
   "id": "cutting-concert",
   "metadata": {
    "id": "cutting-concert"
   },
   "source": [
    "### [A4] ¿Cuánto tiempo esperan las personas hasta hacer otro pedido? Comenta sobre los valores mínimos y máximos."
   ]
  },
  {
   "cell_type": "code",
   "execution_count": 52,
   "id": "c231f523",
   "metadata": {
    "id": "c231f523"
   },
   "outputs": [
    {
     "data": {
      "image/png": "[encoded data removed]",
      "text/plain": [
       "<Figure size 1000x600 with 1 Axes>"
      ]
     },
     "metadata": {},
     "output_type": "display_data"
    }
   ],
   "source": [
    "plt.figure(figsize=(10, 6))\n",
    "orders['days_since_prior_order'].value_counts().sort_index().plot(kind='bar', color='salmon')\n",
    "plt.title('Tiempo de espera hasta el siguiente pedido')\n",
    "plt.xlabel('Días desde el pedido anterior')\n",
    "plt.ylabel('Frecuencia')\n",
    "plt.grid(axis='y', linestyle='--')\n",
    "plt.show()"
   ]
  },
  {
   "cell_type": "code",
   "execution_count": 53,
   "id": "6174fc21-3a2f-407f-8345-63d01acc503f",
   "metadata": {},
   "outputs": [
    {
     "data": {
      "application/vnd.microsoft.datawrangler.viewer.v0+json": {
       "columns": [
        {
         "name": "days_since_prior_order",
         "rawType": "float64",
         "type": "float"
        },
        {
         "name": "count",
         "rawType": "int64",
         "type": "integer"
        }
       ],
       "ref": "5f09826f-fee4-43af-b3b1-7f93cc5ed030",
       "rows": [
        [
         "30.0",
         "51337"
        ],
        [
         "7.0",
         "44577"
        ],
        [
         "0.0",
         "38406"
        ],
        [
         "6.0",
         "33930"
        ],
        [
         "4.0",
         "31006"
        ],
        [
         "3.0",
         "30224"
        ],
        [
         "5.0",
         "30096"
        ],
        [
         "2.0",
         "27138"
        ],
        [
         "8.0",
         "25361"
        ],
        [
         "1.0",
         "20179"
        ]
       ],
       "shape": {
        "columns": 1,
        "rows": 10
       }
      },
      "text/plain": [
       "days_since_prior_order\n",
       "30.0    51337\n",
       "7.0     44577\n",
       "0.0     38406\n",
       "6.0     33930\n",
       "4.0     31006\n",
       "3.0     30224\n",
       "5.0     30096\n",
       "2.0     27138\n",
       "8.0     25361\n",
       "1.0     20179\n",
       "Name: count, dtype: int64"
      ]
     },
     "execution_count": 53,
     "metadata": {},
     "output_type": "execute_result"
    }
   ],
   "source": [
    "top_days = orders['days_since_prior_order'].value_counts(ascending=False).head(10)\n",
    "\n",
    "top_days "
   ]
  },
  {
   "cell_type": "markdown",
   "id": "discrete-vertex",
   "metadata": {
    "id": "discrete-vertex"
   },
   "source": [
    "Escribe aquí tus conclusiones\n",
    "\n",
    "     Los datos revelan tres perfiles principales: compradores mensuales, semanales y frecuentes, así también muestran que hay un segmento significativo de clientes que compra cada 2–6 días.\n",
    "    "
   ]
  },
  {
   "cell_type": "markdown",
   "id": "tight-staff",
   "metadata": {
    "id": "tight-staff"
   },
   "source": [
    "# [B] Intermedio (deben completarse todos para aprobar)\n",
    "\n",
    "1. ¿Existe alguna diferencia entre las distribuciones `'order_hour_of_day'` de los miércoles y los sábados? Traza gráficos de barra de `'order_hour_of_day'` para ambos días en la misma figura y describe las diferencias que observes.\n",
    "2. Grafica la distribución para el número de órdenes que hacen los clientes (es decir, cuántos clientes hicieron solo 1 pedido, cuántos hicieron 2, cuántos 3, y así sucesivamente...).\n",
    "3. ¿Cuáles son los 20 principales productos que se piden con más frecuencia (muestra su identificación y nombre)?"
   ]
  },
  {
   "cell_type": "markdown",
   "id": "packed-classic",
   "metadata": {
    "id": "packed-classic"
   },
   "source": [
    "### [B1] Diferencia entre miércoles y sábados para  `'order_hour_of_day'`. Traza gráficos de barra para los dos días y describe las diferencias que veas."
   ]
  },
  {
   "cell_type": "code",
   "execution_count": 54,
   "id": "d89b8403",
   "metadata": {
    "id": "d89b8403"
   },
   "outputs": [
    {
     "data": {
      "image/png": "[encoded data removed]",
      "text/plain": [
       "<Figure size 1000x600 with 1 Axes>"
      ]
     },
     "metadata": {},
     "output_type": "display_data"
    }
   ],
   "source": [
    "# Filtrar los datos para miércoles y sábados\n",
    "wednesday_orders = orders[orders['order_dow'] == 3]['order_hour_of_day'].value_counts().sort_index()\n",
    "saturday_orders = orders[orders['order_dow'] == 6]['order_hour_of_day'].value_counts().sort_index()\n",
    "\n",
    "plt.figure(figsize=(10, 6))\n",
    "plt.plot(wednesday_orders.index, wednesday_orders.values, marker='o', label='Miércoles', color='blue')\n",
    "plt.plot(saturday_orders.index, saturday_orders.values, marker='o', label='Sábado', color='red')\n",
    "plt.title('Número de pedidos por hora del día (Miércoles vs Sábado)')\n",
    "plt.xlabel('Hora del día')\n",
    "plt.ylabel('Número de pedidos')\n",
    "plt.xticks(rotation=0)\n",
    "plt.legend()\n",
    "plt.grid(axis='y', linestyle='--', alpha=0.7)\n",
    "plt.show()"
   ]
  },
  {
   "cell_type": "markdown",
   "id": "charitable-congo",
   "metadata": {
    "id": "charitable-congo"
   },
   "source": [
    "Escribe aquí tus conclusiones\n",
    "\n",
    "    En el comportamiento del número de pedidos, podemos observar que los miércoles y sábados presentan patrones distintos en las horas pico. Los miércoles tienden a tener un flujo más constante de pedidos durante el día, mientras que los sábados muestran un aumento más pronunciado en las horas de la mañana y la tarde, probablemente debido a que más personas realizan compras durante el fin de semana. "
   ]
  },
  {
   "cell_type": "markdown",
   "id": "e3891143",
   "metadata": {
    "id": "e3891143"
   },
   "source": [
    "### [B2] ¿Cuál es la distribución para el número de pedidos por cliente?"
   ]
  },
  {
   "cell_type": "code",
   "execution_count": 55,
   "id": "d8c26c23",
   "metadata": {
    "id": "d8c26c23"
   },
   "outputs": [
    {
     "data": {
      "image/png": "[encoded data removed]",
      "text/plain": [
       "<Figure size 1000x600 with 1 Axes>"
      ]
     },
     "metadata": {},
     "output_type": "display_data"
    }
   ],
   "source": [
    "orders_per_user = orders.groupby('user_id')['order_id'].count()\n",
    "\n",
    "# Calcular la distribución de frecuencias\n",
    "distribution = orders_per_user.value_counts()\n",
    "\n",
    "# Mostrar la distribución\n",
    "plt.figure(figsize=(10, 6))\n",
    "distribution.head(10).sort_index().plot(kind='bar', color='purple')\n",
    "plt.title('Distribución de pedidos por usuario')\n",
    "plt.xlabel('Número de pedidos por usuario')\n",
    "plt.ylabel('Frecuencia')\n",
    "plt.xticks(rotation=0)\n",
    "plt.grid(axis='y', linestyle='--', alpha=0.7)\n",
    "plt.show()"
   ]
  },
  {
   "cell_type": "code",
   "execution_count": 56,
   "id": "00e69a66",
   "metadata": {
    "id": "00e69a66"
   },
   "outputs": [
    {
     "data": {
      "application/vnd.microsoft.datawrangler.viewer.v0+json": {
       "columns": [
        {
         "name": "order_id",
         "rawType": "int64",
         "type": "integer"
        },
        {
         "name": "count",
         "rawType": "int64",
         "type": "integer"
        }
       ],
       "ref": "90c5ce9f-37ed-4e5c-ba51-9797a543cb5c",
       "rows": [
        [
         "1",
         "55357"
        ],
        [
         "2",
         "36508"
        ],
        [
         "3",
         "21547"
        ],
        [
         "4",
         "13498"
        ],
        [
         "5",
         "8777"
        ],
        [
         "6",
         "6012"
        ],
        [
         "7",
         "4240"
        ],
        [
         "8",
         "3019"
        ],
        [
         "9",
         "2152"
        ],
        [
         "10",
         "1645"
        ]
       ],
       "shape": {
        "columns": 1,
        "rows": 10
       }
      },
      "text/plain": [
       "order_id\n",
       "1     55357\n",
       "2     36508\n",
       "3     21547\n",
       "4     13498\n",
       "5      8777\n",
       "6      6012\n",
       "7      4240\n",
       "8      3019\n",
       "9      2152\n",
       "10     1645\n",
       "Name: count, dtype: int64"
      ]
     },
     "execution_count": 56,
     "metadata": {},
     "output_type": "execute_result"
    }
   ],
   "source": [
    "orders_per_user = orders.groupby('user_id')['order_id'].count()\n",
    "\n",
    "# Calcular la distribución de frecuencias\n",
    "distribution = orders_per_user.value_counts()\n",
    "\n",
    "# Mostrar la distribución\n",
    "distribution.head(10)"
   ]
  },
  {
   "cell_type": "markdown",
   "id": "d2eff7d5",
   "metadata": {
    "id": "d2eff7d5"
   },
   "source": [
    "Escribe aquí tus conclusiones\n",
    "\n",
    "    Los usuarios realizan un número reducido de pedidos, mientras que un grupo más pequeño de usuarios realiza pedidos con mayor frecuencia. Esto sugiere que existe una base de clientes ocasionales y otra más comprometida que utiliza la plataforma de manera recurrente."
   ]
  },
  {
   "cell_type": "markdown",
   "id": "54a0319c",
   "metadata": {
    "id": "54a0319c"
   },
   "source": [
    "### [B3] ¿Cuáles son los 20 productos más populares (muestra su ID y nombre)?"
   ]
  },
  {
   "cell_type": "code",
   "execution_count": 63,
   "id": "exterior-arizona",
   "metadata": {
    "id": "exterior-arizona",
    "scrolled": true
   },
   "outputs": [
    {
     "data": {
      "image/png": "[encoded data removed]",
      "text/plain": [
       "<Figure size 1200x800 with 1 Axes>"
      ]
     },
     "metadata": {},
     "output_type": "display_data"
    },
    {
     "data": {
      "application/vnd.microsoft.datawrangler.viewer.v0+json": {
       "columns": [
        {
         "name": "index",
         "rawType": "int64",
         "type": "integer"
        },
        {
         "name": "product_id",
         "rawType": "int64",
         "type": "integer"
        },
        {
         "name": "product_name",
         "rawType": "object",
         "type": "string"
        }
       ],
       "ref": "86876374-1819-4a57-b484-2b4f2b2d2a69",
       "rows": [
        [
         "0",
         "24852",
         "Banana"
        ],
        [
         "1",
         "13176",
         "Bag of Organic Bananas"
        ],
        [
         "2",
         "21137",
         "Organic Strawberries"
        ],
        [
         "3",
         "21903",
         "Organic Baby Spinach"
        ],
        [
         "4",
         "47209",
         "Organic Hass Avocado"
        ],
        [
         "5",
         "47766",
         "Organic Avocado"
        ],
        [
         "6",
         "47626",
         "Large Lemon"
        ],
        [
         "7",
         "16797",
         "Strawberries"
        ],
        [
         "8",
         "26209",
         "Limes"
        ],
        [
         "9",
         "27845",
         "Organic Whole Milk"
        ],
        [
         "10",
         "27966",
         "Organic Raspberries"
        ],
        [
         "11",
         "22935",
         "Organic Yellow Onion"
        ],
        [
         "12",
         "24964",
         "Organic Garlic"
        ],
        [
         "13",
         "45007",
         "Organic Zucchini"
        ],
        [
         "14",
         "39275",
         "Organic Blueberries"
        ],
        [
         "15",
         "49683",
         "Cucumber Kirby"
        ],
        [
         "16",
         "28204",
         "Organic Fuji Apple"
        ],
        [
         "17",
         "5876",
         "Organic Lemon"
        ],
        [
         "18",
         "8277",
         "Apple Honeycrisp Organic"
        ],
        [
         "19",
         "40706",
         "Organic Grape Tomatoes"
        ]
       ],
       "shape": {
        "columns": 2,
        "rows": 20
       }
      },
      "text/html": [
       "<div>\n",
       "<style scoped>\n",
       "    .dataframe tbody tr th:only-of-type {\n",
       "        vertical-align: middle;\n",
       "    }\n",
       "\n",
       "    .dataframe tbody tr th {\n",
       "        vertical-align: top;\n",
       "    }\n",
       "\n",
       "    .dataframe thead th {\n",
       "        text-align: right;\n",
       "    }\n",
       "</style>\n",
       "<table border=\"1\" class=\"dataframe\">\n",
       "  <thead>\n",
       "    <tr style=\"text-align: right;\">\n",
       "      <th></th>\n",
       "      <th>product_id</th>\n",
       "      <th>product_name</th>\n",
       "    </tr>\n",
       "  </thead>\n",
       "  <tbody>\n",
       "    <tr>\n",
       "      <th>0</th>\n",
       "      <td>24852</td>\n",
       "      <td>Banana</td>\n",
       "    </tr>\n",
       "    <tr>\n",
       "      <th>1</th>\n",
       "      <td>13176</td>\n",
       "      <td>Bag of Organic Bananas</td>\n",
       "    </tr>\n",
       "    <tr>\n",
       "      <th>2</th>\n",
       "      <td>21137</td>\n",
       "      <td>Organic Strawberries</td>\n",
       "    </tr>\n",
       "    <tr>\n",
       "      <th>3</th>\n",
       "      <td>21903</td>\n",
       "      <td>Organic Baby Spinach</td>\n",
       "    </tr>\n",
       "    <tr>\n",
       "      <th>4</th>\n",
       "      <td>47209</td>\n",
       "      <td>Organic Hass Avocado</td>\n",
       "    </tr>\n",
       "    <tr>\n",
       "      <th>5</th>\n",
       "      <td>47766</td>\n",
       "      <td>Organic Avocado</td>\n",
       "    </tr>\n",
       "    <tr>\n",
       "      <th>6</th>\n",
       "      <td>47626</td>\n",
       "      <td>Large Lemon</td>\n",
       "    </tr>\n",
       "    <tr>\n",
       "      <th>7</th>\n",
       "      <td>16797</td>\n",
       "      <td>Strawberries</td>\n",
       "    </tr>\n",
       "    <tr>\n",
       "      <th>8</th>\n",
       "      <td>26209</td>\n",
       "      <td>Limes</td>\n",
       "    </tr>\n",
       "    <tr>\n",
       "      <th>9</th>\n",
       "      <td>27845</td>\n",
       "      <td>Organic Whole Milk</td>\n",
       "    </tr>\n",
       "    <tr>\n",
       "      <th>10</th>\n",
       "      <td>27966</td>\n",
       "      <td>Organic Raspberries</td>\n",
       "    </tr>\n",
       "    <tr>\n",
       "      <th>11</th>\n",
       "      <td>22935</td>\n",
       "      <td>Organic Yellow Onion</td>\n",
       "    </tr>\n",
       "    <tr>\n",
       "      <th>12</th>\n",
       "      <td>24964</td>\n",
       "      <td>Organic Garlic</td>\n",
       "    </tr>\n",
       "    <tr>\n",
       "      <th>13</th>\n",
       "      <td>45007</td>\n",
       "      <td>Organic Zucchini</td>\n",
       "    </tr>\n",
       "    <tr>\n",
       "      <th>14</th>\n",
       "      <td>39275</td>\n",
       "      <td>Organic Blueberries</td>\n",
       "    </tr>\n",
       "    <tr>\n",
       "      <th>15</th>\n",
       "      <td>49683</td>\n",
       "      <td>Cucumber Kirby</td>\n",
       "    </tr>\n",
       "    <tr>\n",
       "      <th>16</th>\n",
       "      <td>28204</td>\n",
       "      <td>Organic Fuji Apple</td>\n",
       "    </tr>\n",
       "    <tr>\n",
       "      <th>17</th>\n",
       "      <td>5876</td>\n",
       "      <td>Organic Lemon</td>\n",
       "    </tr>\n",
       "    <tr>\n",
       "      <th>18</th>\n",
       "      <td>8277</td>\n",
       "      <td>Apple Honeycrisp Organic</td>\n",
       "    </tr>\n",
       "    <tr>\n",
       "      <th>19</th>\n",
       "      <td>40706</td>\n",
       "      <td>Organic Grape Tomatoes</td>\n",
       "    </tr>\n",
       "  </tbody>\n",
       "</table>\n",
       "</div>"
      ],
      "text/plain": [
       "    product_id              product_name\n",
       "0        24852                    Banana\n",
       "1        13176    Bag of Organic Bananas\n",
       "2        21137      Organic Strawberries\n",
       "3        21903      Organic Baby Spinach\n",
       "4        47209      Organic Hass Avocado\n",
       "5        47766           Organic Avocado\n",
       "6        47626               Large Lemon\n",
       "7        16797              Strawberries\n",
       "8        26209                     Limes\n",
       "9        27845        Organic Whole Milk\n",
       "10       27966       Organic Raspberries\n",
       "11       22935      Organic Yellow Onion\n",
       "12       24964            Organic Garlic\n",
       "13       45007          Organic Zucchini\n",
       "14       39275       Organic Blueberries\n",
       "15       49683            Cucumber Kirby\n",
       "16       28204        Organic Fuji Apple\n",
       "17        5876             Organic Lemon\n",
       "18        8277  Apple Honeycrisp Organic\n",
       "19       40706    Organic Grape Tomatoes"
      ]
     },
     "execution_count": 63,
     "metadata": {},
     "output_type": "execute_result"
    }
   ],
   "source": [
    "#¿Cuáles son los 20 productos más populares (muestra su ID y nombre)?\n",
    "popular_products = order_products.groupby('product_id')['order_id'].count().sort_values(ascending=False).head(20)\n",
    "popular_products = popular_products.reset_index().merge(products, on='product_id')[['product_id', 'product_name']]\n",
    "\n",
    "#graficar los 20 productos más populares\n",
    "plt.figure(figsize=(12, 8))\n",
    "sns.barplot(data=popular_products, x='product_id', y='product_name')\n",
    "plt.title('Top 20 Productos Más Populares')\n",
    "plt.xlabel('ID del Producto')\n",
    "plt.ylabel('Nombre del Producto')\n",
    "plt.xticks(rotation=45)\n",
    "plt.grid(axis='x', linestyle='--', alpha=0.7)\n",
    "plt.show()\n",
    "\n",
    "popular_products.head(20)"
   ]
  },
  {
   "cell_type": "markdown",
   "id": "7df00f47",
   "metadata": {
    "id": "7df00f47"
   },
   "source": [
    "Escribe aquí tus conclusiones\n",
    "\n",
    "    Los resultados muestran que los productos más populares corresponden a bienes de consumo recurrente y perecederos, como alimentos básicos y productos de uso diario. Esto indica que los usuarios tienden a realizar compras frecuentes de artículos esenciales, reflejando patrones de consumo predecibles. \n",
    "    "
   ]
  },
  {
   "cell_type": "markdown",
   "id": "gross-theme",
   "metadata": {
    "id": "gross-theme"
   },
   "source": [
    "# [C] Difícil (deben completarse todos para aprobar)\n",
    "\n",
    "1. ¿Cuántos artículos suelen comprar las personas en un pedido? ¿Cómo es la distribución?\n",
    "2. ¿Cuáles son los 20 principales artículos que vuelven a pedirse con mayor frecuencia (muestra sus nombres e IDs de los productos)?\n",
    "3. Para cada producto, ¿cuál es la tasa de repetición del pedido (número de repeticiones de pedido/total de pedidos?\n",
    "4. Para cada cliente, ¿qué proporción de los productos que pidió ya los había pedido? Calcula la tasa de repetición de pedido para cada usuario en lugar de para cada producto.\n",
    "5. ¿Cuáles son los 20 principales artículos que la gente pone primero en sus carritos (muestra las IDs de los productos, sus nombres, y el número de veces en que fueron el primer artículo en añadirse al carrito)?"
   ]
  },
  {
   "cell_type": "markdown",
   "id": "romantic-deposit",
   "metadata": {
    "id": "romantic-deposit"
   },
   "source": [
    "### [C1] ¿Cuántos artículos compran normalmente las personas en un pedido? ¿Cómo es la distribución?"
   ]
  },
  {
   "cell_type": "code",
   "execution_count": null,
   "id": "virtual-punch",
   "metadata": {
    "id": "virtual-punch"
   },
   "outputs": [
    {
     "name": "stdout",
     "output_type": "stream",
     "text": [
      "count    450046.000000\n",
      "mean         10.098983\n",
      "std           7.540206\n",
      "min           1.000000\n",
      "25%           5.000000\n",
      "50%           8.000000\n",
      "75%          14.000000\n",
      "max         127.000000\n",
      "Name: product_id, dtype: float64\n"
     ]
    },
    {
     "data": {
      "image/png": "[encoded data removed]",
      "text/plain": [
       "<Figure size 1000x600 with 1 Axes>"
      ]
     },
     "metadata": {},
     "output_type": "display_data"
    }
   ],
   "source": [
    "# Agrupar por 'order_id' y contar cuántos productos hay en cada pedido\n",
    "order_sizes = order_products.groupby('order_id')['product_id'].count()\n",
    "\n",
    "# Mostrar estadísticas descriptivas\n",
    "print(order_sizes.describe())\n",
    "\n",
    "# Graficar la distribución\n",
    "plt.figure(figsize=(10, 6))\n",
    "order_sizes.plot(kind='hist', bins=30, color='skyblue', edgecolor='black')\n",
    "plt.title('Distribución del número de artículos por pedido')\n",
    "plt.xlabel('Número de artículos')\n",
    "plt.ylabel('Frecuencia')\n",
    "plt.grid(axis='y', linestyle='--', alpha=0.7)\n",
    "plt.show()"
   ]
  },
  {
   "cell_type": "markdown",
   "id": "designed-mortality",
   "metadata": {
    "id": "designed-mortality"
   },
   "source": [
    "Escribe aquí tus conclusiones\n",
    "\n",
    "    Los resultados muestran que el tamaño promedio de los pedidos es de aproximadamente 10 artículos, con una desviación estándar de 7.54, lo que indica una variabilidad significativa en el número de productos por pedido. El tamaño mínimo de un pedido es de 1 artículo, mientras que el máximo es de 127. El 25% de los pedidos contienen 5 artículos o menos, el 50% (mediana) tienen 8 artículos, y el 75% incluyen hasta 14 artículos."
   ]
  },
  {
   "cell_type": "markdown",
   "id": "5e6b5537",
   "metadata": {
    "id": "5e6b5537"
   },
   "source": [
    "### [C2] ¿Cuáles son los 20 principales artículos que vuelven a pedirse con mayor frecuencia (muestra sus nombres e IDs de los productos)?"
   ]
  },
  {
   "cell_type": "code",
   "execution_count": null,
   "id": "9374e55a",
   "metadata": {
    "id": "9374e55a"
   },
   "outputs": [
    {
     "data": {
      "text/html": [
       "<div>\n",
       "<style scoped>\n",
       "    .dataframe tbody tr th:only-of-type {\n",
       "        vertical-align: middle;\n",
       "    }\n",
       "\n",
       "    .dataframe tbody tr th {\n",
       "        vertical-align: top;\n",
       "    }\n",
       "\n",
       "    .dataframe thead th {\n",
       "        text-align: right;\n",
       "    }\n",
       "</style>\n",
       "<table border=\"1\" class=\"dataframe\">\n",
       "  <thead>\n",
       "    <tr style=\"text-align: right;\">\n",
       "      <th></th>\n",
       "      <th>product_id</th>\n",
       "      <th>product_name</th>\n",
       "      <th>order_count</th>\n",
       "    </tr>\n",
       "  </thead>\n",
       "  <tbody>\n",
       "    <tr>\n",
       "      <th>0</th>\n",
       "      <td>24852</td>\n",
       "      <td>Banana</td>\n",
       "      <td>55763</td>\n",
       "    </tr>\n",
       "    <tr>\n",
       "      <th>1</th>\n",
       "      <td>13176</td>\n",
       "      <td>Bag of Organic Bananas</td>\n",
       "      <td>44450</td>\n",
       "    </tr>\n",
       "    <tr>\n",
       "      <th>2</th>\n",
       "      <td>21137</td>\n",
       "      <td>Organic Strawberries</td>\n",
       "      <td>28639</td>\n",
       "    </tr>\n",
       "    <tr>\n",
       "      <th>3</th>\n",
       "      <td>21903</td>\n",
       "      <td>Organic Baby Spinach</td>\n",
       "      <td>26233</td>\n",
       "    </tr>\n",
       "    <tr>\n",
       "      <th>4</th>\n",
       "      <td>47209</td>\n",
       "      <td>Organic Hass Avocado</td>\n",
       "      <td>23629</td>\n",
       "    </tr>\n",
       "    <tr>\n",
       "      <th>5</th>\n",
       "      <td>47766</td>\n",
       "      <td>Organic Avocado</td>\n",
       "      <td>18743</td>\n",
       "    </tr>\n",
       "    <tr>\n",
       "      <th>6</th>\n",
       "      <td>27845</td>\n",
       "      <td>Organic Whole Milk</td>\n",
       "      <td>16251</td>\n",
       "    </tr>\n",
       "    <tr>\n",
       "      <th>7</th>\n",
       "      <td>47626</td>\n",
       "      <td>Large Lemon</td>\n",
       "      <td>15044</td>\n",
       "    </tr>\n",
       "    <tr>\n",
       "      <th>8</th>\n",
       "      <td>27966</td>\n",
       "      <td>Organic Raspberries</td>\n",
       "      <td>14748</td>\n",
       "    </tr>\n",
       "    <tr>\n",
       "      <th>9</th>\n",
       "      <td>16797</td>\n",
       "      <td>Strawberries</td>\n",
       "      <td>13945</td>\n",
       "    </tr>\n",
       "    <tr>\n",
       "      <th>10</th>\n",
       "      <td>26209</td>\n",
       "      <td>Limes</td>\n",
       "      <td>13327</td>\n",
       "    </tr>\n",
       "    <tr>\n",
       "      <th>11</th>\n",
       "      <td>22935</td>\n",
       "      <td>Organic Yellow Onion</td>\n",
       "      <td>11145</td>\n",
       "    </tr>\n",
       "    <tr>\n",
       "      <th>12</th>\n",
       "      <td>24964</td>\n",
       "      <td>Organic Garlic</td>\n",
       "      <td>10411</td>\n",
       "    </tr>\n",
       "    <tr>\n",
       "      <th>13</th>\n",
       "      <td>45007</td>\n",
       "      <td>Organic Zucchini</td>\n",
       "      <td>10076</td>\n",
       "    </tr>\n",
       "    <tr>\n",
       "      <th>14</th>\n",
       "      <td>49683</td>\n",
       "      <td>Cucumber Kirby</td>\n",
       "      <td>9538</td>\n",
       "    </tr>\n",
       "    <tr>\n",
       "      <th>15</th>\n",
       "      <td>28204</td>\n",
       "      <td>Organic Fuji Apple</td>\n",
       "      <td>8989</td>\n",
       "    </tr>\n",
       "    <tr>\n",
       "      <th>16</th>\n",
       "      <td>8277</td>\n",
       "      <td>Apple Honeycrisp Organic</td>\n",
       "      <td>8836</td>\n",
       "    </tr>\n",
       "    <tr>\n",
       "      <th>17</th>\n",
       "      <td>39275</td>\n",
       "      <td>Organic Blueberries</td>\n",
       "      <td>8799</td>\n",
       "    </tr>\n",
       "    <tr>\n",
       "      <th>18</th>\n",
       "      <td>5876</td>\n",
       "      <td>Organic Lemon</td>\n",
       "      <td>8412</td>\n",
       "    </tr>\n",
       "    <tr>\n",
       "      <th>19</th>\n",
       "      <td>49235</td>\n",
       "      <td>Organic Half &amp; Half</td>\n",
       "      <td>8389</td>\n",
       "    </tr>\n",
       "  </tbody>\n",
       "</table>\n",
       "</div>"
      ],
      "text/plain": [
       "    product_id              product_name  order_count\n",
       "0        24852                    Banana        55763\n",
       "1        13176    Bag of Organic Bananas        44450\n",
       "2        21137      Organic Strawberries        28639\n",
       "3        21903      Organic Baby Spinach        26233\n",
       "4        47209      Organic Hass Avocado        23629\n",
       "5        47766           Organic Avocado        18743\n",
       "6        27845        Organic Whole Milk        16251\n",
       "7        47626               Large Lemon        15044\n",
       "8        27966       Organic Raspberries        14748\n",
       "9        16797              Strawberries        13945\n",
       "10       26209                     Limes        13327\n",
       "11       22935      Organic Yellow Onion        11145\n",
       "12       24964            Organic Garlic        10411\n",
       "13       45007          Organic Zucchini        10076\n",
       "14       49683            Cucumber Kirby         9538\n",
       "15       28204        Organic Fuji Apple         8989\n",
       "16        8277  Apple Honeycrisp Organic         8836\n",
       "17       39275       Organic Blueberries         8799\n",
       "18        5876             Organic Lemon         8412\n",
       "19       49235       Organic Half & Half         8389"
      ]
     },
     "execution_count": 47,
     "metadata": {},
     "output_type": "execute_result"
    }
   ],
   "source": [
    "#¿Cuáles son los 20 principales artículos que vuelven a pedirse con mayor frecuencia (muestra sus nombres e IDs de los productos)?\n",
    "reordered_products = (\n",
    "    order_products.query('reordered == 1')\n",
    "    .groupby('product_id')\n",
    "    .size()\n",
    "    .nlargest(20)\n",
    "    .reset_index(name='order_count')\n",
    "    .merge(products, on='product_id')\n",
    "    .filter(['product_id', 'product_name', 'order_count'])\n",
    ")\n",
    "\n",
    "reordered_products "
   ]
  },
  {
   "cell_type": "code",
   "execution_count": null,
   "id": "possible-change",
   "metadata": {
    "id": "possible-change",
    "scrolled": true
   },
   "outputs": [
    {
     "data": {
      "text/plain": [
       "<Figure size 1000x600 with 0 Axes>"
      ]
     },
     "metadata": {},
     "output_type": "display_data"
    },
    {
     "data": {
      "image/png": "[encoded data removed]",
      "text/plain": [
       "<Figure size 640x480 with 1 Axes>"
      ]
     },
     "metadata": {},
     "output_type": "display_data"
    }
   ],
   "source": [
    "#grafica\n",
    "plt.figure(figsize=(10, 6))\n",
    "reordered_products.plot(kind='bar', x='product_name', y='order_count', color='orange', legend=False)\n",
    "plt.title('Top 20 productos más comprados')\n",
    "plt.xlabel('Nombre del producto')\n",
    "plt.ylabel('Número de pedidos')\n",
    "plt.xticks(rotation=45, ha='right')\n",
    "plt.grid(axis='y', linestyle='--', alpha=0.7)\n",
    "plt.show()"
   ]
  },
  {
   "cell_type": "code",
   "execution_count": null,
   "id": "professional-surfing",
   "metadata": {
    "id": "professional-surfing",
    "scrolled": true
   },
   "outputs": [],
   "source": []
  },
  {
   "cell_type": "markdown",
   "id": "80e70c74",
   "metadata": {
    "id": "80e70c74"
   },
   "source": [
    "Escribe aquí tus conclusiones\n",
    "\n",
    "    Los resultados obtenidos nos muestran los productos más frecuentemente reordenados por los usuarios. Esto refleja los artículos de mayor recurrencia en las compras, indicando que son productos esenciales o de alta demanda, estos se encuentran asociados a bienes de consumo recurrente y perecederos, como alimentos básicos y productos de uso diario."
   ]
  },
  {
   "cell_type": "markdown",
   "id": "9d312b14",
   "metadata": {
    "id": "9d312b14"
   },
   "source": [
    "### [C3] Para cada producto, ¿cuál es la proporción de las veces que se pide y que se vuelve a pedir?"
   ]
  },
  {
   "cell_type": "code",
   "execution_count": null,
   "id": "8ae9f4b1",
   "metadata": {
    "id": "8ae9f4b1"
   },
   "outputs": [
    {
     "data": {
      "text/html": [
       "<div>\n",
       "<style scoped>\n",
       "    .dataframe tbody tr th:only-of-type {\n",
       "        vertical-align: middle;\n",
       "    }\n",
       "\n",
       "    .dataframe tbody tr th {\n",
       "        vertical-align: top;\n",
       "    }\n",
       "\n",
       "    .dataframe thead th {\n",
       "        text-align: right;\n",
       "    }\n",
       "</style>\n",
       "<table border=\"1\" class=\"dataframe\">\n",
       "  <thead>\n",
       "    <tr style=\"text-align: right;\">\n",
       "      <th></th>\n",
       "      <th>product_id</th>\n",
       "      <th>reorder_ratio</th>\n",
       "      <th>product_name</th>\n",
       "    </tr>\n",
       "  </thead>\n",
       "  <tbody>\n",
       "    <tr>\n",
       "      <th>13453</th>\n",
       "      <td>14721</td>\n",
       "      <td>1.0</td>\n",
       "      <td>Bone Strength Take Care</td>\n",
       "    </tr>\n",
       "    <tr>\n",
       "      <th>19195</th>\n",
       "      <td>20949</td>\n",
       "      <td>1.0</td>\n",
       "      <td>Vanilla Sandwich Cookies</td>\n",
       "    </tr>\n",
       "    <tr>\n",
       "      <th>6136</th>\n",
       "      <td>6723</td>\n",
       "      <td>1.0</td>\n",
       "      <td>Palmiers- Petite</td>\n",
       "    </tr>\n",
       "    <tr>\n",
       "      <th>6144</th>\n",
       "      <td>6732</td>\n",
       "      <td>1.0</td>\n",
       "      <td>Naturally Sparkling Mineral Water</td>\n",
       "    </tr>\n",
       "    <tr>\n",
       "      <th>41319</th>\n",
       "      <td>45088</td>\n",
       "      <td>1.0</td>\n",
       "      <td>California Dill Pollen &amp; Garlic Goat Cheese &amp; ...</td>\n",
       "    </tr>\n",
       "    <tr>\n",
       "      <th>41310</th>\n",
       "      <td>45078</td>\n",
       "      <td>1.0</td>\n",
       "      <td>Pomegranatea</td>\n",
       "    </tr>\n",
       "    <tr>\n",
       "      <th>19258</th>\n",
       "      <td>21016</td>\n",
       "      <td>1.0</td>\n",
       "      <td>Parchment Lined 8 in x 3.75 in x 2.5 in Pans</td>\n",
       "    </tr>\n",
       "    <tr>\n",
       "      <th>19248</th>\n",
       "      <td>21005</td>\n",
       "      <td>1.0</td>\n",
       "      <td>Peanut Butter Pie Ice Cream</td>\n",
       "    </tr>\n",
       "    <tr>\n",
       "      <th>32273</th>\n",
       "      <td>35192</td>\n",
       "      <td>1.0</td>\n",
       "      <td>Chocolate Soy Milk Singles</td>\n",
       "    </tr>\n",
       "    <tr>\n",
       "      <th>32277</th>\n",
       "      <td>35197</td>\n",
       "      <td>1.0</td>\n",
       "      <td>Mocha Chocolate Chip  Organic Non-Dairy Frozen...</td>\n",
       "    </tr>\n",
       "    <tr>\n",
       "      <th>6211</th>\n",
       "      <td>6810</td>\n",
       "      <td>1.0</td>\n",
       "      <td>Raspberry Goji Paleo Prints</td>\n",
       "    </tr>\n",
       "    <tr>\n",
       "      <th>41274</th>\n",
       "      <td>45040</td>\n",
       "      <td>1.0</td>\n",
       "      <td>Head Lock Mega Gel</td>\n",
       "    </tr>\n",
       "    <tr>\n",
       "      <th>41269</th>\n",
       "      <td>45035</td>\n",
       "      <td>1.0</td>\n",
       "      <td>Coffee Flavor Yogurt</td>\n",
       "    </tr>\n",
       "    <tr>\n",
       "      <th>25120</th>\n",
       "      <td>27373</td>\n",
       "      <td>1.0</td>\n",
       "      <td>Meat Loaf Meal</td>\n",
       "    </tr>\n",
       "    <tr>\n",
       "      <th>28203</th>\n",
       "      <td>30748</td>\n",
       "      <td>1.0</td>\n",
       "      <td>Cheese &amp; Garlic Croutons</td>\n",
       "    </tr>\n",
       "    <tr>\n",
       "      <th>41265</th>\n",
       "      <td>45031</td>\n",
       "      <td>1.0</td>\n",
       "      <td>Sugar Free Hazelnut Coffee Creamer</td>\n",
       "    </tr>\n",
       "    <tr>\n",
       "      <th>32224</th>\n",
       "      <td>35137</td>\n",
       "      <td>1.0</td>\n",
       "      <td>Superior Preference Fade-Defying Color + Shine...</td>\n",
       "    </tr>\n",
       "    <tr>\n",
       "      <th>28202</th>\n",
       "      <td>30747</td>\n",
       "      <td>1.0</td>\n",
       "      <td>Dentotape® Unflavored Waxed Tape</td>\n",
       "    </tr>\n",
       "    <tr>\n",
       "      <th>32304</th>\n",
       "      <td>35228</td>\n",
       "      <td>1.0</td>\n",
       "      <td>Marvelous Muffins Baking Mix</td>\n",
       "    </tr>\n",
       "    <tr>\n",
       "      <th>32305</th>\n",
       "      <td>35229</td>\n",
       "      <td>1.0</td>\n",
       "      <td>Bean &amp; Cheese Burritos</td>\n",
       "    </tr>\n",
       "  </tbody>\n",
       "</table>\n",
       "</div>"
      ],
      "text/plain": [
       "       product_id  reorder_ratio  \\\n",
       "13453       14721            1.0   \n",
       "19195       20949            1.0   \n",
       "6136         6723            1.0   \n",
       "6144         6732            1.0   \n",
       "41319       45088            1.0   \n",
       "41310       45078            1.0   \n",
       "19258       21016            1.0   \n",
       "19248       21005            1.0   \n",
       "32273       35192            1.0   \n",
       "32277       35197            1.0   \n",
       "6211         6810            1.0   \n",
       "41274       45040            1.0   \n",
       "41269       45035            1.0   \n",
       "25120       27373            1.0   \n",
       "28203       30748            1.0   \n",
       "41265       45031            1.0   \n",
       "32224       35137            1.0   \n",
       "28202       30747            1.0   \n",
       "32304       35228            1.0   \n",
       "32305       35229            1.0   \n",
       "\n",
       "                                            product_name  \n",
       "13453                            Bone Strength Take Care  \n",
       "19195                           Vanilla Sandwich Cookies  \n",
       "6136                                    Palmiers- Petite  \n",
       "6144                   Naturally Sparkling Mineral Water  \n",
       "41319  California Dill Pollen & Garlic Goat Cheese & ...  \n",
       "41310                                       Pomegranatea  \n",
       "19258       Parchment Lined 8 in x 3.75 in x 2.5 in Pans  \n",
       "19248                        Peanut Butter Pie Ice Cream  \n",
       "32273                         Chocolate Soy Milk Singles  \n",
       "32277  Mocha Chocolate Chip  Organic Non-Dairy Frozen...  \n",
       "6211                         Raspberry Goji Paleo Prints  \n",
       "41274                                 Head Lock Mega Gel  \n",
       "41269                               Coffee Flavor Yogurt  \n",
       "25120                                     Meat Loaf Meal  \n",
       "28203                           Cheese & Garlic Croutons  \n",
       "41265                 Sugar Free Hazelnut Coffee Creamer  \n",
       "32224  Superior Preference Fade-Defying Color + Shine...  \n",
       "28202                   Dentotape® Unflavored Waxed Tape  \n",
       "32304                       Marvelous Muffins Baking Mix  \n",
       "32305                             Bean & Cheese Burritos  "
      ]
     },
     "execution_count": 49,
     "metadata": {},
     "output_type": "execute_result"
    }
   ],
   "source": [
    "product_reorder= (\n",
    "    order_products\n",
    "    .groupby('product_id')['reordered']\n",
    "    .mean()\n",
    "    .reset_index(name='reorder_ratio')\n",
    "    .merge(products[['product_id', 'product_name']], on='product_id')\n",
    "    .sort_values('reorder_ratio', ascending=False)\n",
    ")\n",
    "\n",
    "product_reorder.head(20)"
   ]
  },
  {
   "cell_type": "code",
   "execution_count": null,
   "id": "103e7fe1",
   "metadata": {
    "id": "103e7fe1"
   },
   "outputs": [],
   "source": []
  },
  {
   "cell_type": "markdown",
   "id": "I10dEIAyldcO",
   "metadata": {
    "id": "I10dEIAyldcO"
   },
   "source": [
    "Escribe aquí tus conclusiones\n",
    "\n",
    "    Esto indica los productos esenciales o de alta satisfacción para los usuarios, entre los cuales encontramos alimentos básicos como frutas, lácteos o productos de limpieza, así también encontramos los productos con bajas tasas de reorden podrían ser artículos de compra única, productos de temporada o aquellos que no cumplen con las expectativas de los clientes. Esto puede ayudar a segmentar los productos en categorías como \"alta recurrencia\" y \"baja recurrencia\"."
   ]
  },
  {
   "cell_type": "markdown",
   "id": "subject-boxing",
   "metadata": {
    "id": "subject-boxing"
   },
   "source": [
    "### [C4] Para cada cliente, ¿qué proporción de sus productos ya los había pedido?"
   ]
  },
  {
   "cell_type": "code",
   "execution_count": 65,
   "id": "medical-couple",
   "metadata": {
    "id": "medical-couple",
    "scrolled": true
   },
   "outputs": [
    {
     "data": {
      "image/png": "[encoded data removed]",
      "text/plain": [
       "<Figure size 1000x600 with 1 Axes>"
      ]
     },
     "metadata": {},
     "output_type": "display_data"
    }
   ],
   "source": [
    "user_reorder_ratio = (\n",
    "    order_products.merge(orders[['order_id', 'user_id']], on='order_id')\n",
    "    .groupby('user_id')['reordered']\n",
    "    .mean()\n",
    "    .reset_index(name='reorder_ratio')\n",
    ")\n",
    "\n",
    "user_reorder_ratio.head(10)\n",
    "\n",
    "# Graficar la distribución de la tasa de repetición  por usuario\n",
    "plt.figure(figsize=(10, 6))\n",
    "plt.hist(user_reorder_ratio['reorder_ratio'], bins=30, color='lightblue', edgecolor='black')\n",
    "plt.title('Distribución de la tasa de repetición por usuario')\n",
    "plt.xlabel('Tasa de reorden')\n",
    "plt.ylabel('Número de usuarios')    \n",
    "plt.grid(axis='y', linestyle='--', alpha=0.7)\n",
    "plt.show()"
   ]
  },
  {
   "cell_type": "markdown",
   "id": "BgJSvXDsleXz",
   "metadata": {
    "id": "BgJSvXDsleXz"
   },
   "source": [
    "Escribe aquí tus conclusiones\n",
    "\n",
    "    Calculamos la proporción de productos reordenados por cliente que nos proporciona insights valiosos sobre los patrones de compra individuales, ayudando a personalizar la experiencia del cliente y a diseñar estrategias comerciales más efectivas."
   ]
  },
  {
   "cell_type": "markdown",
   "id": "92d35137",
   "metadata": {
    "id": "92d35137"
   },
   "source": [
    "### [C5] ¿Cuáles son los 20 principales artículos que las personas ponen primero en sus carritos?"
   ]
  },
  {
   "cell_type": "code",
   "execution_count": null,
   "id": "0ae57274",
   "metadata": {
    "id": "0ae57274",
    "scrolled": true
   },
   "outputs": [
    {
     "name": "stdout",
     "output_type": "stream",
     "text": [
      "    product_id                 product_name  first_added_count\n",
      "0        24852                       Banana              15562\n",
      "1        13176       Bag of Organic Bananas              11026\n",
      "2        27845           Organic Whole Milk               4363\n",
      "3        21137         Organic Strawberries               3946\n",
      "4        47209         Organic Hass Avocado               3390\n",
      "5        21903         Organic Baby Spinach               3336\n",
      "6        47766              Organic Avocado               3044\n",
      "7        19660                 Spring Water               2336\n",
      "8        16797                 Strawberries               2308\n",
      "9        27966          Organic Raspberries               2024\n",
      "10       44632   Sparkling Water Grapefruit               1914\n",
      "11       49235          Organic Half & Half               1797\n",
      "12       47626                  Large Lemon               1737\n",
      "13         196                         Soda               1733\n",
      "14       38689     Organic Reduced Fat Milk               1397\n",
      "15       26209                        Limes               1370\n",
      "16       12341                Hass Avocados               1340\n",
      "17        5785  Organic Reduced Fat 2% Milk               1310\n",
      "18       27086                  Half & Half               1309\n",
      "19       43352                  Raspberries               1246\n"
     ]
    }
   ],
   "source": [
    "top_first_products = (\n",
    "    order_products[order_products['add_to_cart_order'] == 1]\n",
    "    .groupby('product_id')['order_id']\n",
    "    .count()\n",
    "    .sort_values(ascending=False)\n",
    "    .head(20)\n",
    "    .reset_index(name='first_added_count')\n",
    "    .merge(products, on='product_id')[['product_id', 'product_name', 'first_added_count']]\n",
    ")\n",
    "\n",
    "print(top_first_products)"
   ]
  },
  {
   "cell_type": "code",
   "execution_count": null,
   "id": "forty-netherlands",
   "metadata": {
    "id": "forty-netherlands",
    "scrolled": true
   },
   "outputs": [
    {
     "data": {
      "text/plain": [
       "<Figure size 1000x600 with 0 Axes>"
      ]
     },
     "metadata": {},
     "output_type": "display_data"
    },
    {
     "data": {
      "image/png": "[encoded data removed]",
      "text/plain": [
       "<Figure size 640x480 with 1 Axes>"
      ]
     },
     "metadata": {},
     "output_type": "display_data"
    }
   ],
   "source": [
    "# Graficar los 20 productos más comprados primero\n",
    "plt.figure(figsize=(10, 6))\n",
    "top_first_products.plot(kind='bar', x='product_name', y='first_added_count', color='green', legend=False)\n",
    "plt.title('Top 20 productos comprados primero')\n",
    "plt.xlabel('Nombre del producto')\n",
    "plt.ylabel('Número de pedidos')\n",
    "plt.xticks(rotation=45, ha='right')\n",
    "plt.grid(axis='y', linestyle='--', alpha=0.7)\n",
    "plt.show()"
   ]
  },
  {
   "cell_type": "markdown",
   "id": "28ce9872",
   "metadata": {
    "id": "28ce9872"
   },
   "source": [
    "Escribe aquí tus conclusiones\n",
    "    \n",
    "    Se Identificaron los productos prioritarios en los cuales observamos que la mayoría son alimentos básicos como frutas, leche o productos de uso diario, loa datos nos proporciona información valiosa sobre las prioridades de los clientes al realizar sus compras, podemos encontrar patrones de consumo recurrente en los clientes, lo que puede ser utilizado mejorar la gestión del inventario, diseñar estrategias de marketing más efectivas y optimizar la experiencia del usuario."
   ]
  },
  {
   "cell_type": "markdown",
   "id": "uITbFCEoDosC",
   "metadata": {
    "id": "uITbFCEoDosC"
   },
   "source": [
    "### Conclusion general del proyecto:\n",
    "\n",
    "Como conclusión general de este análisis de datos es que se logró realizar un preprocesamiento efectivo y un análisis exploratorio detallado del conjunto de datos, esto permitió identificar patrones clave en el comportamiento de los usuarios, como:\n",
    "\n",
    "1. **Patrones de compra recurrentes**: Los usuarios tienden a realizar pedidos en horarios y días específicos, con picos de actividad en las mañanas y los fines de semana. Además, se observó que muchos clientes tienen hábitos de compra semanales o mensuales.\n",
    "\n",
    "2. **Productos más populares y recurrentes**: Los productos más comprados y reordenados suelen ser alimentos básicos y productos de uso diario, lo que refleja su importancia en las compras recurrentes de los clientes.\n",
    "\n",
    "3. **Tasas de reorden y prioridades**: Se identificaron productos con altas tasas de reorden, lo que indica su relevancia para los usuarios. También se analizaron los productos que los clientes suelen añadir primero a sus carritos, lo que proporciona información sobre sus prioridades al realizar compras.\n",
    "\n",
    "4. **Segmentación de clientes**: Se observó que algunos usuarios realizan pedidos con mayor frecuencia que otros, lo que permite segmentar a los clientes en grupos de compradores ocasionales y recurrentes.\n",
    "\n",
    "5. **Gestión de datos**: Se manejaron valores ausentes y duplicados de manera efectiva, asegurando que los datos estuvieran limpios y listos para el análisis.\n",
    "\n",
    "    En general, este análisis proporciona insights valiosos que pueden ser utilizados para mejorar la experiencia del cliente, optimizar la gestión del inventario y diseñar estrategias de marketing personalizadas. Además, los hallazgos pueden ayudar a Instacart a comprender mejor los hábitos de compra de sus usuarios y a tomar decisiones basadas en datos para mejorar su plataforma."
   ]
  }
 ],
 "metadata": {
  "ExecuteTimeLog": [
   {
    "duration": 300,
    "start_time": "2025-04-29T19:54:25.415Z"
   },
   {
    "duration": 2,
    "start_time": "2025-04-29T19:54:48.234Z"
   },
   {
    "duration": 1879,
    "start_time": "2025-04-29T19:56:47.864Z"
   },
   {
    "duration": 543,
    "start_time": "2025-04-29T20:00:27.508Z"
   },
   {
    "duration": 2,
    "start_time": "2025-04-29T20:01:10.791Z"
   },
   {
    "duration": 61,
    "start_time": "2025-04-29T20:01:14.053Z"
   },
   {
    "duration": 3,
    "start_time": "2025-04-29T20:01:43.682Z"
   },
   {
    "duration": 158,
    "start_time": "2025-04-30T04:14:42.475Z"
   },
   {
    "duration": 2236,
    "start_time": "2025-04-30T04:14:48.714Z"
   },
   {
    "duration": 396,
    "start_time": "2025-04-30T04:14:50.952Z"
   },
   {
    "duration": 0,
    "start_time": "2025-04-30T04:14:51.350Z"
   },
   {
    "duration": 12,
    "start_time": "2025-04-30T04:14:51.978Z"
   },
   {
    "duration": 12,
    "start_time": "2025-04-30T04:14:52.756Z"
   },
   {
    "duration": 12,
    "start_time": "2025-04-30T04:14:53.318Z"
   },
   {
    "duration": 13,
    "start_time": "2025-04-30T04:14:54.236Z"
   },
   {
    "duration": 62,
    "start_time": "2025-04-30T04:15:59.588Z"
   },
   {
    "duration": 157,
    "start_time": "2025-04-30T04:17:25.820Z"
   },
   {
    "duration": 13,
    "start_time": "2025-04-30T04:19:19.519Z"
   },
   {
    "duration": 463,
    "start_time": "2025-04-30T04:19:29.724Z"
   },
   {
    "duration": 343,
    "start_time": "2025-04-30T04:19:32.833Z"
   },
   {
    "duration": 2302,
    "start_time": "2025-04-30T04:21:01.248Z"
   },
   {
    "duration": 21,
    "start_time": "2025-04-30T04:21:06.498Z"
   },
   {
    "duration": 11,
    "start_time": "2025-04-30T04:21:17.112Z"
   },
   {
    "duration": 10,
    "start_time": "2025-04-30T04:21:18.184Z"
   },
   {
    "duration": 8,
    "start_time": "2025-04-30T04:21:18.830Z"
   },
   {
    "duration": 6,
    "start_time": "2025-04-30T04:21:19.603Z"
   },
   {
    "duration": 6,
    "start_time": "2025-04-30T04:22:50.676Z"
   },
   {
    "duration": 3,
    "start_time": "2025-04-30T04:23:09.980Z"
   },
   {
    "duration": 2085,
    "start_time": "2025-04-30T04:26:17.906Z"
   },
   {
    "duration": 19,
    "start_time": "2025-04-30T04:26:21.535Z"
   },
   {
    "duration": 3,
    "start_time": "2025-04-30T04:26:34.484Z"
   },
   {
    "duration": 19,
    "start_time": "2025-04-30T04:26:55.058Z"
   },
   {
    "duration": 12,
    "start_time": "2025-04-30T04:27:29.394Z"
   },
   {
    "duration": 7,
    "start_time": "2025-04-30T04:27:34.646Z"
   },
   {
    "duration": 8,
    "start_time": "2025-04-30T04:27:52.526Z"
   },
   {
    "duration": 21,
    "start_time": "2025-04-30T04:47:07.504Z"
   },
   {
    "duration": 21,
    "start_time": "2025-04-30T04:47:38.886Z"
   },
   {
    "duration": 128,
    "start_time": "2025-04-30T04:49:40.593Z"
   },
   {
    "duration": 20,
    "start_time": "2025-04-30T04:50:35.503Z"
   },
   {
    "duration": 10,
    "start_time": "2025-04-30T04:51:03.559Z"
   },
   {
    "duration": 7,
    "start_time": "2025-04-30T04:51:18.066Z"
   },
   {
    "duration": 8,
    "start_time": "2025-04-30T04:51:39.556Z"
   },
   {
    "duration": 6,
    "start_time": "2025-04-30T04:52:37.584Z"
   },
   {
    "duration": 120,
    "start_time": "2025-04-30T04:52:54.829Z"
   },
   {
    "duration": 928,
    "start_time": "2025-04-30T05:00:45.604Z"
   },
   {
    "duration": 10,
    "start_time": "2025-04-30T05:00:49.523Z"
   },
   {
    "duration": 10,
    "start_time": "2025-04-30T05:00:53.947Z"
   },
   {
    "duration": 8,
    "start_time": "2025-04-30T05:00:55.002Z"
   },
   {
    "duration": 8,
    "start_time": "2025-04-30T05:00:56.082Z"
   },
   {
    "duration": 23,
    "start_time": "2025-04-30T05:00:56.498Z"
   },
   {
    "duration": 844,
    "start_time": "2025-04-30T05:01:18.525Z"
   },
   {
    "duration": 10,
    "start_time": "2025-04-30T05:01:38.468Z"
   },
   {
    "duration": 10,
    "start_time": "2025-04-30T05:01:50.053Z"
   },
   {
    "duration": 9,
    "start_time": "2025-04-30T05:02:01.751Z"
   },
   {
    "duration": 27,
    "start_time": "2025-04-30T05:02:24.386Z"
   },
   {
    "duration": 200,
    "start_time": "2025-04-30T19:10:00.532Z"
   },
   {
    "duration": 2047,
    "start_time": "2025-04-30T19:10:16.774Z"
   },
   {
    "duration": 997,
    "start_time": "2025-04-30T19:10:18.824Z"
   },
   {
    "duration": 12,
    "start_time": "2025-04-30T19:10:19.823Z"
   },
   {
    "duration": 10,
    "start_time": "2025-04-30T19:10:19.837Z"
   },
   {
    "duration": 8,
    "start_time": "2025-04-30T19:10:19.848Z"
   },
   {
    "duration": 32,
    "start_time": "2025-04-30T19:10:19.857Z"
   },
   {
    "duration": 26,
    "start_time": "2025-04-30T19:10:19.891Z"
   },
   {
    "duration": 97,
    "start_time": "2025-04-30T19:10:22.045Z"
   },
   {
    "duration": 13,
    "start_time": "2025-04-30T19:10:46.081Z"
   },
   {
    "duration": 156,
    "start_time": "2025-04-30T19:31:38.358Z"
   },
   {
    "duration": 82,
    "start_time": "2025-04-30T19:49:06.219Z"
   },
   {
    "duration": 78,
    "start_time": "2025-04-30T19:49:55.821Z"
   },
   {
    "duration": 115,
    "start_time": "2025-04-30T19:50:04.893Z"
   },
   {
    "duration": 81,
    "start_time": "2025-04-30T19:50:10.776Z"
   },
   {
    "duration": 81,
    "start_time": "2025-04-30T19:50:20.738Z"
   },
   {
    "duration": 89,
    "start_time": "2025-04-30T19:51:49.482Z"
   },
   {
    "duration": 82,
    "start_time": "2025-04-30T19:52:01.550Z"
   },
   {
    "duration": 12,
    "start_time": "2025-04-30T20:04:56.975Z"
   },
   {
    "duration": 90,
    "start_time": "2025-04-30T20:05:17.626Z"
   },
   {
    "duration": 79,
    "start_time": "2025-04-30T20:05:20.896Z"
   },
   {
    "duration": 82,
    "start_time": "2025-04-30T20:05:27.461Z"
   },
   {
    "duration": 87,
    "start_time": "2025-04-30T20:08:26.238Z"
   },
   {
    "duration": 104,
    "start_time": "2025-04-30T20:09:08.934Z"
   },
   {
    "duration": 495,
    "start_time": "2025-04-30T20:09:14.724Z"
   },
   {
    "duration": 118,
    "start_time": "2025-04-30T20:09:17.016Z"
   },
   {
    "duration": 94,
    "start_time": "2025-04-30T20:09:23.243Z"
   },
   {
    "duration": 99,
    "start_time": "2025-04-30T20:10:57.102Z"
   },
   {
    "duration": 95,
    "start_time": "2025-04-30T20:11:04.493Z"
   },
   {
    "duration": 106,
    "start_time": "2025-04-30T20:12:07.725Z"
   },
   {
    "duration": 95,
    "start_time": "2025-04-30T20:12:26.304Z"
   },
   {
    "duration": 106,
    "start_time": "2025-04-30T20:12:46.876Z"
   },
   {
    "duration": 103,
    "start_time": "2025-04-30T20:13:06.304Z"
   },
   {
    "duration": 96,
    "start_time": "2025-04-30T20:13:26.434Z"
   },
   {
    "duration": 96,
    "start_time": "2025-04-30T20:13:43.201Z"
   },
   {
    "duration": 95,
    "start_time": "2025-04-30T20:14:37.341Z"
   },
   {
    "duration": 12,
    "start_time": "2025-04-30T20:17:30.430Z"
   },
   {
    "duration": 90,
    "start_time": "2025-04-30T20:17:36.130Z"
   },
   {
    "duration": 82,
    "start_time": "2025-04-30T20:17:42.747Z"
   },
   {
    "duration": 93,
    "start_time": "2025-04-30T20:17:47.534Z"
   },
   {
    "duration": 92,
    "start_time": "2025-04-30T20:17:50.162Z"
   },
   {
    "duration": 29,
    "start_time": "2025-04-30T20:19:18.652Z"
   },
   {
    "duration": 12,
    "start_time": "2025-04-30T20:19:49.844Z"
   },
   {
    "duration": 37,
    "start_time": "2025-04-30T20:20:29.938Z"
   },
   {
    "duration": 2,
    "start_time": "2025-04-30T20:20:41.128Z"
   },
   {
    "duration": 5,
    "start_time": "2025-04-30T20:21:27.638Z"
   },
   {
    "duration": 13,
    "start_time": "2025-04-30T20:21:34.161Z"
   },
   {
    "duration": 15,
    "start_time": "2025-04-30T20:21:54.582Z"
   },
   {
    "duration": 13,
    "start_time": "2025-04-30T20:22:31.968Z"
   },
   {
    "duration": 11,
    "start_time": "2025-04-30T20:22:41.350Z"
   },
   {
    "duration": 12,
    "start_time": "2025-04-30T20:22:42.628Z"
   },
   {
    "duration": 14,
    "start_time": "2025-04-30T20:23:07.849Z"
   },
   {
    "duration": 90,
    "start_time": "2025-04-30T20:23:24.583Z"
   },
   {
    "duration": 14,
    "start_time": "2025-04-30T20:24:09.592Z"
   },
   {
    "duration": 14,
    "start_time": "2025-04-30T20:24:13.435Z"
   },
   {
    "duration": 16,
    "start_time": "2025-04-30T20:25:11.963Z"
   },
   {
    "duration": 7,
    "start_time": "2025-04-30T20:25:35.432Z"
   },
   {
    "duration": 5,
    "start_time": "2025-04-30T20:30:49.998Z"
   },
   {
    "duration": 5,
    "start_time": "2025-04-30T20:31:02.504Z"
   },
   {
    "duration": 4,
    "start_time": "2025-04-30T20:31:09.597Z"
   },
   {
    "duration": 158,
    "start_time": "2025-05-01T17:47:15.252Z"
   },
   {
    "duration": 12,
    "start_time": "2025-05-01T17:47:21.982Z"
   },
   {
    "duration": 2,
    "start_time": "2025-05-01T17:47:26.961Z"
   },
   {
    "duration": 2131,
    "start_time": "2025-05-01T17:47:34.982Z"
   },
   {
    "duration": 986,
    "start_time": "2025-05-01T17:47:37.115Z"
   },
   {
    "duration": 11,
    "start_time": "2025-05-01T17:47:38.103Z"
   },
   {
    "duration": 9,
    "start_time": "2025-05-01T17:47:38.120Z"
   },
   {
    "duration": 7,
    "start_time": "2025-05-01T17:47:38.131Z"
   },
   {
    "duration": 7,
    "start_time": "2025-05-01T17:47:38.140Z"
   },
   {
    "duration": 21,
    "start_time": "2025-05-01T17:47:38.149Z"
   },
   {
    "duration": 119,
    "start_time": "2025-05-01T17:47:38.172Z"
   },
   {
    "duration": 89,
    "start_time": "2025-05-01T17:47:38.293Z"
   },
   {
    "duration": 102,
    "start_time": "2025-05-01T17:47:38.385Z"
   },
   {
    "duration": 88,
    "start_time": "2025-05-01T17:47:38.489Z"
   },
   {
    "duration": 29,
    "start_time": "2025-05-01T17:47:38.579Z"
   },
   {
    "duration": 14,
    "start_time": "2025-05-01T17:47:38.620Z"
   },
   {
    "duration": 5,
    "start_time": "2025-05-01T17:47:38.635Z"
   },
   {
    "duration": 30,
    "start_time": "2025-05-01T17:47:38.641Z"
   },
   {
    "duration": 2,
    "start_time": "2025-05-01T17:47:38.673Z"
   },
   {
    "duration": 3,
    "start_time": "2025-05-01T17:47:38.677Z"
   },
   {
    "duration": 3,
    "start_time": "2025-05-01T17:47:38.681Z"
   },
   {
    "duration": 34,
    "start_time": "2025-05-01T17:47:38.685Z"
   },
   {
    "duration": 2,
    "start_time": "2025-05-01T17:47:38.721Z"
   },
   {
    "duration": 3,
    "start_time": "2025-05-01T17:47:38.725Z"
   },
   {
    "duration": 4,
    "start_time": "2025-05-01T17:47:38.729Z"
   },
   {
    "duration": 3,
    "start_time": "2025-05-01T17:47:38.734Z"
   },
   {
    "duration": 3,
    "start_time": "2025-05-01T17:47:38.739Z"
   },
   {
    "duration": 3,
    "start_time": "2025-05-01T17:47:38.743Z"
   },
   {
    "duration": 3,
    "start_time": "2025-05-01T17:47:38.748Z"
   },
   {
    "duration": 3,
    "start_time": "2025-05-01T17:47:38.752Z"
   },
   {
    "duration": 3,
    "start_time": "2025-05-01T17:47:38.758Z"
   },
   {
    "duration": 4,
    "start_time": "2025-05-01T17:47:38.762Z"
   },
   {
    "duration": 5,
    "start_time": "2025-05-01T17:47:38.767Z"
   },
   {
    "duration": 3,
    "start_time": "2025-05-01T17:47:38.773Z"
   },
   {
    "duration": 3,
    "start_time": "2025-05-01T17:47:38.820Z"
   },
   {
    "duration": 3,
    "start_time": "2025-05-01T17:47:38.825Z"
   },
   {
    "duration": 3,
    "start_time": "2025-05-01T17:47:38.829Z"
   },
   {
    "duration": 25,
    "start_time": "2025-05-01T17:47:57.357Z"
   },
   {
    "duration": 5,
    "start_time": "2025-05-01T18:22:49.968Z"
   },
   {
    "duration": 158,
    "start_time": "2025-05-01T20:51:55.185Z"
   },
   {
    "duration": 2150,
    "start_time": "2025-05-01T20:52:01.301Z"
   },
   {
    "duration": 1025,
    "start_time": "2025-05-01T20:52:03.453Z"
   },
   {
    "duration": 12,
    "start_time": "2025-05-01T20:52:04.480Z"
   },
   {
    "duration": 9,
    "start_time": "2025-05-01T20:52:04.494Z"
   },
   {
    "duration": 26,
    "start_time": "2025-05-01T20:52:04.505Z"
   },
   {
    "duration": 9,
    "start_time": "2025-05-01T20:52:04.535Z"
   },
   {
    "duration": 30,
    "start_time": "2025-05-01T20:52:04.545Z"
   },
   {
    "duration": 99,
    "start_time": "2025-05-01T20:52:04.577Z"
   },
   {
    "duration": 100,
    "start_time": "2025-05-01T20:52:04.677Z"
   },
   {
    "duration": 102,
    "start_time": "2025-05-01T20:52:04.782Z"
   },
   {
    "duration": 102,
    "start_time": "2025-05-01T20:52:04.885Z"
   },
   {
    "duration": 33,
    "start_time": "2025-05-01T20:52:04.991Z"
   },
   {
    "duration": 14,
    "start_time": "2025-05-01T20:52:05.033Z"
   },
   {
    "duration": 4,
    "start_time": "2025-05-01T20:52:05.049Z"
   },
   {
    "duration": 26,
    "start_time": "2025-05-01T20:52:05.054Z"
   },
   {
    "duration": 20,
    "start_time": "2025-05-01T20:52:05.082Z"
   },
   {
    "duration": 31,
    "start_time": "2025-05-01T20:52:05.104Z"
   },
   {
    "duration": 6,
    "start_time": "2025-05-01T20:52:05.138Z"
   },
   {
    "duration": 4,
    "start_time": "2025-05-01T20:52:05.145Z"
   },
   {
    "duration": 3,
    "start_time": "2025-05-01T20:52:05.150Z"
   },
   {
    "duration": 4,
    "start_time": "2025-05-01T20:52:05.155Z"
   },
   {
    "duration": 2,
    "start_time": "2025-05-01T20:52:05.161Z"
   },
   {
    "duration": 3,
    "start_time": "2025-05-01T20:52:05.165Z"
   },
   {
    "duration": 3,
    "start_time": "2025-05-01T20:52:05.169Z"
   },
   {
    "duration": 4,
    "start_time": "2025-05-01T20:52:05.173Z"
   },
   {
    "duration": 3,
    "start_time": "2025-05-01T20:52:05.178Z"
   },
   {
    "duration": 2,
    "start_time": "2025-05-01T20:52:05.183Z"
   },
   {
    "duration": 3,
    "start_time": "2025-05-01T20:52:05.233Z"
   },
   {
    "duration": 3,
    "start_time": "2025-05-01T20:52:05.237Z"
   },
   {
    "duration": 6,
    "start_time": "2025-05-01T20:52:05.241Z"
   },
   {
    "duration": 2,
    "start_time": "2025-05-01T20:52:05.249Z"
   },
   {
    "duration": 3,
    "start_time": "2025-05-01T20:52:05.252Z"
   },
   {
    "duration": 3,
    "start_time": "2025-05-01T20:52:05.257Z"
   },
   {
    "duration": 3,
    "start_time": "2025-05-01T20:52:05.261Z"
   },
   {
    "duration": 5,
    "start_time": "2025-05-01T20:52:17.017Z"
   },
   {
    "duration": 4,
    "start_time": "2025-05-01T20:52:39.459Z"
   },
   {
    "duration": 792,
    "start_time": "2025-05-01T20:53:03.927Z"
   },
   {
    "duration": 5,
    "start_time": "2025-05-01T20:54:25.292Z"
   },
   {
    "duration": 11,
    "start_time": "2025-05-01T20:58:01.663Z"
   },
   {
    "duration": 7,
    "start_time": "2025-05-01T20:58:29.497Z"
   },
   {
    "duration": 6,
    "start_time": "2025-05-01T20:58:37.487Z"
   },
   {
    "duration": 12,
    "start_time": "2025-05-01T20:58:53.551Z"
   },
   {
    "duration": 2,
    "start_time": "2025-05-01T20:59:18.544Z"
   },
   {
    "duration": 6,
    "start_time": "2025-05-01T20:59:25.588Z"
   },
   {
    "duration": 7,
    "start_time": "2025-05-01T20:59:32.677Z"
   },
   {
    "duration": 6,
    "start_time": "2025-05-01T20:59:37.709Z"
   },
   {
    "duration": 12,
    "start_time": "2025-05-01T21:00:00.306Z"
   },
   {
    "duration": 5,
    "start_time": "2025-05-01T21:01:04.198Z"
   },
   {
    "duration": 2,
    "start_time": "2025-05-01T21:01:18.512Z"
   },
   {
    "duration": 7,
    "start_time": "2025-05-01T21:01:31.498Z"
   },
   {
    "duration": 13,
    "start_time": "2025-05-01T21:01:54.544Z"
   },
   {
    "duration": 8,
    "start_time": "2025-05-01T21:02:11.348Z"
   },
   {
    "duration": 12,
    "start_time": "2025-05-01T21:02:26.144Z"
   },
   {
    "duration": 8,
    "start_time": "2025-05-01T21:13:05.170Z"
   },
   {
    "duration": 9,
    "start_time": "2025-05-01T21:18:15.815Z"
   },
   {
    "duration": 2,
    "start_time": "2025-05-01T21:18:23.320Z"
   },
   {
    "duration": 64,
    "start_time": "2025-05-01T21:22:44.800Z"
   },
   {
    "duration": 2,
    "start_time": "2025-05-01T21:22:59.273Z"
   },
   {
    "duration": 848,
    "start_time": "2025-05-01T21:22:59.277Z"
   },
   {
    "duration": 13,
    "start_time": "2025-05-01T21:23:00.126Z"
   },
   {
    "duration": 10,
    "start_time": "2025-05-01T21:23:00.141Z"
   },
   {
    "duration": 9,
    "start_time": "2025-05-01T21:23:00.153Z"
   },
   {
    "duration": 8,
    "start_time": "2025-05-01T21:23:00.163Z"
   },
   {
    "duration": 20,
    "start_time": "2025-05-01T21:23:00.173Z"
   },
   {
    "duration": 110,
    "start_time": "2025-05-01T21:23:00.195Z"
   },
   {
    "duration": 88,
    "start_time": "2025-05-01T21:23:00.308Z"
   },
   {
    "duration": 107,
    "start_time": "2025-05-01T21:23:00.398Z"
   },
   {
    "duration": 96,
    "start_time": "2025-05-01T21:23:00.507Z"
   },
   {
    "duration": 40,
    "start_time": "2025-05-01T21:23:00.605Z"
   },
   {
    "duration": 14,
    "start_time": "2025-05-01T21:23:00.647Z"
   },
   {
    "duration": 4,
    "start_time": "2025-05-01T21:23:00.663Z"
   },
   {
    "duration": 25,
    "start_time": "2025-05-01T21:23:00.669Z"
   },
   {
    "duration": 46,
    "start_time": "2025-05-01T21:23:00.696Z"
   },
   {
    "duration": 5,
    "start_time": "2025-05-01T21:23:00.744Z"
   },
   {
    "duration": 5,
    "start_time": "2025-05-01T21:23:00.751Z"
   },
   {
    "duration": 6,
    "start_time": "2025-05-01T21:23:00.757Z"
   },
   {
    "duration": 4,
    "start_time": "2025-05-01T21:23:00.765Z"
   },
   {
    "duration": 814,
    "start_time": "2025-05-01T21:23:00.770Z"
   },
   {
    "duration": 6,
    "start_time": "2025-05-01T21:23:01.586Z"
   },
   {
    "duration": 5,
    "start_time": "2025-05-01T21:23:01.594Z"
   },
   {
    "duration": 28,
    "start_time": "2025-05-01T21:23:01.604Z"
   },
   {
    "duration": 14,
    "start_time": "2025-05-01T21:23:01.634Z"
   },
   {
    "duration": 0,
    "start_time": "2025-05-01T21:23:01.650Z"
   },
   {
    "duration": 0,
    "start_time": "2025-05-01T21:23:01.651Z"
   },
   {
    "duration": 0,
    "start_time": "2025-05-01T21:23:01.653Z"
   },
   {
    "duration": 0,
    "start_time": "2025-05-01T21:23:01.654Z"
   },
   {
    "duration": 0,
    "start_time": "2025-05-01T21:23:01.656Z"
   },
   {
    "duration": 0,
    "start_time": "2025-05-01T21:23:01.657Z"
   },
   {
    "duration": 0,
    "start_time": "2025-05-01T21:23:01.659Z"
   },
   {
    "duration": 0,
    "start_time": "2025-05-01T21:23:01.660Z"
   },
   {
    "duration": 0,
    "start_time": "2025-05-01T21:23:01.662Z"
   },
   {
    "duration": 9,
    "start_time": "2025-05-01T21:23:20.195Z"
   },
   {
    "duration": 401,
    "start_time": "2025-05-01T21:23:38.075Z"
   },
   {
    "duration": 6,
    "start_time": "2025-05-01T21:23:59.822Z"
   },
   {
    "duration": 7,
    "start_time": "2025-05-01T21:24:23.528Z"
   },
   {
    "duration": 12,
    "start_time": "2025-05-01T21:30:30.646Z"
   },
   {
    "duration": 163,
    "start_time": "2025-05-02T00:51:06.993Z"
   },
   {
    "duration": 13,
    "start_time": "2025-05-02T00:52:25.192Z"
   },
   {
    "duration": 2134,
    "start_time": "2025-05-02T00:52:30.364Z"
   },
   {
    "duration": 1066,
    "start_time": "2025-05-02T00:52:32.500Z"
   },
   {
    "duration": 14,
    "start_time": "2025-05-02T00:52:33.567Z"
   },
   {
    "duration": 25,
    "start_time": "2025-05-02T00:52:33.584Z"
   },
   {
    "duration": 7,
    "start_time": "2025-05-02T00:52:33.612Z"
   },
   {
    "duration": 7,
    "start_time": "2025-05-02T00:52:33.621Z"
   },
   {
    "duration": 25,
    "start_time": "2025-05-02T00:52:33.630Z"
   },
   {
    "duration": 118,
    "start_time": "2025-05-02T00:52:33.656Z"
   },
   {
    "duration": 94,
    "start_time": "2025-05-02T00:52:33.776Z"
   },
   {
    "duration": 100,
    "start_time": "2025-05-02T00:52:33.874Z"
   },
   {
    "duration": 121,
    "start_time": "2025-05-02T00:52:33.976Z"
   },
   {
    "duration": 31,
    "start_time": "2025-05-02T00:52:34.099Z"
   },
   {
    "duration": 13,
    "start_time": "2025-05-02T00:52:34.132Z"
   },
   {
    "duration": 4,
    "start_time": "2025-05-02T00:52:34.147Z"
   },
   {
    "duration": 25,
    "start_time": "2025-05-02T00:52:34.153Z"
   },
   {
    "duration": 48,
    "start_time": "2025-05-02T00:52:34.180Z"
   },
   {
    "duration": 5,
    "start_time": "2025-05-02T00:52:34.230Z"
   },
   {
    "duration": 4,
    "start_time": "2025-05-02T00:52:34.237Z"
   },
   {
    "duration": 5,
    "start_time": "2025-05-02T00:52:34.242Z"
   },
   {
    "duration": 4,
    "start_time": "2025-05-02T00:52:34.249Z"
   },
   {
    "duration": 831,
    "start_time": "2025-05-02T00:52:34.254Z"
   },
   {
    "duration": 7,
    "start_time": "2025-05-02T00:52:35.088Z"
   },
   {
    "duration": 15,
    "start_time": "2025-05-02T00:52:35.097Z"
   },
   {
    "duration": 7,
    "start_time": "2025-05-02T00:52:35.113Z"
   },
   {
    "duration": 6,
    "start_time": "2025-05-02T00:52:35.122Z"
   },
   {
    "duration": 43,
    "start_time": "2025-05-02T00:52:35.130Z"
   },
   {
    "duration": 0,
    "start_time": "2025-05-02T00:52:35.175Z"
   },
   {
    "duration": 0,
    "start_time": "2025-05-02T00:52:35.179Z"
   },
   {
    "duration": 0,
    "start_time": "2025-05-02T00:52:35.209Z"
   },
   {
    "duration": 0,
    "start_time": "2025-05-02T00:52:35.210Z"
   },
   {
    "duration": 0,
    "start_time": "2025-05-02T00:52:35.212Z"
   },
   {
    "duration": 0,
    "start_time": "2025-05-02T00:52:35.213Z"
   },
   {
    "duration": 0,
    "start_time": "2025-05-02T00:52:35.214Z"
   },
   {
    "duration": 0,
    "start_time": "2025-05-02T00:52:35.215Z"
   },
   {
    "duration": 14,
    "start_time": "2025-05-02T00:52:51.268Z"
   },
   {
    "duration": 3,
    "start_time": "2025-05-02T00:53:45.110Z"
   },
   {
    "duration": 862,
    "start_time": "2025-05-02T00:53:45.116Z"
   },
   {
    "duration": 10,
    "start_time": "2025-05-02T00:53:45.980Z"
   },
   {
    "duration": 18,
    "start_time": "2025-05-02T00:53:45.992Z"
   },
   {
    "duration": 7,
    "start_time": "2025-05-02T00:53:46.012Z"
   },
   {
    "duration": 7,
    "start_time": "2025-05-02T00:53:46.021Z"
   },
   {
    "duration": 22,
    "start_time": "2025-05-02T00:53:46.030Z"
   },
   {
    "duration": 104,
    "start_time": "2025-05-02T00:53:46.054Z"
   },
   {
    "duration": 82,
    "start_time": "2025-05-02T00:53:46.162Z"
   },
   {
    "duration": 92,
    "start_time": "2025-05-02T00:53:46.246Z"
   },
   {
    "duration": 98,
    "start_time": "2025-05-02T00:53:46.340Z"
   },
   {
    "duration": 27,
    "start_time": "2025-05-02T00:53:46.439Z"
   },
   {
    "duration": 15,
    "start_time": "2025-05-02T00:53:46.467Z"
   },
   {
    "duration": 25,
    "start_time": "2025-05-02T00:53:46.484Z"
   },
   {
    "duration": 36,
    "start_time": "2025-05-02T00:53:46.511Z"
   },
   {
    "duration": 31,
    "start_time": "2025-05-02T00:53:46.549Z"
   },
   {
    "duration": 6,
    "start_time": "2025-05-02T00:53:46.582Z"
   },
   {
    "duration": 19,
    "start_time": "2025-05-02T00:53:46.590Z"
   },
   {
    "duration": 5,
    "start_time": "2025-05-02T00:53:46.611Z"
   },
   {
    "duration": 4,
    "start_time": "2025-05-02T00:53:46.618Z"
   },
   {
    "duration": 828,
    "start_time": "2025-05-02T00:53:46.624Z"
   },
   {
    "duration": 8,
    "start_time": "2025-05-02T00:53:47.454Z"
   },
   {
    "duration": 5,
    "start_time": "2025-05-02T00:53:47.464Z"
   },
   {
    "duration": 7,
    "start_time": "2025-05-02T00:53:47.474Z"
   },
   {
    "duration": 28,
    "start_time": "2025-05-02T00:53:47.482Z"
   },
   {
    "duration": 8,
    "start_time": "2025-05-02T00:53:47.512Z"
   },
   {
    "duration": 2,
    "start_time": "2025-05-02T00:53:47.522Z"
   },
   {
    "duration": 3,
    "start_time": "2025-05-02T00:53:47.526Z"
   },
   {
    "duration": 3,
    "start_time": "2025-05-02T00:53:47.531Z"
   },
   {
    "duration": 3,
    "start_time": "2025-05-02T00:53:47.535Z"
   },
   {
    "duration": 3,
    "start_time": "2025-05-02T00:53:47.539Z"
   },
   {
    "duration": 3,
    "start_time": "2025-05-02T00:53:47.544Z"
   },
   {
    "duration": 3,
    "start_time": "2025-05-02T00:53:47.549Z"
   },
   {
    "duration": 3,
    "start_time": "2025-05-02T00:53:47.553Z"
   },
   {
    "duration": 10,
    "start_time": "2025-05-02T00:55:34.906Z"
   },
   {
    "duration": 11,
    "start_time": "2025-05-02T00:55:46.710Z"
   },
   {
    "duration": 9,
    "start_time": "2025-05-02T00:56:02.504Z"
   },
   {
    "duration": 11,
    "start_time": "2025-05-02T00:56:19.281Z"
   },
   {
    "duration": 18,
    "start_time": "2025-05-02T01:24:25.136Z"
   },
   {
    "duration": 14,
    "start_time": "2025-05-02T01:25:10.331Z"
   },
   {
    "duration": 5,
    "start_time": "2025-05-02T01:25:53.335Z"
   },
   {
    "duration": 3,
    "start_time": "2025-05-02T01:26:00.853Z"
   },
   {
    "duration": 7,
    "start_time": "2025-05-02T01:26:26.716Z"
   },
   {
    "duration": 8,
    "start_time": "2025-05-02T01:33:42.035Z"
   },
   {
    "duration": 417,
    "start_time": "2025-05-02T01:39:48.852Z"
   },
   {
    "duration": 38,
    "start_time": "2025-05-02T01:39:57.313Z"
   },
   {
    "duration": 5,
    "start_time": "2025-05-02T01:40:09.471Z"
   },
   {
    "duration": 5,
    "start_time": "2025-05-02T01:40:22.591Z"
   },
   {
    "duration": 6,
    "start_time": "2025-05-02T01:40:31.126Z"
   },
   {
    "duration": 155,
    "start_time": "2025-05-04T01:26:55.878Z"
   },
   {
    "duration": 11,
    "start_time": "2025-05-04T01:27:20.009Z"
   },
   {
    "duration": 2113,
    "start_time": "2025-05-04T01:27:45.010Z"
   },
   {
    "duration": 1127,
    "start_time": "2025-05-04T01:27:47.125Z"
   },
   {
    "duration": 13,
    "start_time": "2025-05-04T01:27:48.254Z"
   },
   {
    "duration": 11,
    "start_time": "2025-05-04T01:27:48.269Z"
   },
   {
    "duration": 8,
    "start_time": "2025-05-04T01:27:48.284Z"
   },
   {
    "duration": 31,
    "start_time": "2025-05-04T01:27:48.293Z"
   },
   {
    "duration": 26,
    "start_time": "2025-05-04T01:27:48.329Z"
   },
   {
    "duration": 135,
    "start_time": "2025-05-04T01:27:48.357Z"
   },
   {
    "duration": 115,
    "start_time": "2025-05-04T01:27:48.494Z"
   },
   {
    "duration": 91,
    "start_time": "2025-05-04T01:27:48.612Z"
   },
   {
    "duration": 99,
    "start_time": "2025-05-04T01:27:48.707Z"
   },
   {
    "duration": 36,
    "start_time": "2025-05-04T01:27:48.808Z"
   },
   {
    "duration": 24,
    "start_time": "2025-05-04T01:27:48.846Z"
   },
   {
    "duration": 8,
    "start_time": "2025-05-04T01:27:48.874Z"
   },
   {
    "duration": 48,
    "start_time": "2025-05-04T01:27:48.883Z"
   },
   {
    "duration": 24,
    "start_time": "2025-05-04T01:27:48.933Z"
   },
   {
    "duration": 8,
    "start_time": "2025-05-04T01:27:48.960Z"
   },
   {
    "duration": 7,
    "start_time": "2025-05-04T01:27:48.970Z"
   },
   {
    "duration": 67,
    "start_time": "2025-05-04T01:27:48.979Z"
   },
   {
    "duration": 0,
    "start_time": "2025-05-04T01:27:49.048Z"
   },
   {
    "duration": 0,
    "start_time": "2025-05-04T01:27:49.049Z"
   },
   {
    "duration": 0,
    "start_time": "2025-05-04T01:27:49.050Z"
   },
   {
    "duration": 0,
    "start_time": "2025-05-04T01:27:49.051Z"
   },
   {
    "duration": 0,
    "start_time": "2025-05-04T01:27:49.053Z"
   },
   {
    "duration": 0,
    "start_time": "2025-05-04T01:27:49.054Z"
   },
   {
    "duration": 0,
    "start_time": "2025-05-04T01:27:49.056Z"
   },
   {
    "duration": 0,
    "start_time": "2025-05-04T01:27:49.058Z"
   },
   {
    "duration": 0,
    "start_time": "2025-05-04T01:27:49.059Z"
   },
   {
    "duration": 0,
    "start_time": "2025-05-04T01:27:49.061Z"
   },
   {
    "duration": 0,
    "start_time": "2025-05-04T01:27:49.062Z"
   },
   {
    "duration": 0,
    "start_time": "2025-05-04T01:27:49.063Z"
   },
   {
    "duration": 0,
    "start_time": "2025-05-04T01:27:49.065Z"
   },
   {
    "duration": 0,
    "start_time": "2025-05-04T01:27:49.066Z"
   },
   {
    "duration": 0,
    "start_time": "2025-05-04T01:27:49.067Z"
   },
   {
    "duration": 6,
    "start_time": "2025-05-04T01:28:00.697Z"
   },
   {
    "duration": 6,
    "start_time": "2025-05-04T01:28:13.258Z"
   },
   {
    "duration": 5,
    "start_time": "2025-05-04T01:28:16.725Z"
   },
   {
    "duration": 17,
    "start_time": "2025-05-04T01:28:34.198Z"
   },
   {
    "duration": 9,
    "start_time": "2025-05-04T01:28:42.851Z"
   },
   {
    "duration": 6,
    "start_time": "2025-05-04T01:31:26.867Z"
   },
   {
    "duration": 5,
    "start_time": "2025-05-04T01:31:49.859Z"
   },
   {
    "duration": 5,
    "start_time": "2025-05-04T01:31:55.100Z"
   },
   {
    "duration": 8,
    "start_time": "2025-05-04T01:31:56.133Z"
   },
   {
    "duration": 8,
    "start_time": "2025-05-04T01:31:56.705Z"
   },
   {
    "duration": 18,
    "start_time": "2025-05-04T01:31:57.582Z"
   },
   {
    "duration": 23,
    "start_time": "2025-05-04T01:31:58.374Z"
   },
   {
    "duration": 7,
    "start_time": "2025-05-04T01:32:11.975Z"
   },
   {
    "duration": 5,
    "start_time": "2025-05-04T01:32:13.274Z"
   },
   {
    "duration": 6,
    "start_time": "2025-05-04T01:52:05.292Z"
   },
   {
    "duration": 9,
    "start_time": "2025-05-04T01:52:09.382Z"
   },
   {
    "duration": 16,
    "start_time": "2025-05-04T01:52:19.448Z"
   },
   {
    "duration": 20,
    "start_time": "2025-05-04T01:52:27.135Z"
   },
   {
    "duration": 6,
    "start_time": "2025-05-04T01:52:38.081Z"
   },
   {
    "duration": 7,
    "start_time": "2025-05-04T01:52:50.866Z"
   },
   {
    "duration": 6,
    "start_time": "2025-05-04T01:52:58.763Z"
   },
   {
    "duration": 5,
    "start_time": "2025-05-04T01:56:29.461Z"
   },
   {
    "duration": 5,
    "start_time": "2025-05-04T01:56:36.061Z"
   },
   {
    "duration": 8,
    "start_time": "2025-05-04T01:56:40.817Z"
   },
   {
    "duration": 5,
    "start_time": "2025-05-04T01:56:42.262Z"
   },
   {
    "duration": 6,
    "start_time": "2025-05-04T01:58:14.387Z"
   },
   {
    "duration": 153,
    "start_time": "2025-05-04T15:58:38.368Z"
   },
   {
    "duration": 10,
    "start_time": "2025-05-04T15:59:38.317Z"
   },
   {
    "duration": 12,
    "start_time": "2025-05-04T15:59:47.452Z"
   },
   {
    "duration": 2232,
    "start_time": "2025-05-04T15:59:54.510Z"
   },
   {
    "duration": 1060,
    "start_time": "2025-05-04T15:59:56.744Z"
   },
   {
    "duration": 11,
    "start_time": "2025-05-04T15:59:57.806Z"
   },
   {
    "duration": 9,
    "start_time": "2025-05-04T15:59:57.819Z"
   },
   {
    "duration": 9,
    "start_time": "2025-05-04T15:59:57.830Z"
   },
   {
    "duration": 8,
    "start_time": "2025-05-04T15:59:57.840Z"
   },
   {
    "duration": 23,
    "start_time": "2025-05-04T15:59:57.871Z"
   },
   {
    "duration": 108,
    "start_time": "2025-05-04T15:59:57.896Z"
   },
   {
    "duration": 98,
    "start_time": "2025-05-04T15:59:58.006Z"
   },
   {
    "duration": 100,
    "start_time": "2025-05-04T15:59:58.109Z"
   },
   {
    "duration": 92,
    "start_time": "2025-05-04T15:59:58.211Z"
   },
   {
    "duration": 27,
    "start_time": "2025-05-04T15:59:58.304Z"
   },
   {
    "duration": 14,
    "start_time": "2025-05-04T15:59:58.333Z"
   },
   {
    "duration": 23,
    "start_time": "2025-05-04T15:59:58.348Z"
   },
   {
    "duration": 25,
    "start_time": "2025-05-04T15:59:58.372Z"
   },
   {
    "duration": 19,
    "start_time": "2025-05-04T15:59:58.399Z"
   },
   {
    "duration": 5,
    "start_time": "2025-05-04T15:59:58.420Z"
   },
   {
    "duration": 5,
    "start_time": "2025-05-04T15:59:58.427Z"
   },
   {
    "duration": 6,
    "start_time": "2025-05-04T15:59:58.434Z"
   },
   {
    "duration": 43,
    "start_time": "2025-05-04T15:59:58.471Z"
   },
   {
    "duration": 0,
    "start_time": "2025-05-04T15:59:58.516Z"
   },
   {
    "duration": 0,
    "start_time": "2025-05-04T15:59:58.517Z"
   },
   {
    "duration": 0,
    "start_time": "2025-05-04T15:59:58.518Z"
   },
   {
    "duration": 0,
    "start_time": "2025-05-04T15:59:58.520Z"
   },
   {
    "duration": 0,
    "start_time": "2025-05-04T15:59:58.522Z"
   },
   {
    "duration": 0,
    "start_time": "2025-05-04T15:59:58.523Z"
   },
   {
    "duration": 0,
    "start_time": "2025-05-04T15:59:58.524Z"
   },
   {
    "duration": 0,
    "start_time": "2025-05-04T15:59:58.524Z"
   },
   {
    "duration": 0,
    "start_time": "2025-05-04T15:59:58.526Z"
   },
   {
    "duration": 0,
    "start_time": "2025-05-04T15:59:58.527Z"
   },
   {
    "duration": 0,
    "start_time": "2025-05-04T15:59:58.528Z"
   },
   {
    "duration": 0,
    "start_time": "2025-05-04T15:59:58.530Z"
   },
   {
    "duration": 0,
    "start_time": "2025-05-04T15:59:58.531Z"
   },
   {
    "duration": 0,
    "start_time": "2025-05-04T15:59:58.533Z"
   },
   {
    "duration": 4,
    "start_time": "2025-05-04T16:00:20.619Z"
   },
   {
    "duration": 736,
    "start_time": "2025-05-04T16:00:28.746Z"
   },
   {
    "duration": 6,
    "start_time": "2025-05-04T16:00:32.446Z"
   },
   {
    "duration": 6,
    "start_time": "2025-05-04T16:00:37.034Z"
   },
   {
    "duration": 8,
    "start_time": "2025-05-04T16:00:48.005Z"
   },
   {
    "duration": 2,
    "start_time": "2025-05-04T16:00:57.650Z"
   },
   {
    "duration": 824,
    "start_time": "2025-05-04T16:00:57.658Z"
   },
   {
    "duration": 11,
    "start_time": "2025-05-04T16:00:58.484Z"
   },
   {
    "duration": 10,
    "start_time": "2025-05-04T16:00:58.496Z"
   },
   {
    "duration": 8,
    "start_time": "2025-05-04T16:00:58.507Z"
   },
   {
    "duration": 7,
    "start_time": "2025-05-04T16:00:58.517Z"
   },
   {
    "duration": 48,
    "start_time": "2025-05-04T16:00:58.526Z"
   },
   {
    "duration": 74,
    "start_time": "2025-05-04T16:00:58.576Z"
   },
   {
    "duration": 88,
    "start_time": "2025-05-04T16:00:58.652Z"
   },
   {
    "duration": 85,
    "start_time": "2025-05-04T16:00:58.742Z"
   },
   {
    "duration": 75,
    "start_time": "2025-05-04T16:00:58.829Z"
   },
   {
    "duration": 24,
    "start_time": "2025-05-04T16:00:58.905Z"
   },
   {
    "duration": 13,
    "start_time": "2025-05-04T16:00:58.931Z"
   },
   {
    "duration": 4,
    "start_time": "2025-05-04T16:00:58.945Z"
   },
   {
    "duration": 26,
    "start_time": "2025-05-04T16:00:58.973Z"
   },
   {
    "duration": 20,
    "start_time": "2025-05-04T16:00:59.000Z"
   },
   {
    "duration": 5,
    "start_time": "2025-05-04T16:00:59.022Z"
   },
   {
    "duration": 5,
    "start_time": "2025-05-04T16:00:59.029Z"
   },
   {
    "duration": 35,
    "start_time": "2025-05-04T16:00:59.036Z"
   },
   {
    "duration": 4,
    "start_time": "2025-05-04T16:00:59.072Z"
   },
   {
    "duration": 736,
    "start_time": "2025-05-04T16:00:59.078Z"
   },
   {
    "duration": 6,
    "start_time": "2025-05-04T16:00:59.816Z"
   },
   {
    "duration": 5,
    "start_time": "2025-05-04T16:00:59.824Z"
   },
   {
    "duration": 7,
    "start_time": "2025-05-04T16:00:59.830Z"
   },
   {
    "duration": 32,
    "start_time": "2025-05-04T16:00:59.839Z"
   },
   {
    "duration": 15,
    "start_time": "2025-05-04T16:00:59.873Z"
   },
   {
    "duration": 19,
    "start_time": "2025-05-04T16:00:59.890Z"
   },
   {
    "duration": 6,
    "start_time": "2025-05-04T16:00:59.910Z"
   },
   {
    "duration": 5,
    "start_time": "2025-05-04T16:00:59.917Z"
   },
   {
    "duration": 2,
    "start_time": "2025-05-04T16:00:59.924Z"
   },
   {
    "duration": 3,
    "start_time": "2025-05-04T16:00:59.928Z"
   },
   {
    "duration": 3,
    "start_time": "2025-05-04T16:00:59.932Z"
   },
   {
    "duration": 2,
    "start_time": "2025-05-04T16:00:59.970Z"
   },
   {
    "duration": 3,
    "start_time": "2025-05-04T16:00:59.973Z"
   },
   {
    "duration": 20,
    "start_time": "2025-05-04T16:34:57.032Z"
   },
   {
    "duration": 166,
    "start_time": "2025-05-05T17:11:47.520Z"
   },
   {
    "duration": 2113,
    "start_time": "2025-05-05T17:12:02.526Z"
   },
   {
    "duration": 960,
    "start_time": "2025-05-05T17:12:04.641Z"
   },
   {
    "duration": 12,
    "start_time": "2025-05-05T17:12:05.603Z"
   },
   {
    "duration": 18,
    "start_time": "2025-05-05T17:12:05.617Z"
   },
   {
    "duration": 7,
    "start_time": "2025-05-05T17:12:05.637Z"
   },
   {
    "duration": 7,
    "start_time": "2025-05-05T17:12:05.646Z"
   },
   {
    "duration": 25,
    "start_time": "2025-05-05T17:12:05.654Z"
   },
   {
    "duration": 113,
    "start_time": "2025-05-05T17:12:05.680Z"
   },
   {
    "duration": 114,
    "start_time": "2025-05-05T17:12:05.796Z"
   },
   {
    "duration": 105,
    "start_time": "2025-05-05T17:12:05.913Z"
   },
   {
    "duration": 93,
    "start_time": "2025-05-05T17:12:06.020Z"
   },
   {
    "duration": 37,
    "start_time": "2025-05-05T17:12:06.115Z"
   },
   {
    "duration": 14,
    "start_time": "2025-05-05T17:12:06.154Z"
   },
   {
    "duration": 4,
    "start_time": "2025-05-05T17:12:06.171Z"
   },
   {
    "duration": 25,
    "start_time": "2025-05-05T17:12:06.176Z"
   },
   {
    "duration": 52,
    "start_time": "2025-05-05T17:12:06.203Z"
   },
   {
    "duration": 5,
    "start_time": "2025-05-05T17:12:06.257Z"
   },
   {
    "duration": 5,
    "start_time": "2025-05-05T17:12:06.264Z"
   },
   {
    "duration": 6,
    "start_time": "2025-05-05T17:12:06.270Z"
   },
   {
    "duration": 3,
    "start_time": "2025-05-05T17:12:06.278Z"
   },
   {
    "duration": 861,
    "start_time": "2025-05-05T17:12:06.283Z"
   },
   {
    "duration": 44,
    "start_time": "2025-05-05T17:12:07.146Z"
   },
   {
    "duration": 0,
    "start_time": "2025-05-05T17:12:07.192Z"
   },
   {
    "duration": 0,
    "start_time": "2025-05-05T17:12:07.193Z"
   },
   {
    "duration": 0,
    "start_time": "2025-05-05T17:12:07.195Z"
   },
   {
    "duration": 0,
    "start_time": "2025-05-05T17:12:07.197Z"
   },
   {
    "duration": 0,
    "start_time": "2025-05-05T17:12:07.198Z"
   },
   {
    "duration": 0,
    "start_time": "2025-05-05T17:12:07.200Z"
   },
   {
    "duration": 0,
    "start_time": "2025-05-05T17:12:07.201Z"
   },
   {
    "duration": 0,
    "start_time": "2025-05-05T17:12:07.203Z"
   },
   {
    "duration": 0,
    "start_time": "2025-05-05T17:12:07.204Z"
   },
   {
    "duration": 0,
    "start_time": "2025-05-05T17:12:07.231Z"
   },
   {
    "duration": 0,
    "start_time": "2025-05-05T17:12:07.233Z"
   },
   {
    "duration": 0,
    "start_time": "2025-05-05T17:12:07.234Z"
   },
   {
    "duration": 3,
    "start_time": "2025-05-05T17:12:19.764Z"
   },
   {
    "duration": 844,
    "start_time": "2025-05-05T17:12:19.772Z"
   },
   {
    "duration": 19,
    "start_time": "2025-05-05T17:12:20.618Z"
   },
   {
    "duration": 9,
    "start_time": "2025-05-05T17:12:20.639Z"
   },
   {
    "duration": 7,
    "start_time": "2025-05-05T17:12:20.650Z"
   },
   {
    "duration": 8,
    "start_time": "2025-05-05T17:12:20.661Z"
   },
   {
    "duration": 22,
    "start_time": "2025-05-05T17:12:20.670Z"
   },
   {
    "duration": 110,
    "start_time": "2025-05-05T17:12:20.693Z"
   },
   {
    "duration": 92,
    "start_time": "2025-05-05T17:12:20.805Z"
   },
   {
    "duration": 97,
    "start_time": "2025-05-05T17:12:20.899Z"
   },
   {
    "duration": 104,
    "start_time": "2025-05-05T17:12:20.998Z"
   },
   {
    "duration": 36,
    "start_time": "2025-05-05T17:12:21.104Z"
   },
   {
    "duration": 14,
    "start_time": "2025-05-05T17:12:21.143Z"
   },
   {
    "duration": 4,
    "start_time": "2025-05-05T17:12:21.162Z"
   },
   {
    "duration": 26,
    "start_time": "2025-05-05T17:12:21.170Z"
   },
   {
    "duration": 42,
    "start_time": "2025-05-05T17:12:21.198Z"
   },
   {
    "duration": 6,
    "start_time": "2025-05-05T17:12:21.241Z"
   },
   {
    "duration": 5,
    "start_time": "2025-05-05T17:12:21.249Z"
   },
   {
    "duration": 5,
    "start_time": "2025-05-05T17:12:21.256Z"
   },
   {
    "duration": 5,
    "start_time": "2025-05-05T17:12:21.262Z"
   },
   {
    "duration": 878,
    "start_time": "2025-05-05T17:12:21.268Z"
   },
   {
    "duration": 14,
    "start_time": "2025-05-05T17:12:22.147Z"
   },
   {
    "duration": 0,
    "start_time": "2025-05-05T17:12:22.163Z"
   },
   {
    "duration": 0,
    "start_time": "2025-05-05T17:12:22.164Z"
   },
   {
    "duration": 0,
    "start_time": "2025-05-05T17:12:22.165Z"
   },
   {
    "duration": 0,
    "start_time": "2025-05-05T17:12:22.166Z"
   },
   {
    "duration": 0,
    "start_time": "2025-05-05T17:12:22.167Z"
   },
   {
    "duration": 0,
    "start_time": "2025-05-05T17:12:22.169Z"
   },
   {
    "duration": 0,
    "start_time": "2025-05-05T17:12:22.170Z"
   },
   {
    "duration": 0,
    "start_time": "2025-05-05T17:12:22.173Z"
   },
   {
    "duration": 0,
    "start_time": "2025-05-05T17:12:22.174Z"
   },
   {
    "duration": 0,
    "start_time": "2025-05-05T17:12:22.176Z"
   },
   {
    "duration": 0,
    "start_time": "2025-05-05T17:12:22.177Z"
   },
   {
    "duration": 0,
    "start_time": "2025-05-05T17:12:22.178Z"
   },
   {
    "duration": 52,
    "start_time": "2025-05-05T17:12:47.465Z"
   },
   {
    "duration": 3,
    "start_time": "2025-05-05T17:12:59.195Z"
   },
   {
    "duration": 813,
    "start_time": "2025-05-05T17:12:59.201Z"
   },
   {
    "duration": 17,
    "start_time": "2025-05-05T17:13:00.016Z"
   },
   {
    "duration": 10,
    "start_time": "2025-05-05T17:13:00.034Z"
   },
   {
    "duration": 7,
    "start_time": "2025-05-05T17:13:00.045Z"
   },
   {
    "duration": 7,
    "start_time": "2025-05-05T17:13:00.056Z"
   },
   {
    "duration": 21,
    "start_time": "2025-05-05T17:13:00.064Z"
   },
   {
    "duration": 111,
    "start_time": "2025-05-05T17:13:00.087Z"
   },
   {
    "duration": 88,
    "start_time": "2025-05-05T17:13:00.199Z"
   },
   {
    "duration": 85,
    "start_time": "2025-05-05T17:13:00.289Z"
   },
   {
    "duration": 88,
    "start_time": "2025-05-05T17:13:00.377Z"
   },
   {
    "duration": 23,
    "start_time": "2025-05-05T17:13:00.467Z"
   },
   {
    "duration": 14,
    "start_time": "2025-05-05T17:13:00.492Z"
   },
   {
    "duration": 24,
    "start_time": "2025-05-05T17:13:00.508Z"
   },
   {
    "duration": 26,
    "start_time": "2025-05-05T17:13:00.536Z"
   },
   {
    "duration": 20,
    "start_time": "2025-05-05T17:13:00.564Z"
   },
   {
    "duration": 6,
    "start_time": "2025-05-05T17:13:00.585Z"
   },
   {
    "duration": 5,
    "start_time": "2025-05-05T17:13:00.592Z"
   },
   {
    "duration": 34,
    "start_time": "2025-05-05T17:13:00.598Z"
   },
   {
    "duration": 4,
    "start_time": "2025-05-05T17:13:00.634Z"
   },
   {
    "duration": 758,
    "start_time": "2025-05-05T17:13:00.640Z"
   },
   {
    "duration": 13,
    "start_time": "2025-05-05T17:13:01.400Z"
   },
   {
    "duration": 0,
    "start_time": "2025-05-05T17:13:01.415Z"
   },
   {
    "duration": 0,
    "start_time": "2025-05-05T17:13:01.431Z"
   },
   {
    "duration": 0,
    "start_time": "2025-05-05T17:13:01.432Z"
   },
   {
    "duration": 0,
    "start_time": "2025-05-05T17:13:01.434Z"
   },
   {
    "duration": 0,
    "start_time": "2025-05-05T17:13:01.434Z"
   },
   {
    "duration": 0,
    "start_time": "2025-05-05T17:13:01.436Z"
   },
   {
    "duration": 0,
    "start_time": "2025-05-05T17:13:01.437Z"
   },
   {
    "duration": 0,
    "start_time": "2025-05-05T17:13:01.438Z"
   },
   {
    "duration": 0,
    "start_time": "2025-05-05T17:13:01.439Z"
   },
   {
    "duration": 0,
    "start_time": "2025-05-05T17:13:01.440Z"
   },
   {
    "duration": 0,
    "start_time": "2025-05-05T17:13:01.441Z"
   },
   {
    "duration": 0,
    "start_time": "2025-05-05T17:13:01.442Z"
   },
   {
    "duration": 4,
    "start_time": "2025-05-05T17:13:40.180Z"
   },
   {
    "duration": 5,
    "start_time": "2025-05-05T17:14:20.179Z"
   },
   {
    "duration": 885,
    "start_time": "2025-05-05T17:14:35.385Z"
   },
   {
    "duration": 322,
    "start_time": "2025-05-05T17:16:17.987Z"
   },
   {
    "duration": 162,
    "start_time": "2025-05-05T17:16:31.452Z"
   },
   {
    "duration": 195,
    "start_time": "2025-05-05T17:17:03.014Z"
   },
   {
    "duration": 13,
    "start_time": "2025-05-05T17:19:07.465Z"
   },
   {
    "duration": 682,
    "start_time": "2025-05-05T17:19:32.386Z"
   },
   {
    "duration": 4,
    "start_time": "2025-05-05T17:20:10.161Z"
   },
   {
    "duration": 5,
    "start_time": "2025-05-05T17:20:23.991Z"
   },
   {
    "duration": 12,
    "start_time": "2025-05-05T17:20:28.325Z"
   },
   {
    "duration": 4,
    "start_time": "2025-05-05T17:20:32.731Z"
   },
   {
    "duration": 6,
    "start_time": "2025-05-05T17:21:09.698Z"
   },
   {
    "duration": 6,
    "start_time": "2025-05-05T17:21:18.015Z"
   },
   {
    "duration": 8,
    "start_time": "2025-05-05T17:21:26.285Z"
   },
   {
    "duration": 8,
    "start_time": "2025-05-05T17:21:33.269Z"
   },
   {
    "duration": 81,
    "start_time": "2025-05-05T18:14:06.911Z"
   },
   {
    "duration": 88,
    "start_time": "2025-05-05T18:14:19.038Z"
   },
   {
    "duration": 89,
    "start_time": "2025-05-05T18:15:21.988Z"
   },
   {
    "duration": 86,
    "start_time": "2025-05-05T18:15:33.688Z"
   },
   {
    "duration": 96,
    "start_time": "2025-05-05T18:15:46.064Z"
   },
   {
    "duration": 95,
    "start_time": "2025-05-05T18:17:57.051Z"
   },
   {
    "duration": 3,
    "start_time": "2025-05-05T18:18:09.613Z"
   },
   {
    "duration": 842,
    "start_time": "2025-05-05T18:18:09.618Z"
   },
   {
    "duration": 10,
    "start_time": "2025-05-05T18:18:10.462Z"
   },
   {
    "duration": 9,
    "start_time": "2025-05-05T18:18:10.474Z"
   },
   {
    "duration": 7,
    "start_time": "2025-05-05T18:18:10.485Z"
   },
   {
    "duration": 6,
    "start_time": "2025-05-05T18:18:10.495Z"
   },
   {
    "duration": 46,
    "start_time": "2025-05-05T18:18:10.503Z"
   },
   {
    "duration": 89,
    "start_time": "2025-05-05T18:18:10.551Z"
   },
   {
    "duration": 75,
    "start_time": "2025-05-05T18:18:10.642Z"
   },
   {
    "duration": 96,
    "start_time": "2025-05-05T18:18:10.719Z"
   },
   {
    "duration": 95,
    "start_time": "2025-05-05T18:18:10.817Z"
   },
   {
    "duration": 39,
    "start_time": "2025-05-05T18:18:10.914Z"
   },
   {
    "duration": 15,
    "start_time": "2025-05-05T18:18:10.955Z"
   },
   {
    "duration": 3,
    "start_time": "2025-05-05T18:18:10.975Z"
   },
   {
    "duration": 26,
    "start_time": "2025-05-05T18:18:10.980Z"
   },
   {
    "duration": 41,
    "start_time": "2025-05-05T18:18:11.008Z"
   },
   {
    "duration": 5,
    "start_time": "2025-05-05T18:18:11.051Z"
   },
   {
    "duration": 5,
    "start_time": "2025-05-05T18:18:11.058Z"
   },
   {
    "duration": 5,
    "start_time": "2025-05-05T18:18:11.064Z"
   },
   {
    "duration": 4,
    "start_time": "2025-05-05T18:18:11.071Z"
   },
   {
    "duration": 851,
    "start_time": "2025-05-05T18:18:11.077Z"
   },
   {
    "duration": 715,
    "start_time": "2025-05-05T18:18:11.931Z"
   },
   {
    "duration": 6,
    "start_time": "2025-05-05T18:18:12.647Z"
   },
   {
    "duration": 7,
    "start_time": "2025-05-05T18:18:12.655Z"
   },
   {
    "duration": 6,
    "start_time": "2025-05-05T18:18:12.664Z"
   },
   {
    "duration": 15,
    "start_time": "2025-05-05T18:18:12.673Z"
   },
   {
    "duration": 17,
    "start_time": "2025-05-05T18:18:12.691Z"
   },
   {
    "duration": 27,
    "start_time": "2025-05-05T18:18:12.710Z"
   },
   {
    "duration": 5,
    "start_time": "2025-05-05T18:18:12.738Z"
   },
   {
    "duration": 2,
    "start_time": "2025-05-05T18:18:12.745Z"
   },
   {
    "duration": 3,
    "start_time": "2025-05-05T18:18:12.748Z"
   },
   {
    "duration": 2,
    "start_time": "2025-05-05T18:18:12.754Z"
   },
   {
    "duration": 3,
    "start_time": "2025-05-05T18:18:12.757Z"
   },
   {
    "duration": 4,
    "start_time": "2025-05-05T18:18:12.762Z"
   },
   {
    "duration": 83,
    "start_time": "2025-05-05T18:18:51.686Z"
   },
   {
    "duration": 435,
    "start_time": "2025-05-05T18:19:10.869Z"
   },
   {
    "duration": 926,
    "start_time": "2025-05-05T18:19:11.308Z"
   },
   {
    "duration": 12,
    "start_time": "2025-05-05T18:19:12.235Z"
   },
   {
    "duration": 9,
    "start_time": "2025-05-05T18:19:12.248Z"
   },
   {
    "duration": 7,
    "start_time": "2025-05-05T18:19:12.261Z"
   },
   {
    "duration": 7,
    "start_time": "2025-05-05T18:19:12.270Z"
   },
   {
    "duration": 52,
    "start_time": "2025-05-05T18:19:12.279Z"
   },
   {
    "duration": 101,
    "start_time": "2025-05-05T18:19:12.333Z"
   },
   {
    "duration": 104,
    "start_time": "2025-05-05T18:19:12.435Z"
   },
   {
    "duration": 105,
    "start_time": "2025-05-05T18:19:12.541Z"
   },
   {
    "duration": 93,
    "start_time": "2025-05-05T18:19:12.648Z"
   },
   {
    "duration": 31,
    "start_time": "2025-05-05T18:19:12.743Z"
   },
   {
    "duration": 14,
    "start_time": "2025-05-05T18:19:12.776Z"
   },
   {
    "duration": 4,
    "start_time": "2025-05-05T18:19:12.793Z"
   },
   {
    "duration": 53,
    "start_time": "2025-05-05T18:19:12.799Z"
   },
   {
    "duration": 21,
    "start_time": "2025-05-05T18:19:12.854Z"
   },
   {
    "duration": 6,
    "start_time": "2025-05-05T18:19:12.879Z"
   },
   {
    "duration": 6,
    "start_time": "2025-05-05T18:19:12.887Z"
   },
   {
    "duration": 5,
    "start_time": "2025-05-05T18:19:12.895Z"
   },
   {
    "duration": 30,
    "start_time": "2025-05-05T18:19:12.902Z"
   },
   {
    "duration": 777,
    "start_time": "2025-05-05T18:19:12.934Z"
   },
   {
    "duration": 672,
    "start_time": "2025-05-05T18:19:13.713Z"
   },
   {
    "duration": 6,
    "start_time": "2025-05-05T18:19:14.386Z"
   },
   {
    "duration": 7,
    "start_time": "2025-05-05T18:19:14.395Z"
   },
   {
    "duration": 7,
    "start_time": "2025-05-05T18:19:14.404Z"
   },
   {
    "duration": 9,
    "start_time": "2025-05-05T18:19:14.432Z"
   },
   {
    "duration": 17,
    "start_time": "2025-05-05T18:19:14.443Z"
   },
   {
    "duration": 6,
    "start_time": "2025-05-05T18:19:14.461Z"
   },
   {
    "duration": 4,
    "start_time": "2025-05-05T18:19:14.469Z"
   },
   {
    "duration": 3,
    "start_time": "2025-05-05T18:19:14.474Z"
   },
   {
    "duration": 4,
    "start_time": "2025-05-05T18:19:14.478Z"
   },
   {
    "duration": 4,
    "start_time": "2025-05-05T18:19:14.483Z"
   },
   {
    "duration": 3,
    "start_time": "2025-05-05T18:19:14.488Z"
   },
   {
    "duration": 2,
    "start_time": "2025-05-05T18:19:14.532Z"
   },
   {
    "duration": 744,
    "start_time": "2025-05-05T18:20:56.866Z"
   },
   {
    "duration": 7,
    "start_time": "2025-05-05T18:23:02.057Z"
   },
   {
    "duration": 12,
    "start_time": "2025-05-05T18:23:34.313Z"
   },
   {
    "duration": 88,
    "start_time": "2025-05-05T18:30:05.078Z"
   },
   {
    "duration": 89,
    "start_time": "2025-05-05T18:30:16.634Z"
   },
   {
    "duration": 87,
    "start_time": "2025-05-05T18:30:25.604Z"
   },
   {
    "duration": 93,
    "start_time": "2025-05-05T18:30:37.082Z"
   },
   {
    "duration": 94,
    "start_time": "2025-05-05T18:31:42.179Z"
   },
   {
    "duration": 90,
    "start_time": "2025-05-05T18:31:56.003Z"
   },
   {
    "duration": 14,
    "start_time": "2025-05-05T18:32:21.139Z"
   },
   {
    "duration": 5,
    "start_time": "2025-05-05T18:34:17.314Z"
   },
   {
    "duration": 5,
    "start_time": "2025-05-05T18:34:46.131Z"
   },
   {
    "duration": 856,
    "start_time": "2025-05-05T18:34:49.016Z"
   },
   {
    "duration": 76,
    "start_time": "2025-05-05T18:39:04.429Z"
   },
   {
    "duration": 71,
    "start_time": "2025-05-05T18:39:10.222Z"
   },
   {
    "duration": 73,
    "start_time": "2025-05-05T18:39:16.476Z"
   },
   {
    "duration": 87,
    "start_time": "2025-05-05T18:39:20.883Z"
   },
   {
    "duration": 83,
    "start_time": "2025-05-05T18:39:25.828Z"
   },
   {
    "duration": 16,
    "start_time": "2025-05-05T18:53:13.414Z"
   },
   {
    "duration": 6,
    "start_time": "2025-05-05T18:53:18.465Z"
   },
   {
    "duration": 15,
    "start_time": "2025-05-05T18:53:27.495Z"
   },
   {
    "duration": 875,
    "start_time": "2025-05-05T18:53:49.641Z"
   },
   {
    "duration": 16,
    "start_time": "2025-05-05T18:54:08.222Z"
   },
   {
    "duration": 11,
    "start_time": "2025-05-05T18:54:22.375Z"
   },
   {
    "duration": 99,
    "start_time": "2025-05-05T18:56:27.096Z"
   },
   {
    "duration": 92,
    "start_time": "2025-05-05T18:57:44.998Z"
   },
   {
    "duration": 2673,
    "start_time": "2025-05-06T00:17:49.531Z"
   },
   {
    "duration": 1195,
    "start_time": "2025-05-06T00:17:52.206Z"
   },
   {
    "duration": 17,
    "start_time": "2025-05-06T00:17:53.402Z"
   },
   {
    "duration": 12,
    "start_time": "2025-05-06T00:17:53.422Z"
   },
   {
    "duration": 11,
    "start_time": "2025-05-06T00:17:53.435Z"
   },
   {
    "duration": 9,
    "start_time": "2025-05-06T00:17:53.453Z"
   },
   {
    "duration": 23,
    "start_time": "2025-05-06T00:17:53.464Z"
   },
   {
    "duration": 119,
    "start_time": "2025-05-06T00:17:53.488Z"
   },
   {
    "duration": 14,
    "start_time": "2025-05-06T00:17:53.609Z"
   },
   {
    "duration": 115,
    "start_time": "2025-05-06T00:17:53.627Z"
   },
   {
    "duration": 85,
    "start_time": "2025-05-06T00:17:53.745Z"
   },
   {
    "duration": 39,
    "start_time": "2025-05-06T00:17:53.832Z"
   },
   {
    "duration": 16,
    "start_time": "2025-05-06T00:17:53.873Z"
   },
   {
    "duration": 6,
    "start_time": "2025-05-06T00:17:53.890Z"
   },
   {
    "duration": 57,
    "start_time": "2025-05-06T00:17:53.898Z"
   },
   {
    "duration": 24,
    "start_time": "2025-05-06T00:17:53.957Z"
   },
   {
    "duration": 6,
    "start_time": "2025-05-06T00:17:53.982Z"
   },
   {
    "duration": 5,
    "start_time": "2025-05-06T00:17:53.989Z"
   },
   {
    "duration": 30,
    "start_time": "2025-05-06T00:17:53.995Z"
   },
   {
    "duration": 4,
    "start_time": "2025-05-06T00:17:54.027Z"
   },
   {
    "duration": 958,
    "start_time": "2025-05-06T00:17:54.032Z"
   },
   {
    "duration": 673,
    "start_time": "2025-05-06T00:17:54.992Z"
   },
   {
    "duration": 6,
    "start_time": "2025-05-06T00:17:55.667Z"
   },
   {
    "duration": 7,
    "start_time": "2025-05-06T00:17:55.675Z"
   },
   {
    "duration": 7,
    "start_time": "2025-05-06T00:17:55.683Z"
   },
   {
    "duration": 38,
    "start_time": "2025-05-06T00:17:55.691Z"
   },
   {
    "duration": 21,
    "start_time": "2025-05-06T00:17:55.732Z"
   },
   {
    "duration": 8,
    "start_time": "2025-05-06T00:17:55.757Z"
   },
   {
    "duration": 5,
    "start_time": "2025-05-06T00:17:55.767Z"
   },
   {
    "duration": 2,
    "start_time": "2025-05-06T00:17:55.774Z"
   },
   {
    "duration": 3,
    "start_time": "2025-05-06T00:17:55.778Z"
   },
   {
    "duration": 3,
    "start_time": "2025-05-06T00:17:55.782Z"
   },
   {
    "duration": 3,
    "start_time": "2025-05-06T00:17:55.787Z"
   },
   {
    "duration": 3,
    "start_time": "2025-05-06T00:17:55.820Z"
   },
   {
    "duration": 88,
    "start_time": "2025-05-06T00:18:06.528Z"
   },
   {
    "duration": 121,
    "start_time": "2025-05-06T00:18:08.468Z"
   },
   {
    "duration": 488,
    "start_time": "2025-05-06T00:18:26.062Z"
   },
   {
    "duration": 1146,
    "start_time": "2025-05-06T00:18:26.552Z"
   },
   {
    "duration": 11,
    "start_time": "2025-05-06T00:18:27.699Z"
   },
   {
    "duration": 16,
    "start_time": "2025-05-06T00:18:27.721Z"
   },
   {
    "duration": 9,
    "start_time": "2025-05-06T00:18:27.741Z"
   },
   {
    "duration": 9,
    "start_time": "2025-05-06T00:18:27.752Z"
   },
   {
    "duration": 25,
    "start_time": "2025-05-06T00:18:27.763Z"
   },
   {
    "duration": 126,
    "start_time": "2025-05-06T00:18:27.790Z"
   },
   {
    "duration": 17,
    "start_time": "2025-05-06T00:18:27.920Z"
   },
   {
    "duration": 126,
    "start_time": "2025-05-06T00:18:27.941Z"
   },
   {
    "duration": 104,
    "start_time": "2025-05-06T00:18:28.069Z"
   },
   {
    "duration": 27,
    "start_time": "2025-05-06T00:18:28.175Z"
   },
   {
    "duration": 31,
    "start_time": "2025-05-06T00:18:28.204Z"
   },
   {
    "duration": 6,
    "start_time": "2025-05-06T00:18:28.237Z"
   },
   {
    "duration": 37,
    "start_time": "2025-05-06T00:18:28.245Z"
   },
   {
    "duration": 21,
    "start_time": "2025-05-06T00:18:28.284Z"
   },
   {
    "duration": 14,
    "start_time": "2025-05-06T00:18:28.307Z"
   },
   {
    "duration": 6,
    "start_time": "2025-05-06T00:18:28.323Z"
   },
   {
    "duration": 10,
    "start_time": "2025-05-06T00:18:28.331Z"
   },
   {
    "duration": 5,
    "start_time": "2025-05-06T00:18:28.347Z"
   },
   {
    "duration": 933,
    "start_time": "2025-05-06T00:18:28.354Z"
   },
   {
    "duration": 767,
    "start_time": "2025-05-06T00:18:29.289Z"
   },
   {
    "duration": 5,
    "start_time": "2025-05-06T00:18:30.058Z"
   },
   {
    "duration": 7,
    "start_time": "2025-05-06T00:18:30.065Z"
   },
   {
    "duration": 7,
    "start_time": "2025-05-06T00:18:30.073Z"
   },
   {
    "duration": 9,
    "start_time": "2025-05-06T00:18:30.082Z"
   },
   {
    "duration": 23,
    "start_time": "2025-05-06T00:18:30.123Z"
   },
   {
    "duration": 9,
    "start_time": "2025-05-06T00:18:30.151Z"
   },
   {
    "duration": 6,
    "start_time": "2025-05-06T00:18:30.162Z"
   },
   {
    "duration": 2,
    "start_time": "2025-05-06T00:18:30.170Z"
   },
   {
    "duration": 3,
    "start_time": "2025-05-06T00:18:30.174Z"
   },
   {
    "duration": 3,
    "start_time": "2025-05-06T00:18:30.178Z"
   },
   {
    "duration": 3,
    "start_time": "2025-05-06T00:18:30.183Z"
   },
   {
    "duration": 33,
    "start_time": "2025-05-06T00:18:30.187Z"
   },
   {
    "duration": 17,
    "start_time": "2025-05-06T00:19:03.638Z"
   },
   {
    "duration": 6,
    "start_time": "2025-05-06T00:19:15.460Z"
   },
   {
    "duration": 14,
    "start_time": "2025-05-06T00:19:23.373Z"
   },
   {
    "duration": 4,
    "start_time": "2025-05-06T00:19:27.295Z"
   },
   {
    "duration": 6,
    "start_time": "2025-05-06T00:19:48.844Z"
   },
   {
    "duration": 29,
    "start_time": "2025-05-06T00:20:24.780Z"
   },
   {
    "duration": 24,
    "start_time": "2025-05-06T00:20:37.283Z"
   },
   {
    "duration": 5,
    "start_time": "2025-05-06T00:20:52.339Z"
   },
   {
    "duration": 37,
    "start_time": "2025-05-06T00:21:03.672Z"
   },
   {
    "duration": 21,
    "start_time": "2025-05-06T00:21:07.687Z"
   },
   {
    "duration": 34,
    "start_time": "2025-05-06T00:21:19.236Z"
   },
   {
    "duration": 20,
    "start_time": "2025-05-06T00:21:24.793Z"
   },
   {
    "duration": 3,
    "start_time": "2025-05-06T00:21:34.889Z"
   },
   {
    "duration": 1039,
    "start_time": "2025-05-06T00:21:36.010Z"
   },
   {
    "duration": 16,
    "start_time": "2025-05-06T00:21:39.847Z"
   },
   {
    "duration": 9,
    "start_time": "2025-05-06T00:21:45.807Z"
   },
   {
    "duration": 8,
    "start_time": "2025-05-06T00:21:52.598Z"
   },
   {
    "duration": 8,
    "start_time": "2025-05-06T00:21:53.098Z"
   },
   {
    "duration": 33,
    "start_time": "2025-05-06T00:21:53.531Z"
   },
   {
    "duration": 90,
    "start_time": "2025-05-06T00:21:58.805Z"
   },
   {
    "duration": 12,
    "start_time": "2025-05-06T00:22:03.515Z"
   },
   {
    "duration": 97,
    "start_time": "2025-05-06T00:22:07.099Z"
   },
   {
    "duration": 82,
    "start_time": "2025-05-06T00:22:08.041Z"
   },
   {
    "duration": 31,
    "start_time": "2025-05-06T00:22:08.838Z"
   },
   {
    "duration": 14,
    "start_time": "2025-05-06T00:22:11.381Z"
   },
   {
    "duration": 7,
    "start_time": "2025-05-06T00:22:14.034Z"
   },
   {
    "duration": 39,
    "start_time": "2025-05-06T00:22:15.932Z"
   },
   {
    "duration": 31,
    "start_time": "2025-05-06T00:22:38.848Z"
   },
   {
    "duration": 6,
    "start_time": "2025-05-06T00:22:45.812Z"
   },
   {
    "duration": 5,
    "start_time": "2025-05-06T00:22:48.511Z"
   },
   {
    "duration": 6,
    "start_time": "2025-05-06T00:22:51.630Z"
   },
   {
    "duration": 4,
    "start_time": "2025-05-06T00:22:51.973Z"
   },
   {
    "duration": 856,
    "start_time": "2025-05-06T00:22:54.003Z"
   },
   {
    "duration": 738,
    "start_time": "2025-05-06T00:22:54.860Z"
   },
   {
    "duration": 6,
    "start_time": "2025-05-06T00:23:03.016Z"
   },
   {
    "duration": 9,
    "start_time": "2025-05-06T00:23:04.355Z"
   },
   {
    "duration": 10,
    "start_time": "2025-05-06T00:23:05.966Z"
   },
   {
    "duration": 17,
    "start_time": "2025-05-06T00:23:07.524Z"
   },
   {
    "duration": 34,
    "start_time": "2025-05-06T00:23:10.132Z"
   },
   {
    "duration": 9,
    "start_time": "2025-05-06T00:23:17.634Z"
   },
   {
    "duration": 6,
    "start_time": "2025-05-06T00:23:19.767Z"
   },
   {
    "duration": 17,
    "start_time": "2025-05-06T00:23:53.707Z"
   },
   {
    "duration": 126,
    "start_time": "2025-05-06T01:09:08.668Z"
   },
   {
    "duration": 15,
    "start_time": "2025-05-06T01:09:56.681Z"
   },
   {
    "duration": 358,
    "start_time": "2025-05-06T01:10:17.401Z"
   },
   {
    "duration": 31,
    "start_time": "2025-05-06T01:11:09.740Z"
   },
   {
    "duration": 1707,
    "start_time": "2025-05-06T01:11:21.884Z"
   },
   {
    "duration": 3,
    "start_time": "2025-05-06T02:25:18.354Z"
   },
   {
    "duration": 10,
    "start_time": "2025-05-06T02:29:06.856Z"
   },
   {
    "duration": 3,
    "start_time": "2025-05-06T02:29:15.081Z"
   },
   {
    "duration": 4,
    "start_time": "2025-05-06T02:29:33.063Z"
   },
   {
    "duration": 2241,
    "start_time": "2025-05-06T02:29:37.237Z"
   },
   {
    "duration": 1060,
    "start_time": "2025-05-06T02:29:39.480Z"
   },
   {
    "duration": 16,
    "start_time": "2025-05-06T02:29:40.542Z"
   },
   {
    "duration": 10,
    "start_time": "2025-05-06T02:29:40.559Z"
   },
   {
    "duration": 7,
    "start_time": "2025-05-06T02:29:40.572Z"
   },
   {
    "duration": 8,
    "start_time": "2025-05-06T02:29:40.580Z"
   },
   {
    "duration": 30,
    "start_time": "2025-05-06T02:29:40.612Z"
   },
   {
    "duration": 125,
    "start_time": "2025-05-06T02:29:40.644Z"
   },
   {
    "duration": 16,
    "start_time": "2025-05-06T02:29:40.771Z"
   },
   {
    "duration": 108,
    "start_time": "2025-05-06T02:29:40.789Z"
   },
   {
    "duration": 85,
    "start_time": "2025-05-06T02:29:40.898Z"
   },
   {
    "duration": 41,
    "start_time": "2025-05-06T02:29:40.984Z"
   },
   {
    "duration": 14,
    "start_time": "2025-05-06T02:29:41.027Z"
   },
   {
    "duration": 4,
    "start_time": "2025-05-06T02:29:41.045Z"
   },
   {
    "duration": 26,
    "start_time": "2025-05-06T02:29:41.051Z"
   },
   {
    "duration": 40,
    "start_time": "2025-05-06T02:29:41.079Z"
   },
   {
    "duration": 6,
    "start_time": "2025-05-06T02:29:41.121Z"
   },
   {
    "duration": 5,
    "start_time": "2025-05-06T02:29:41.129Z"
   },
   {
    "duration": 4,
    "start_time": "2025-05-06T02:29:41.136Z"
   },
   {
    "duration": 4,
    "start_time": "2025-05-06T02:29:41.142Z"
   },
   {
    "duration": 771,
    "start_time": "2025-05-06T02:29:41.148Z"
   },
   {
    "duration": 624,
    "start_time": "2025-05-06T02:29:41.920Z"
   },
   {
    "duration": 7,
    "start_time": "2025-05-06T02:29:42.545Z"
   },
   {
    "duration": 8,
    "start_time": "2025-05-06T02:29:42.553Z"
   },
   {
    "duration": 6,
    "start_time": "2025-05-06T02:29:42.563Z"
   },
   {
    "duration": 10,
    "start_time": "2025-05-06T02:29:42.571Z"
   },
   {
    "duration": 42,
    "start_time": "2025-05-06T02:29:42.582Z"
   },
   {
    "duration": 7,
    "start_time": "2025-05-06T02:29:42.626Z"
   },
   {
    "duration": 3,
    "start_time": "2025-05-06T02:29:42.635Z"
   },
   {
    "duration": 0,
    "start_time": "2025-05-06T02:29:42.640Z"
   },
   {
    "duration": 0,
    "start_time": "2025-05-06T02:29:42.641Z"
   },
   {
    "duration": 0,
    "start_time": "2025-05-06T02:29:42.642Z"
   },
   {
    "duration": 0,
    "start_time": "2025-05-06T02:29:42.643Z"
   },
   {
    "duration": 0,
    "start_time": "2025-05-06T02:29:42.644Z"
   },
   {
    "duration": 5,
    "start_time": "2025-05-06T02:29:53.806Z"
   },
   {
    "duration": 2315,
    "start_time": "2025-05-06T04:21:34.185Z"
   },
   {
    "duration": 1034,
    "start_time": "2025-05-06T04:21:36.502Z"
   },
   {
    "duration": 12,
    "start_time": "2025-05-06T04:21:37.537Z"
   },
   {
    "duration": 8,
    "start_time": "2025-05-06T04:21:37.552Z"
   },
   {
    "duration": 7,
    "start_time": "2025-05-06T04:21:37.564Z"
   },
   {
    "duration": 8,
    "start_time": "2025-05-06T04:21:37.573Z"
   },
   {
    "duration": 54,
    "start_time": "2025-05-06T04:21:37.583Z"
   },
   {
    "duration": 103,
    "start_time": "2025-05-06T04:21:37.639Z"
   },
   {
    "duration": 14,
    "start_time": "2025-05-06T04:21:37.745Z"
   },
   {
    "duration": 117,
    "start_time": "2025-05-06T04:21:37.763Z"
   },
   {
    "duration": 99,
    "start_time": "2025-05-06T04:21:37.882Z"
   },
   {
    "duration": 42,
    "start_time": "2025-05-06T04:21:37.983Z"
   },
   {
    "duration": 15,
    "start_time": "2025-05-06T04:21:38.026Z"
   },
   {
    "duration": 4,
    "start_time": "2025-05-06T04:21:38.044Z"
   },
   {
    "duration": 26,
    "start_time": "2025-05-06T04:21:38.051Z"
   },
   {
    "duration": 46,
    "start_time": "2025-05-06T04:21:38.080Z"
   },
   {
    "duration": 5,
    "start_time": "2025-05-06T04:21:38.130Z"
   },
   {
    "duration": 6,
    "start_time": "2025-05-06T04:21:38.137Z"
   },
   {
    "duration": 5,
    "start_time": "2025-05-06T04:21:38.145Z"
   },
   {
    "duration": 5,
    "start_time": "2025-05-06T04:21:38.152Z"
   },
   {
    "duration": 966,
    "start_time": "2025-05-06T04:21:38.159Z"
   },
   {
    "duration": 929,
    "start_time": "2025-05-06T04:21:39.129Z"
   },
   {
    "duration": 8,
    "start_time": "2025-05-06T04:21:40.060Z"
   },
   {
    "duration": 9,
    "start_time": "2025-05-06T04:21:40.070Z"
   },
   {
    "duration": 10,
    "start_time": "2025-05-06T04:21:40.082Z"
   },
   {
    "duration": 43,
    "start_time": "2025-05-06T04:21:40.095Z"
   },
   {
    "duration": 36,
    "start_time": "2025-05-06T04:21:40.140Z"
   },
   {
    "duration": 14,
    "start_time": "2025-05-06T04:21:40.179Z"
   },
   {
    "duration": 7,
    "start_time": "2025-05-06T04:21:40.195Z"
   },
   {
    "duration": 0,
    "start_time": "2025-05-06T04:21:40.207Z"
   },
   {
    "duration": 0,
    "start_time": "2025-05-06T04:21:40.225Z"
   },
   {
    "duration": 0,
    "start_time": "2025-05-06T04:21:40.226Z"
   },
   {
    "duration": 0,
    "start_time": "2025-05-06T04:21:40.227Z"
   },
   {
    "duration": 0,
    "start_time": "2025-05-06T04:21:40.228Z"
   },
   {
    "duration": 12,
    "start_time": "2025-05-06T04:22:07.611Z"
   },
   {
    "duration": 25,
    "start_time": "2025-05-06T04:22:47.861Z"
   },
   {
    "duration": 32,
    "start_time": "2025-05-06T04:22:53.218Z"
   },
   {
    "duration": 111,
    "start_time": "2025-05-06T04:50:22.879Z"
   },
   {
    "duration": 107,
    "start_time": "2025-05-06T04:56:09.229Z"
   },
   {
    "duration": 106,
    "start_time": "2025-05-06T04:56:47.569Z"
   },
   {
    "duration": 84,
    "start_time": "2025-05-06T04:57:24.747Z"
   },
   {
    "duration": 89,
    "start_time": "2025-05-06T04:57:27.516Z"
   },
   {
    "duration": 34,
    "start_time": "2025-05-06T05:31:52.702Z"
   },
   {
    "duration": 14,
    "start_time": "2025-05-06T05:31:55.837Z"
   },
   {
    "duration": 12,
    "start_time": "2025-05-06T05:32:11.659Z"
   },
   {
    "duration": 12,
    "start_time": "2025-05-06T05:32:25.760Z"
   },
   {
    "duration": 9,
    "start_time": "2025-05-06T05:33:55.744Z"
   },
   {
    "duration": 101,
    "start_time": "2025-05-06T05:34:00.153Z"
   },
   {
    "duration": 3,
    "start_time": "2025-05-06T05:34:10.719Z"
   },
   {
    "duration": 843,
    "start_time": "2025-05-06T05:34:10.724Z"
   },
   {
    "duration": 10,
    "start_time": "2025-05-06T05:34:11.569Z"
   },
   {
    "duration": 9,
    "start_time": "2025-05-06T05:34:11.581Z"
   },
   {
    "duration": 7,
    "start_time": "2025-05-06T05:34:11.592Z"
   },
   {
    "duration": 7,
    "start_time": "2025-05-06T05:34:11.625Z"
   },
   {
    "duration": 20,
    "start_time": "2025-05-06T05:34:11.634Z"
   },
   {
    "duration": 83,
    "start_time": "2025-05-06T05:34:11.656Z"
   },
   {
    "duration": 8,
    "start_time": "2025-05-06T05:34:11.740Z"
   },
   {
    "duration": 84,
    "start_time": "2025-05-06T05:34:11.750Z"
   },
   {
    "duration": 68,
    "start_time": "2025-05-06T05:34:11.837Z"
   },
   {
    "duration": 36,
    "start_time": "2025-05-06T05:34:11.907Z"
   },
   {
    "duration": 13,
    "start_time": "2025-05-06T05:34:11.945Z"
   },
   {
    "duration": 4,
    "start_time": "2025-05-06T05:34:11.960Z"
   },
   {
    "duration": 24,
    "start_time": "2025-05-06T05:34:11.966Z"
   },
   {
    "duration": 44,
    "start_time": "2025-05-06T05:34:11.992Z"
   },
   {
    "duration": 4,
    "start_time": "2025-05-06T05:34:12.038Z"
   },
   {
    "duration": 5,
    "start_time": "2025-05-06T05:34:12.044Z"
   },
   {
    "duration": 6,
    "start_time": "2025-05-06T05:34:12.050Z"
   },
   {
    "duration": 3,
    "start_time": "2025-05-06T05:34:12.057Z"
   },
   {
    "duration": 742,
    "start_time": "2025-05-06T05:34:12.062Z"
   },
   {
    "duration": 648,
    "start_time": "2025-05-06T05:34:12.806Z"
   },
   {
    "duration": 6,
    "start_time": "2025-05-06T05:34:13.456Z"
   },
   {
    "duration": 7,
    "start_time": "2025-05-06T05:34:13.463Z"
   },
   {
    "duration": 8,
    "start_time": "2025-05-06T05:34:13.471Z"
   },
   {
    "duration": 9,
    "start_time": "2025-05-06T05:34:13.480Z"
   },
   {
    "duration": 47,
    "start_time": "2025-05-06T05:34:13.490Z"
   },
   {
    "duration": 7,
    "start_time": "2025-05-06T05:34:13.539Z"
   },
   {
    "duration": 12,
    "start_time": "2025-05-06T05:34:13.550Z"
   },
   {
    "duration": 16,
    "start_time": "2025-05-06T05:34:13.563Z"
   },
   {
    "duration": 59,
    "start_time": "2025-05-06T05:34:13.581Z"
   },
   {
    "duration": 2,
    "start_time": "2025-05-06T05:34:13.642Z"
   },
   {
    "duration": 2,
    "start_time": "2025-05-06T05:34:13.646Z"
   },
   {
    "duration": 4,
    "start_time": "2025-05-06T05:34:13.650Z"
   },
   {
    "duration": 8,
    "start_time": "2025-05-06T05:37:06.014Z"
   },
   {
    "duration": 15,
    "start_time": "2025-05-06T05:39:07.805Z"
   },
   {
    "duration": 12,
    "start_time": "2025-05-06T05:39:40.302Z"
   },
   {
    "duration": 6,
    "start_time": "2025-05-06T05:40:21.778Z"
   },
   {
    "duration": 14,
    "start_time": "2025-05-06T05:40:28.941Z"
   },
   {
    "duration": 7,
    "start_time": "2025-05-06T05:48:14.836Z"
   },
   {
    "duration": 10,
    "start_time": "2025-05-06T05:48:29.568Z"
   },
   {
    "duration": 7,
    "start_time": "2025-05-06T05:48:55.089Z"
   },
   {
    "duration": 8,
    "start_time": "2025-05-06T05:49:11.684Z"
   },
   {
    "duration": 12,
    "start_time": "2025-05-06T05:49:56.933Z"
   },
   {
    "duration": 13,
    "start_time": "2025-05-06T05:51:50.599Z"
   },
   {
    "duration": 8,
    "start_time": "2025-05-06T05:52:16.687Z"
   },
   {
    "duration": 4,
    "start_time": "2025-05-06T05:52:52.265Z"
   },
   {
    "duration": 5,
    "start_time": "2025-05-06T05:53:10.910Z"
   },
   {
    "duration": 8,
    "start_time": "2025-05-06T05:53:27.490Z"
   },
   {
    "duration": 6,
    "start_time": "2025-05-06T05:53:44.968Z"
   },
   {
    "duration": 98,
    "start_time": "2025-05-06T05:59:16.910Z"
   },
   {
    "duration": 5,
    "start_time": "2025-05-06T05:59:30.420Z"
   },
   {
    "duration": 6,
    "start_time": "2025-05-06T06:02:41.387Z"
   },
   {
    "duration": 8,
    "start_time": "2025-05-06T06:02:51.441Z"
   },
   {
    "duration": 168,
    "start_time": "2025-05-06T06:03:22.427Z"
   },
   {
    "duration": 11,
    "start_time": "2025-05-06T06:03:34.895Z"
   },
   {
    "duration": 17,
    "start_time": "2025-05-06T06:04:05.720Z"
   },
   {
    "duration": 10,
    "start_time": "2025-05-06T06:04:20.791Z"
   },
   {
    "duration": 8,
    "start_time": "2025-05-06T06:04:42.123Z"
   },
   {
    "duration": 6,
    "start_time": "2025-05-06T06:05:04.646Z"
   },
   {
    "duration": 8,
    "start_time": "2025-05-06T06:05:14.077Z"
   },
   {
    "duration": 6,
    "start_time": "2025-05-06T06:05:59.428Z"
   },
   {
    "duration": 5,
    "start_time": "2025-05-06T06:09:18.358Z"
   },
   {
    "duration": 5,
    "start_time": "2025-05-06T06:09:31.370Z"
   },
   {
    "duration": 9,
    "start_time": "2025-05-06T06:10:02.044Z"
   },
   {
    "duration": 2126,
    "start_time": "2025-05-06T14:00:40.974Z"
   },
   {
    "duration": 993,
    "start_time": "2025-05-06T14:00:43.102Z"
   },
   {
    "duration": 11,
    "start_time": "2025-05-06T14:00:44.097Z"
   },
   {
    "duration": 9,
    "start_time": "2025-05-06T14:00:44.111Z"
   },
   {
    "duration": 7,
    "start_time": "2025-05-06T14:00:44.121Z"
   },
   {
    "duration": 7,
    "start_time": "2025-05-06T14:00:44.130Z"
   },
   {
    "duration": 54,
    "start_time": "2025-05-06T14:00:44.139Z"
   },
   {
    "duration": 94,
    "start_time": "2025-05-06T14:00:44.195Z"
   },
   {
    "duration": 10,
    "start_time": "2025-05-06T14:00:44.292Z"
   },
   {
    "duration": 101,
    "start_time": "2025-05-06T14:00:44.305Z"
   },
   {
    "duration": 89,
    "start_time": "2025-05-06T14:00:44.408Z"
   },
   {
    "duration": 29,
    "start_time": "2025-05-06T14:00:44.498Z"
   },
   {
    "duration": 13,
    "start_time": "2025-05-06T14:00:44.529Z"
   },
   {
    "duration": 4,
    "start_time": "2025-05-06T14:00:44.543Z"
   },
   {
    "duration": 30,
    "start_time": "2025-05-06T14:00:44.570Z"
   },
   {
    "duration": 19,
    "start_time": "2025-05-06T14:00:44.602Z"
   },
   {
    "duration": 5,
    "start_time": "2025-05-06T14:00:44.623Z"
   },
   {
    "duration": 5,
    "start_time": "2025-05-06T14:00:44.630Z"
   },
   {
    "duration": 5,
    "start_time": "2025-05-06T14:00:44.636Z"
   },
   {
    "duration": 4,
    "start_time": "2025-05-06T14:00:44.671Z"
   },
   {
    "duration": 745,
    "start_time": "2025-05-06T14:00:44.677Z"
   },
   {
    "duration": 654,
    "start_time": "2025-05-06T14:00:45.424Z"
   },
   {
    "duration": 6,
    "start_time": "2025-05-06T14:00:46.080Z"
   },
   {
    "duration": 7,
    "start_time": "2025-05-06T14:00:46.087Z"
   },
   {
    "duration": 7,
    "start_time": "2025-05-06T14:00:46.095Z"
   },
   {
    "duration": 10,
    "start_time": "2025-05-06T14:00:46.103Z"
   },
   {
    "duration": 17,
    "start_time": "2025-05-06T14:00:46.114Z"
   },
   {
    "duration": 8,
    "start_time": "2025-05-06T14:00:46.171Z"
   },
   {
    "duration": 5,
    "start_time": "2025-05-06T14:00:46.180Z"
   },
   {
    "duration": 9,
    "start_time": "2025-05-06T14:00:46.187Z"
   },
   {
    "duration": 17,
    "start_time": "2025-05-06T14:00:46.197Z"
   },
   {
    "duration": 57,
    "start_time": "2025-05-06T14:00:46.215Z"
   },
   {
    "duration": 2,
    "start_time": "2025-05-06T14:00:46.274Z"
   },
   {
    "duration": 3,
    "start_time": "2025-05-06T14:00:46.278Z"
   },
   {
    "duration": 3,
    "start_time": "2025-05-06T14:00:46.283Z"
   },
   {
    "duration": 3,
    "start_time": "2025-05-06T14:00:55.700Z"
   },
   {
    "duration": 831,
    "start_time": "2025-05-06T14:00:55.704Z"
   },
   {
    "duration": 10,
    "start_time": "2025-05-06T14:00:56.537Z"
   },
   {
    "duration": 23,
    "start_time": "2025-05-06T14:00:56.549Z"
   },
   {
    "duration": 8,
    "start_time": "2025-05-06T14:00:56.574Z"
   },
   {
    "duration": 8,
    "start_time": "2025-05-06T14:00:56.584Z"
   },
   {
    "duration": 22,
    "start_time": "2025-05-06T14:00:56.593Z"
   },
   {
    "duration": 102,
    "start_time": "2025-05-06T14:00:56.617Z"
   },
   {
    "duration": 8,
    "start_time": "2025-05-06T14:00:56.722Z"
   },
   {
    "duration": 94,
    "start_time": "2025-05-06T14:00:56.732Z"
   },
   {
    "duration": 94,
    "start_time": "2025-05-06T14:00:56.828Z"
   },
   {
    "duration": 25,
    "start_time": "2025-05-06T14:00:56.924Z"
   },
   {
    "duration": 26,
    "start_time": "2025-05-06T14:00:56.950Z"
   },
   {
    "duration": 4,
    "start_time": "2025-05-06T14:00:56.977Z"
   },
   {
    "duration": 24,
    "start_time": "2025-05-06T14:00:56.983Z"
   },
   {
    "duration": 20,
    "start_time": "2025-05-06T14:00:57.009Z"
   },
   {
    "duration": 6,
    "start_time": "2025-05-06T14:00:57.030Z"
   },
   {
    "duration": 36,
    "start_time": "2025-05-06T14:00:57.037Z"
   },
   {
    "duration": 5,
    "start_time": "2025-05-06T14:00:57.075Z"
   },
   {
    "duration": 4,
    "start_time": "2025-05-06T14:00:57.082Z"
   },
   {
    "duration": 751,
    "start_time": "2025-05-06T14:00:57.087Z"
   },
   {
    "duration": 647,
    "start_time": "2025-05-06T14:00:57.840Z"
   },
   {
    "duration": 6,
    "start_time": "2025-05-06T14:00:58.489Z"
   },
   {
    "duration": 6,
    "start_time": "2025-05-06T14:00:58.499Z"
   },
   {
    "duration": 6,
    "start_time": "2025-05-06T14:00:58.507Z"
   },
   {
    "duration": 22,
    "start_time": "2025-05-06T14:00:58.516Z"
   },
   {
    "duration": 40,
    "start_time": "2025-05-06T14:00:58.546Z"
   },
   {
    "duration": 16,
    "start_time": "2025-05-06T14:00:58.588Z"
   },
   {
    "duration": 5,
    "start_time": "2025-05-06T14:00:58.606Z"
   },
   {
    "duration": 9,
    "start_time": "2025-05-06T14:00:58.613Z"
   },
   {
    "duration": 15,
    "start_time": "2025-05-06T14:00:58.624Z"
   },
   {
    "duration": 70,
    "start_time": "2025-05-06T14:00:58.641Z"
   },
   {
    "duration": 2,
    "start_time": "2025-05-06T14:00:58.713Z"
   },
   {
    "duration": 3,
    "start_time": "2025-05-06T14:00:58.716Z"
   },
   {
    "duration": 3,
    "start_time": "2025-05-06T14:00:58.721Z"
   },
   {
    "duration": 22,
    "start_time": "2025-05-06T14:04:07.190Z"
   },
   {
    "duration": 14,
    "start_time": "2025-05-06T14:04:14.662Z"
   },
   {
    "duration": 5,
    "start_time": "2025-05-06T14:04:16.978Z"
   },
   {
    "duration": 25,
    "start_time": "2025-05-06T14:04:22.156Z"
   },
   {
    "duration": 22,
    "start_time": "2025-05-06T14:04:27.584Z"
   },
   {
    "duration": 27,
    "start_time": "2025-05-06T14:05:07.168Z"
   },
   {
    "duration": 22,
    "start_time": "2025-05-06T14:05:19.386Z"
   },
   {
    "duration": 23,
    "start_time": "2025-05-06T14:05:25.172Z"
   },
   {
    "duration": 21,
    "start_time": "2025-05-06T14:05:30.265Z"
   },
   {
    "duration": 21,
    "start_time": "2025-05-06T14:06:24.520Z"
   },
   {
    "duration": 79,
    "start_time": "2025-05-06T14:08:02.367Z"
   },
   {
    "duration": 70,
    "start_time": "2025-05-06T14:08:04.876Z"
   },
   {
    "duration": 24,
    "start_time": "2025-05-06T14:08:16.536Z"
   },
   {
    "duration": 9,
    "start_time": "2025-05-06T14:08:47.446Z"
   },
   {
    "duration": 10,
    "start_time": "2025-05-06T14:09:03.251Z"
   },
   {
    "duration": 77,
    "start_time": "2025-05-06T14:10:48.914Z"
   },
   {
    "duration": 80,
    "start_time": "2025-05-06T14:10:51.643Z"
   },
   {
    "duration": 71,
    "start_time": "2025-05-06T14:11:09.894Z"
   },
   {
    "duration": 22,
    "start_time": "2025-05-06T14:11:19.287Z"
   },
   {
    "duration": 10,
    "start_time": "2025-05-06T14:12:34.502Z"
   },
   {
    "duration": 10,
    "start_time": "2025-05-06T14:14:25.467Z"
   },
   {
    "duration": 447,
    "start_time": "2025-05-06T14:14:38.573Z"
   },
   {
    "duration": 898,
    "start_time": "2025-05-06T14:14:39.022Z"
   },
   {
    "duration": 11,
    "start_time": "2025-05-06T14:14:39.922Z"
   },
   {
    "duration": 8,
    "start_time": "2025-05-06T14:14:39.936Z"
   },
   {
    "duration": 25,
    "start_time": "2025-05-06T14:14:39.946Z"
   },
   {
    "duration": 8,
    "start_time": "2025-05-06T14:14:39.972Z"
   },
   {
    "duration": 24,
    "start_time": "2025-05-06T14:14:39.981Z"
   },
   {
    "duration": 110,
    "start_time": "2025-05-06T14:14:40.007Z"
   },
   {
    "duration": 9,
    "start_time": "2025-05-06T14:14:40.119Z"
   },
   {
    "duration": 102,
    "start_time": "2025-05-06T14:14:40.132Z"
   },
   {
    "duration": 94,
    "start_time": "2025-05-06T14:14:40.236Z"
   },
   {
    "duration": 9,
    "start_time": "2025-05-06T14:14:40.331Z"
   },
   {
    "duration": 13,
    "start_time": "2025-05-06T14:14:40.342Z"
   },
   {
    "duration": 4,
    "start_time": "2025-05-06T14:14:40.370Z"
   },
   {
    "duration": 26,
    "start_time": "2025-05-06T14:14:40.376Z"
   },
   {
    "duration": 20,
    "start_time": "2025-05-06T14:14:40.403Z"
   },
   {
    "duration": 4,
    "start_time": "2025-05-06T14:14:40.425Z"
   },
   {
    "duration": 5,
    "start_time": "2025-05-06T14:14:40.431Z"
   },
   {
    "duration": 36,
    "start_time": "2025-05-06T14:14:40.437Z"
   },
   {
    "duration": 4,
    "start_time": "2025-05-06T14:14:40.475Z"
   },
   {
    "duration": 748,
    "start_time": "2025-05-06T14:14:40.481Z"
   },
   {
    "duration": 696,
    "start_time": "2025-05-06T14:14:41.231Z"
   },
   {
    "duration": 6,
    "start_time": "2025-05-06T14:14:41.928Z"
   },
   {
    "duration": 9,
    "start_time": "2025-05-06T14:14:41.937Z"
   },
   {
    "duration": 23,
    "start_time": "2025-05-06T14:14:41.947Z"
   },
   {
    "duration": 9,
    "start_time": "2025-05-06T14:14:41.972Z"
   },
   {
    "duration": 17,
    "start_time": "2025-05-06T14:14:41.983Z"
   },
   {
    "duration": 6,
    "start_time": "2025-05-06T14:14:42.004Z"
   },
   {
    "duration": 5,
    "start_time": "2025-05-06T14:14:42.011Z"
   },
   {
    "duration": 9,
    "start_time": "2025-05-06T14:14:42.018Z"
   },
   {
    "duration": 51,
    "start_time": "2025-05-06T14:14:42.028Z"
   },
   {
    "duration": 34,
    "start_time": "2025-05-06T14:14:42.081Z"
   },
   {
    "duration": 2,
    "start_time": "2025-05-06T14:14:42.117Z"
   },
   {
    "duration": 3,
    "start_time": "2025-05-06T14:14:42.121Z"
   },
   {
    "duration": 4,
    "start_time": "2025-05-06T14:14:42.125Z"
   },
   {
    "duration": 2,
    "start_time": "2025-05-06T14:15:42.237Z"
   },
   {
    "duration": 819,
    "start_time": "2025-05-06T14:15:42.242Z"
   },
   {
    "duration": 10,
    "start_time": "2025-05-06T14:15:43.063Z"
   },
   {
    "duration": 9,
    "start_time": "2025-05-06T14:15:43.075Z"
   },
   {
    "duration": 7,
    "start_time": "2025-05-06T14:15:43.086Z"
   },
   {
    "duration": 8,
    "start_time": "2025-05-06T14:15:43.095Z"
   },
   {
    "duration": 22,
    "start_time": "2025-05-06T14:15:43.104Z"
   },
   {
    "duration": 100,
    "start_time": "2025-05-06T14:15:43.128Z"
   },
   {
    "duration": 8,
    "start_time": "2025-05-06T14:15:43.230Z"
   },
   {
    "duration": 96,
    "start_time": "2025-05-06T14:15:43.239Z"
   },
   {
    "duration": 71,
    "start_time": "2025-05-06T14:15:43.339Z"
   },
   {
    "duration": 10,
    "start_time": "2025-05-06T14:15:43.412Z"
   },
   {
    "duration": 14,
    "start_time": "2025-05-06T14:15:43.423Z"
   },
   {
    "duration": 4,
    "start_time": "2025-05-06T14:15:43.439Z"
   },
   {
    "duration": 48,
    "start_time": "2025-05-06T14:15:43.444Z"
   },
   {
    "duration": 21,
    "start_time": "2025-05-06T14:15:43.494Z"
   },
   {
    "duration": 6,
    "start_time": "2025-05-06T14:15:43.517Z"
   },
   {
    "duration": 5,
    "start_time": "2025-05-06T14:15:43.524Z"
   },
   {
    "duration": 5,
    "start_time": "2025-05-06T14:15:43.530Z"
   },
   {
    "duration": 36,
    "start_time": "2025-05-06T14:15:43.536Z"
   },
   {
    "duration": 759,
    "start_time": "2025-05-06T14:15:43.574Z"
   },
   {
    "duration": 656,
    "start_time": "2025-05-06T14:15:44.335Z"
   },
   {
    "duration": 7,
    "start_time": "2025-05-06T14:15:44.993Z"
   },
   {
    "duration": 7,
    "start_time": "2025-05-06T14:15:45.001Z"
   },
   {
    "duration": 8,
    "start_time": "2025-05-06T14:15:45.011Z"
   },
   {
    "duration": 9,
    "start_time": "2025-05-06T14:15:45.020Z"
   },
   {
    "duration": 45,
    "start_time": "2025-05-06T14:15:45.030Z"
   },
   {
    "duration": 6,
    "start_time": "2025-05-06T14:15:45.078Z"
   },
   {
    "duration": 4,
    "start_time": "2025-05-06T14:15:45.087Z"
   },
   {
    "duration": 15,
    "start_time": "2025-05-06T14:15:45.093Z"
   },
   {
    "duration": 16,
    "start_time": "2025-05-06T14:15:45.109Z"
   },
   {
    "duration": 69,
    "start_time": "2025-05-06T14:15:45.126Z"
   },
   {
    "duration": 3,
    "start_time": "2025-05-06T14:15:45.197Z"
   },
   {
    "duration": 2,
    "start_time": "2025-05-06T14:15:45.202Z"
   },
   {
    "duration": 4,
    "start_time": "2025-05-06T14:15:45.205Z"
   },
   {
    "duration": 26,
    "start_time": "2025-05-06T14:20:31.729Z"
   },
   {
    "duration": 15,
    "start_time": "2025-05-06T14:22:11.958Z"
   },
   {
    "duration": 5,
    "start_time": "2025-05-06T14:22:36.173Z"
   },
   {
    "duration": 22,
    "start_time": "2025-05-06T14:23:01.594Z"
   },
   {
    "duration": 23,
    "start_time": "2025-05-06T14:23:06.442Z"
   },
   {
    "duration": 21,
    "start_time": "2025-05-06T14:23:09.470Z"
   },
   {
    "duration": 166,
    "start_time": "2025-05-06T15:15:01.820Z"
   },
   {
    "duration": 2306,
    "start_time": "2025-05-06T15:15:09.325Z"
   },
   {
    "duration": 990,
    "start_time": "2025-05-06T15:15:11.634Z"
   },
   {
    "duration": 11,
    "start_time": "2025-05-06T15:15:12.626Z"
   },
   {
    "duration": 10,
    "start_time": "2025-05-06T15:15:12.639Z"
   },
   {
    "duration": 9,
    "start_time": "2025-05-06T15:15:12.651Z"
   },
   {
    "duration": 8,
    "start_time": "2025-05-06T15:15:12.661Z"
   },
   {
    "duration": 48,
    "start_time": "2025-05-06T15:15:12.670Z"
   },
   {
    "duration": 97,
    "start_time": "2025-05-06T15:15:12.720Z"
   },
   {
    "duration": 9,
    "start_time": "2025-05-06T15:15:12.819Z"
   },
   {
    "duration": 112,
    "start_time": "2025-05-06T15:15:12.831Z"
   },
   {
    "duration": 94,
    "start_time": "2025-05-06T15:15:12.944Z"
   },
   {
    "duration": 30,
    "start_time": "2025-05-06T15:15:13.039Z"
   },
   {
    "duration": 15,
    "start_time": "2025-05-06T15:15:13.072Z"
   },
   {
    "duration": 24,
    "start_time": "2025-05-06T15:15:13.088Z"
   },
   {
    "duration": 28,
    "start_time": "2025-05-06T15:15:13.115Z"
   },
   {
    "duration": 21,
    "start_time": "2025-05-06T15:15:13.145Z"
   },
   {
    "duration": 5,
    "start_time": "2025-05-06T15:15:13.167Z"
   },
   {
    "duration": 5,
    "start_time": "2025-05-06T15:15:13.174Z"
   },
   {
    "duration": 31,
    "start_time": "2025-05-06T15:15:13.180Z"
   },
   {
    "duration": 4,
    "start_time": "2025-05-06T15:15:13.213Z"
   },
   {
    "duration": 775,
    "start_time": "2025-05-06T15:15:13.219Z"
   },
   {
    "duration": 672,
    "start_time": "2025-05-06T15:15:13.997Z"
   },
   {
    "duration": 5,
    "start_time": "2025-05-06T15:15:14.671Z"
   },
   {
    "duration": 8,
    "start_time": "2025-05-06T15:15:14.678Z"
   },
   {
    "duration": 27,
    "start_time": "2025-05-06T15:15:14.688Z"
   },
   {
    "duration": 9,
    "start_time": "2025-05-06T15:15:14.717Z"
   },
   {
    "duration": 19,
    "start_time": "2025-05-06T15:15:14.728Z"
   },
   {
    "duration": 6,
    "start_time": "2025-05-06T15:15:14.751Z"
   },
   {
    "duration": 5,
    "start_time": "2025-05-06T15:15:14.758Z"
   },
   {
    "duration": 12,
    "start_time": "2025-05-06T15:15:14.765Z"
   },
   {
    "duration": 19,
    "start_time": "2025-05-06T15:15:14.812Z"
   },
   {
    "duration": 30,
    "start_time": "2025-05-06T15:15:14.833Z"
   },
   {
    "duration": 2,
    "start_time": "2025-05-06T15:15:14.865Z"
   },
   {
    "duration": 3,
    "start_time": "2025-05-06T15:15:14.869Z"
   },
   {
    "duration": 4,
    "start_time": "2025-05-06T15:15:14.873Z"
   },
   {
    "duration": 2,
    "start_time": "2025-05-06T15:15:15.152Z"
   },
   {
    "duration": 846,
    "start_time": "2025-05-06T15:15:15.158Z"
   },
   {
    "duration": 13,
    "start_time": "2025-05-06T15:15:16.006Z"
   },
   {
    "duration": 9,
    "start_time": "2025-05-06T15:15:16.022Z"
   },
   {
    "duration": 7,
    "start_time": "2025-05-06T15:15:16.034Z"
   },
   {
    "duration": 8,
    "start_time": "2025-05-06T15:15:16.042Z"
   },
   {
    "duration": 22,
    "start_time": "2025-05-06T15:15:16.051Z"
   },
   {
    "duration": 106,
    "start_time": "2025-05-06T15:15:16.075Z"
   },
   {
    "duration": 8,
    "start_time": "2025-05-06T15:15:16.183Z"
   },
   {
    "duration": 93,
    "start_time": "2025-05-06T15:15:16.192Z"
   },
   {
    "duration": 80,
    "start_time": "2025-05-06T15:15:16.288Z"
   },
   {
    "duration": 24,
    "start_time": "2025-05-06T15:15:16.370Z"
   },
   {
    "duration": 30,
    "start_time": "2025-05-06T15:15:16.395Z"
   },
   {
    "duration": 4,
    "start_time": "2025-05-06T15:15:16.426Z"
   },
   {
    "duration": 26,
    "start_time": "2025-05-06T15:15:16.432Z"
   },
   {
    "duration": 22,
    "start_time": "2025-05-06T15:15:16.460Z"
   },
   {
    "duration": 5,
    "start_time": "2025-05-06T15:15:16.483Z"
   },
   {
    "duration": 6,
    "start_time": "2025-05-06T15:15:16.512Z"
   },
   {
    "duration": 5,
    "start_time": "2025-05-06T15:15:16.519Z"
   },
   {
    "duration": 5,
    "start_time": "2025-05-06T15:15:16.525Z"
   },
   {
    "duration": 753,
    "start_time": "2025-05-06T15:15:16.531Z"
   },
   {
    "duration": 661,
    "start_time": "2025-05-06T15:15:17.286Z"
   },
   {
    "duration": 5,
    "start_time": "2025-05-06T15:15:17.949Z"
   },
   {
    "duration": 7,
    "start_time": "2025-05-06T15:15:17.955Z"
   },
   {
    "duration": 6,
    "start_time": "2025-05-06T15:15:17.963Z"
   },
   {
    "duration": 9,
    "start_time": "2025-05-06T15:15:17.971Z"
   },
   {
    "duration": 51,
    "start_time": "2025-05-06T15:15:17.981Z"
   },
   {
    "duration": 8,
    "start_time": "2025-05-06T15:15:18.035Z"
   },
   {
    "duration": 5,
    "start_time": "2025-05-06T15:15:18.047Z"
   },
   {
    "duration": 14,
    "start_time": "2025-05-06T15:15:18.054Z"
   },
   {
    "duration": 45,
    "start_time": "2025-05-06T15:15:18.070Z"
   },
   {
    "duration": 35,
    "start_time": "2025-05-06T15:15:18.117Z"
   },
   {
    "duration": 4,
    "start_time": "2025-05-06T15:15:18.153Z"
   },
   {
    "duration": 3,
    "start_time": "2025-05-06T15:15:18.158Z"
   },
   {
    "duration": 2,
    "start_time": "2025-05-06T15:15:18.163Z"
   },
   {
    "duration": 6,
    "start_time": "2025-05-06T15:16:01.627Z"
   },
   {
    "duration": 6,
    "start_time": "2025-05-06T15:16:07.109Z"
   },
   {
    "duration": 9,
    "start_time": "2025-05-06T15:16:37.650Z"
   },
   {
    "duration": 6,
    "start_time": "2025-05-06T15:16:41.271Z"
   },
   {
    "duration": 6,
    "start_time": "2025-05-06T15:17:47.459Z"
   },
   {
    "duration": 7,
    "start_time": "2025-05-06T15:18:07.137Z"
   },
   {
    "duration": 7,
    "start_time": "2025-05-06T15:18:07.958Z"
   },
   {
    "duration": 11,
    "start_time": "2025-05-06T15:18:09.212Z"
   },
   {
    "duration": 414,
    "start_time": "2025-05-06T15:18:14.475Z"
   },
   {
    "duration": 928,
    "start_time": "2025-05-06T15:18:14.891Z"
   },
   {
    "duration": 13,
    "start_time": "2025-05-06T15:18:15.822Z"
   },
   {
    "duration": 9,
    "start_time": "2025-05-06T15:18:15.837Z"
   },
   {
    "duration": 8,
    "start_time": "2025-05-06T15:18:15.847Z"
   },
   {
    "duration": 8,
    "start_time": "2025-05-06T15:18:15.856Z"
   },
   {
    "duration": 50,
    "start_time": "2025-05-06T15:18:15.866Z"
   },
   {
    "duration": 99,
    "start_time": "2025-05-06T15:18:15.918Z"
   },
   {
    "duration": 9,
    "start_time": "2025-05-06T15:18:16.019Z"
   },
   {
    "duration": 107,
    "start_time": "2025-05-06T15:18:16.031Z"
   },
   {
    "duration": 87,
    "start_time": "2025-05-06T15:18:16.140Z"
   },
   {
    "duration": 27,
    "start_time": "2025-05-06T15:18:16.229Z"
   },
   {
    "duration": 15,
    "start_time": "2025-05-06T15:18:16.258Z"
   },
   {
    "duration": 4,
    "start_time": "2025-05-06T15:18:16.274Z"
   },
   {
    "duration": 55,
    "start_time": "2025-05-06T15:18:16.280Z"
   },
   {
    "duration": 22,
    "start_time": "2025-05-06T15:18:16.337Z"
   },
   {
    "duration": 5,
    "start_time": "2025-05-06T15:18:16.360Z"
   },
   {
    "duration": 5,
    "start_time": "2025-05-06T15:18:16.367Z"
   },
   {
    "duration": 5,
    "start_time": "2025-05-06T15:18:16.374Z"
   },
   {
    "duration": 33,
    "start_time": "2025-05-06T15:18:16.380Z"
   },
   {
    "duration": 782,
    "start_time": "2025-05-06T15:18:16.415Z"
   },
   {
    "duration": 680,
    "start_time": "2025-05-06T15:18:17.199Z"
   },
   {
    "duration": 6,
    "start_time": "2025-05-06T15:18:17.881Z"
   },
   {
    "duration": 7,
    "start_time": "2025-05-06T15:18:17.888Z"
   },
   {
    "duration": 19,
    "start_time": "2025-05-06T15:18:17.897Z"
   },
   {
    "duration": 10,
    "start_time": "2025-05-06T15:18:17.917Z"
   },
   {
    "duration": 20,
    "start_time": "2025-05-06T15:18:17.929Z"
   },
   {
    "duration": 6,
    "start_time": "2025-05-06T15:18:17.953Z"
   },
   {
    "duration": 5,
    "start_time": "2025-05-06T15:18:17.961Z"
   },
   {
    "duration": 45,
    "start_time": "2025-05-06T15:18:17.968Z"
   },
   {
    "duration": 25,
    "start_time": "2025-05-06T15:18:18.014Z"
   },
   {
    "duration": 31,
    "start_time": "2025-05-06T15:18:18.042Z"
   },
   {
    "duration": 4,
    "start_time": "2025-05-06T15:18:18.075Z"
   },
   {
    "duration": 2,
    "start_time": "2025-05-06T15:18:18.080Z"
   },
   {
    "duration": 3,
    "start_time": "2025-05-06T15:18:18.084Z"
   },
   {
    "duration": 6,
    "start_time": "2025-05-06T15:18:58.305Z"
   },
   {
    "duration": 6,
    "start_time": "2025-05-06T15:19:06.734Z"
   },
   {
    "duration": 8,
    "start_time": "2025-05-06T15:19:08.420Z"
   },
   {
    "duration": 430,
    "start_time": "2025-05-06T15:19:19.801Z"
   },
   {
    "duration": 920,
    "start_time": "2025-05-06T15:19:20.233Z"
   },
   {
    "duration": 10,
    "start_time": "2025-05-06T15:19:21.155Z"
   },
   {
    "duration": 9,
    "start_time": "2025-05-06T15:19:21.167Z"
   },
   {
    "duration": 7,
    "start_time": "2025-05-06T15:19:21.179Z"
   },
   {
    "duration": 30,
    "start_time": "2025-05-06T15:19:21.187Z"
   },
   {
    "duration": 25,
    "start_time": "2025-05-06T15:19:21.218Z"
   },
   {
    "duration": 102,
    "start_time": "2025-05-06T15:19:21.244Z"
   },
   {
    "duration": 9,
    "start_time": "2025-05-06T15:19:21.347Z"
   },
   {
    "duration": 108,
    "start_time": "2025-05-06T15:19:21.358Z"
   },
   {
    "duration": 92,
    "start_time": "2025-05-06T15:19:21.467Z"
   },
   {
    "duration": 29,
    "start_time": "2025-05-06T15:19:21.560Z"
   },
   {
    "duration": 26,
    "start_time": "2025-05-06T15:19:21.591Z"
   },
   {
    "duration": 4,
    "start_time": "2025-05-06T15:19:21.620Z"
   },
   {
    "duration": 26,
    "start_time": "2025-05-06T15:19:21.625Z"
   },
   {
    "duration": 20,
    "start_time": "2025-05-06T15:19:21.653Z"
   },
   {
    "duration": 5,
    "start_time": "2025-05-06T15:19:21.675Z"
   },
   {
    "duration": 32,
    "start_time": "2025-05-06T15:19:21.682Z"
   },
   {
    "duration": 5,
    "start_time": "2025-05-06T15:19:21.716Z"
   },
   {
    "duration": 4,
    "start_time": "2025-05-06T15:19:21.722Z"
   },
   {
    "duration": 789,
    "start_time": "2025-05-06T15:19:21.728Z"
   },
   {
    "duration": 693,
    "start_time": "2025-05-06T15:19:22.518Z"
   },
   {
    "duration": 5,
    "start_time": "2025-05-06T15:19:23.213Z"
   },
   {
    "duration": 8,
    "start_time": "2025-05-06T15:19:23.220Z"
   },
   {
    "duration": 10,
    "start_time": "2025-05-06T15:19:23.231Z"
   },
   {
    "duration": 17,
    "start_time": "2025-05-06T15:19:23.243Z"
   },
   {
    "duration": 20,
    "start_time": "2025-05-06T15:19:23.262Z"
   },
   {
    "duration": 30,
    "start_time": "2025-05-06T15:19:23.284Z"
   },
   {
    "duration": 4,
    "start_time": "2025-05-06T15:19:23.316Z"
   },
   {
    "duration": 10,
    "start_time": "2025-05-06T15:19:23.321Z"
   },
   {
    "duration": 17,
    "start_time": "2025-05-06T15:19:23.332Z"
   },
   {
    "duration": 30,
    "start_time": "2025-05-06T15:19:23.351Z"
   },
   {
    "duration": 2,
    "start_time": "2025-05-06T15:19:23.383Z"
   },
   {
    "duration": 2,
    "start_time": "2025-05-06T15:19:23.412Z"
   },
   {
    "duration": 2,
    "start_time": "2025-05-06T15:19:23.417Z"
   },
   {
    "duration": 6,
    "start_time": "2025-05-06T15:23:45.339Z"
   },
   {
    "duration": 2,
    "start_time": "2025-05-06T15:23:59.001Z"
   },
   {
    "duration": 823,
    "start_time": "2025-05-06T15:24:01.392Z"
   },
   {
    "duration": 75,
    "start_time": "2025-05-06T15:24:23.215Z"
   },
   {
    "duration": 8,
    "start_time": "2025-05-06T15:24:30.916Z"
   },
   {
    "duration": 76,
    "start_time": "2025-05-06T15:24:31.816Z"
   },
   {
    "duration": 75,
    "start_time": "2025-05-06T15:24:32.556Z"
   },
   {
    "duration": 23,
    "start_time": "2025-05-06T15:24:32.868Z"
   },
   {
    "duration": 15,
    "start_time": "2025-05-06T15:24:33.632Z"
   },
   {
    "duration": 4,
    "start_time": "2025-05-06T15:24:33.990Z"
   },
   {
    "duration": 26,
    "start_time": "2025-05-06T15:24:34.283Z"
   },
   {
    "duration": 22,
    "start_time": "2025-05-06T15:24:36.328Z"
   },
   {
    "duration": 5,
    "start_time": "2025-05-06T15:24:40.410Z"
   },
   {
    "duration": 8,
    "start_time": "2025-05-06T15:24:41.131Z"
   },
   {
    "duration": 5,
    "start_time": "2025-05-06T15:24:42.650Z"
   },
   {
    "duration": 4,
    "start_time": "2025-05-06T15:24:43.048Z"
   },
   {
    "duration": 701,
    "start_time": "2025-05-06T15:24:44.783Z"
   },
   {
    "duration": 6,
    "start_time": "2025-05-06T15:25:31.892Z"
   },
   {
    "duration": 23,
    "start_time": "2025-05-06T15:42:41.486Z"
   },
   {
    "duration": 23,
    "start_time": "2025-05-06T15:43:42.679Z"
   },
   {
    "duration": 21,
    "start_time": "2025-05-06T15:44:08.643Z"
   },
   {
    "duration": 25,
    "start_time": "2025-05-06T15:44:24.898Z"
   },
   {
    "duration": 210,
    "start_time": "2025-05-06T15:44:53.120Z"
   },
   {
    "duration": 23,
    "start_time": "2025-05-06T15:44:59.175Z"
   },
   {
    "duration": 22,
    "start_time": "2025-05-06T15:45:09.738Z"
   },
   {
    "duration": 2276,
    "start_time": "2025-05-07T03:48:07.722Z"
   },
   {
    "duration": 1072,
    "start_time": "2025-05-07T03:48:10.000Z"
   },
   {
    "duration": 15,
    "start_time": "2025-05-07T03:48:11.073Z"
   },
   {
    "duration": 23,
    "start_time": "2025-05-07T03:48:11.091Z"
   },
   {
    "duration": 7,
    "start_time": "2025-05-07T03:48:11.116Z"
   },
   {
    "duration": 8,
    "start_time": "2025-05-07T03:48:11.125Z"
   },
   {
    "duration": 25,
    "start_time": "2025-05-07T03:48:11.135Z"
   },
   {
    "duration": 112,
    "start_time": "2025-05-07T03:48:11.162Z"
   },
   {
    "duration": 10,
    "start_time": "2025-05-07T03:48:11.276Z"
   },
   {
    "duration": 115,
    "start_time": "2025-05-07T03:48:11.458Z"
   },
   {
    "duration": 115,
    "start_time": "2025-05-07T03:48:11.705Z"
   },
   {
    "duration": 31,
    "start_time": "2025-05-07T03:48:11.988Z"
   },
   {
    "duration": 20,
    "start_time": "2025-05-07T03:48:12.708Z"
   },
   {
    "duration": 9,
    "start_time": "2025-05-07T03:48:12.959Z"
   },
   {
    "duration": 30,
    "start_time": "2025-05-07T03:48:13.209Z"
   },
   {
    "duration": 22,
    "start_time": "2025-05-07T03:48:13.480Z"
   },
   {
    "duration": 724,
    "start_time": "2025-05-07T03:48:13.731Z"
   },
   {
    "duration": 6,
    "start_time": "2025-05-07T03:48:14.469Z"
   },
   {
    "duration": 6,
    "start_time": "2025-05-07T03:48:14.726Z"
   },
   {
    "duration": 9,
    "start_time": "2025-05-07T03:48:15.522Z"
   },
   {
    "duration": 4,
    "start_time": "2025-05-07T03:48:15.760Z"
   },
   {
    "duration": 809,
    "start_time": "2025-05-07T03:48:16.493Z"
   },
   {
    "duration": 711,
    "start_time": "2025-05-07T03:48:17.311Z"
   },
   {
    "duration": 11,
    "start_time": "2025-05-07T03:48:18.025Z"
   },
   {
    "duration": 7,
    "start_time": "2025-05-07T03:48:18.287Z"
   },
   {
    "duration": 7,
    "start_time": "2025-05-07T03:48:18.945Z"
   },
   {
    "duration": 10,
    "start_time": "2025-05-07T03:48:19.437Z"
   },
   {
    "duration": 26,
    "start_time": "2025-05-07T03:48:19.961Z"
   },
   {
    "duration": 7,
    "start_time": "2025-05-07T03:48:20.783Z"
   },
   {
    "duration": 6,
    "start_time": "2025-05-07T03:48:21.043Z"
   },
   {
    "duration": 16,
    "start_time": "2025-05-07T03:48:21.294Z"
   },
   {
    "duration": 19,
    "start_time": "2025-05-07T03:48:22.066Z"
   },
   {
    "duration": 31,
    "start_time": "2025-05-07T03:48:22.329Z"
   },
   {
    "duration": 2,
    "start_time": "2025-05-07T03:48:22.823Z"
   },
   {
    "duration": 3,
    "start_time": "2025-05-07T03:48:23.067Z"
   },
   {
    "duration": 3,
    "start_time": "2025-05-07T03:48:23.565Z"
   },
   {
    "duration": 10,
    "start_time": "2025-05-07T03:49:39.952Z"
   },
   {
    "duration": 15,
    "start_time": "2025-05-07T03:49:59.657Z"
   },
   {
    "duration": 5,
    "start_time": "2025-05-07T03:50:31.163Z"
   },
   {
    "duration": 5,
    "start_time": "2025-05-07T03:52:26.420Z"
   },
   {
    "duration": 5,
    "start_time": "2025-05-07T03:53:55.214Z"
   },
   {
    "duration": 15,
    "start_time": "2025-05-07T03:54:39.054Z"
   },
   {
    "duration": 429,
    "start_time": "2025-05-07T03:55:12.739Z"
   },
   {
    "duration": 916,
    "start_time": "2025-05-07T03:55:13.170Z"
   },
   {
    "duration": 11,
    "start_time": "2025-05-07T03:55:14.088Z"
   },
   {
    "duration": 17,
    "start_time": "2025-05-07T03:55:14.100Z"
   },
   {
    "duration": 7,
    "start_time": "2025-05-07T03:55:14.120Z"
   },
   {
    "duration": 8,
    "start_time": "2025-05-07T03:55:14.129Z"
   },
   {
    "duration": 23,
    "start_time": "2025-05-07T03:55:14.138Z"
   },
   {
    "duration": 113,
    "start_time": "2025-05-07T03:55:14.163Z"
   },
   {
    "duration": 9,
    "start_time": "2025-05-07T03:55:14.278Z"
   },
   {
    "duration": 110,
    "start_time": "2025-05-07T03:55:14.289Z"
   },
   {
    "duration": 93,
    "start_time": "2025-05-07T03:55:14.401Z"
   },
   {
    "duration": 35,
    "start_time": "2025-05-07T03:55:14.496Z"
   },
   {
    "duration": 15,
    "start_time": "2025-05-07T03:55:14.533Z"
   },
   {
    "duration": 3,
    "start_time": "2025-05-07T03:55:14.553Z"
   },
   {
    "duration": 26,
    "start_time": "2025-05-07T03:55:14.558Z"
   },
   {
    "duration": 44,
    "start_time": "2025-05-07T03:55:14.586Z"
   },
   {
    "duration": 9,
    "start_time": "2025-05-07T03:55:14.631Z"
   },
   {
    "duration": 5,
    "start_time": "2025-05-07T03:55:14.642Z"
   },
   {
    "duration": 5,
    "start_time": "2025-05-07T03:55:14.649Z"
   },
   {
    "duration": 6,
    "start_time": "2025-05-07T03:55:14.655Z"
   },
   {
    "duration": 4,
    "start_time": "2025-05-07T03:55:14.662Z"
   },
   {
    "duration": 803,
    "start_time": "2025-05-07T03:55:14.668Z"
   },
   {
    "duration": 663,
    "start_time": "2025-05-07T03:55:15.473Z"
   },
   {
    "duration": 5,
    "start_time": "2025-05-07T03:55:16.138Z"
   },
   {
    "duration": 6,
    "start_time": "2025-05-07T03:55:16.145Z"
   },
   {
    "duration": 6,
    "start_time": "2025-05-07T03:55:16.153Z"
   },
   {
    "duration": 10,
    "start_time": "2025-05-07T03:55:16.161Z"
   },
   {
    "duration": 47,
    "start_time": "2025-05-07T03:55:16.173Z"
   },
   {
    "duration": 6,
    "start_time": "2025-05-07T03:55:16.222Z"
   },
   {
    "duration": 5,
    "start_time": "2025-05-07T03:55:16.230Z"
   },
   {
    "duration": 12,
    "start_time": "2025-05-07T03:55:16.237Z"
   },
   {
    "duration": 18,
    "start_time": "2025-05-07T03:55:16.251Z"
   },
   {
    "duration": 63,
    "start_time": "2025-05-07T03:55:16.270Z"
   },
   {
    "duration": 2,
    "start_time": "2025-05-07T03:55:16.335Z"
   },
   {
    "duration": 3,
    "start_time": "2025-05-07T03:55:16.338Z"
   },
   {
    "duration": 2,
    "start_time": "2025-05-07T03:55:16.343Z"
   },
   {
    "duration": 706,
    "start_time": "2025-05-07T03:58:13.823Z"
   },
   {
    "duration": 795,
    "start_time": "2025-05-07T03:58:16.451Z"
   },
   {
    "duration": 5,
    "start_time": "2025-05-07T04:00:58.460Z"
   },
   {
    "duration": 569,
    "start_time": "2025-05-07T04:01:37.134Z"
   },
   {
    "duration": 42,
    "start_time": "2025-05-07T04:02:41.925Z"
   },
   {
    "duration": 40,
    "start_time": "2025-05-07T04:02:55.979Z"
   },
   {
    "duration": 4,
    "start_time": "2025-05-07T04:03:22.649Z"
   },
   {
    "duration": 10,
    "start_time": "2025-05-07T04:04:11.075Z"
   },
   {
    "duration": 3,
    "start_time": "2025-05-07T04:12:55.999Z"
   },
   {
    "duration": 3,
    "start_time": "2025-05-07T04:13:06.596Z"
   },
   {
    "duration": 3,
    "start_time": "2025-05-07T04:13:15.541Z"
   },
   {
    "duration": 100,
    "start_time": "2025-05-07T04:13:25.381Z"
   },
   {
    "duration": 758,
    "start_time": "2025-05-07T04:25:04.459Z"
   },
   {
    "duration": 632,
    "start_time": "2025-05-07T04:26:13.055Z"
   },
   {
    "duration": 652,
    "start_time": "2025-05-07T04:26:25.426Z"
   },
   {
    "duration": 40,
    "start_time": "2025-05-07T04:26:57.653Z"
   },
   {
    "duration": 50,
    "start_time": "2025-05-07T04:27:18.470Z"
   },
   {
    "duration": 40,
    "start_time": "2025-05-07T04:27:22.985Z"
   },
   {
    "duration": 14,
    "start_time": "2025-05-07T04:27:37.868Z"
   },
   {
    "duration": 659,
    "start_time": "2025-05-07T04:27:45.312Z"
   },
   {
    "duration": 231,
    "start_time": "2025-05-07T04:28:06.605Z"
   },
   {
    "duration": 670,
    "start_time": "2025-05-07T04:28:24.851Z"
   },
   {
    "duration": 655,
    "start_time": "2025-05-07T04:28:32.107Z"
   },
   {
    "duration": 771,
    "start_time": "2025-05-07T04:31:58.948Z"
   },
   {
    "duration": 729,
    "start_time": "2025-05-07T04:46:36.233Z"
   },
   {
    "duration": 5,
    "start_time": "2025-05-07T04:46:44.175Z"
   },
   {
    "duration": 6,
    "start_time": "2025-05-07T04:46:47.862Z"
   },
   {
    "duration": 5,
    "start_time": "2025-05-07T04:46:48.673Z"
   },
   {
    "duration": 728,
    "start_time": "2025-05-07T04:46:50.434Z"
   },
   {
    "duration": 5,
    "start_time": "2025-05-07T04:46:51.645Z"
   },
   {
    "duration": 651,
    "start_time": "2025-05-07T04:47:01.520Z"
   },
   {
    "duration": 661,
    "start_time": "2025-05-07T04:47:10.042Z"
   },
   {
    "duration": 646,
    "start_time": "2025-05-07T04:47:18.618Z"
   },
   {
    "duration": 679,
    "start_time": "2025-05-07T04:47:25.551Z"
   },
   {
    "duration": 655,
    "start_time": "2025-05-07T04:47:38.488Z"
   },
   {
    "duration": 626,
    "start_time": "2025-05-07T04:48:02.207Z"
   },
   {
    "duration": 657,
    "start_time": "2025-05-07T04:48:54.358Z"
   },
   {
    "duration": 654,
    "start_time": "2025-05-07T04:49:27.072Z"
   },
   {
    "duration": 2142,
    "start_time": "2025-05-07T18:31:42.531Z"
   },
   {
    "duration": 981,
    "start_time": "2025-05-07T18:31:44.676Z"
   },
   {
    "duration": 13,
    "start_time": "2025-05-07T18:31:45.659Z"
   },
   {
    "duration": 8,
    "start_time": "2025-05-07T18:31:45.674Z"
   },
   {
    "duration": 8,
    "start_time": "2025-05-07T18:31:45.684Z"
   },
   {
    "duration": 8,
    "start_time": "2025-05-07T18:31:45.694Z"
   },
   {
    "duration": 23,
    "start_time": "2025-05-07T18:31:45.730Z"
   },
   {
    "duration": 108,
    "start_time": "2025-05-07T18:31:45.755Z"
   },
   {
    "duration": 9,
    "start_time": "2025-05-07T18:31:45.865Z"
   },
   {
    "duration": 107,
    "start_time": "2025-05-07T18:31:45.877Z"
   },
   {
    "duration": 97,
    "start_time": "2025-05-07T18:31:45.986Z"
   },
   {
    "duration": 28,
    "start_time": "2025-05-07T18:31:46.085Z"
   },
   {
    "duration": 29,
    "start_time": "2025-05-07T18:31:46.115Z"
   },
   {
    "duration": 4,
    "start_time": "2025-05-07T18:31:46.146Z"
   },
   {
    "duration": 33,
    "start_time": "2025-05-07T18:31:46.153Z"
   },
   {
    "duration": 20,
    "start_time": "2025-05-07T18:31:46.187Z"
   },
   {
    "duration": 30,
    "start_time": "2025-05-07T18:31:46.208Z"
   },
   {
    "duration": 6,
    "start_time": "2025-05-07T18:31:46.240Z"
   },
   {
    "duration": 5,
    "start_time": "2025-05-07T18:31:46.248Z"
   },
   {
    "duration": 5,
    "start_time": "2025-05-07T18:31:46.255Z"
   },
   {
    "duration": 4,
    "start_time": "2025-05-07T18:31:46.262Z"
   },
   {
    "duration": 812,
    "start_time": "2025-05-07T18:31:46.267Z"
   },
   {
    "duration": 699,
    "start_time": "2025-05-07T18:31:47.080Z"
   },
   {
    "duration": 6,
    "start_time": "2025-05-07T18:31:47.781Z"
   },
   {
    "duration": 8,
    "start_time": "2025-05-07T18:31:47.788Z"
   },
   {
    "duration": 7,
    "start_time": "2025-05-07T18:31:47.798Z"
   },
   {
    "duration": 29,
    "start_time": "2025-05-07T18:31:47.807Z"
   },
   {
    "duration": 17,
    "start_time": "2025-05-07T18:31:47.840Z"
   },
   {
    "duration": 6,
    "start_time": "2025-05-07T18:31:47.858Z"
   },
   {
    "duration": 4,
    "start_time": "2025-05-07T18:31:47.866Z"
   },
   {
    "duration": 9,
    "start_time": "2025-05-07T18:31:47.872Z"
   },
   {
    "duration": 49,
    "start_time": "2025-05-07T18:31:47.883Z"
   },
   {
    "duration": 30,
    "start_time": "2025-05-07T18:31:47.934Z"
   },
   {
    "duration": 3,
    "start_time": "2025-05-07T18:31:47.965Z"
   },
   {
    "duration": 3,
    "start_time": "2025-05-07T18:31:47.970Z"
   },
   {
    "duration": 4,
    "start_time": "2025-05-07T18:31:47.974Z"
   },
   {
    "duration": 7,
    "start_time": "2025-05-07T20:02:52.699Z"
   },
   {
    "duration": 221,
    "start_time": "2025-05-07T20:03:28.001Z"
   },
   {
    "duration": 448,
    "start_time": "2025-05-07T20:03:37.452Z"
   },
   {
    "duration": 911,
    "start_time": "2025-05-07T20:03:37.902Z"
   },
   {
    "duration": 17,
    "start_time": "2025-05-07T20:03:38.815Z"
   },
   {
    "duration": 8,
    "start_time": "2025-05-07T20:03:38.834Z"
   },
   {
    "duration": 8,
    "start_time": "2025-05-07T20:03:38.844Z"
   },
   {
    "duration": 8,
    "start_time": "2025-05-07T20:03:38.853Z"
   },
   {
    "duration": 23,
    "start_time": "2025-05-07T20:03:38.862Z"
   },
   {
    "duration": 117,
    "start_time": "2025-05-07T20:03:38.886Z"
   },
   {
    "duration": 9,
    "start_time": "2025-05-07T20:03:39.005Z"
   },
   {
    "duration": 105,
    "start_time": "2025-05-07T20:03:39.017Z"
   },
   {
    "duration": 91,
    "start_time": "2025-05-07T20:03:39.124Z"
   },
   {
    "duration": 36,
    "start_time": "2025-05-07T20:03:39.217Z"
   },
   {
    "duration": 14,
    "start_time": "2025-05-07T20:03:39.255Z"
   },
   {
    "duration": 3,
    "start_time": "2025-05-07T20:03:39.271Z"
   },
   {
    "duration": 25,
    "start_time": "2025-05-07T20:03:39.276Z"
   },
   {
    "duration": 43,
    "start_time": "2025-05-07T20:03:39.303Z"
   },
   {
    "duration": 8,
    "start_time": "2025-05-07T20:03:39.348Z"
   },
   {
    "duration": 4,
    "start_time": "2025-05-07T20:03:39.358Z"
   },
   {
    "duration": 6,
    "start_time": "2025-05-07T20:03:39.364Z"
   },
   {
    "duration": 5,
    "start_time": "2025-05-07T20:03:39.371Z"
   },
   {
    "duration": 4,
    "start_time": "2025-05-07T20:03:39.378Z"
   },
   {
    "duration": 776,
    "start_time": "2025-05-07T20:03:39.383Z"
   },
   {
    "duration": 691,
    "start_time": "2025-05-07T20:03:40.161Z"
   },
   {
    "duration": 6,
    "start_time": "2025-05-07T20:03:40.854Z"
   },
   {
    "duration": 6,
    "start_time": "2025-05-07T20:03:40.862Z"
   },
   {
    "duration": 7,
    "start_time": "2025-05-07T20:03:40.869Z"
   },
   {
    "duration": 9,
    "start_time": "2025-05-07T20:03:40.877Z"
   },
   {
    "duration": 42,
    "start_time": "2025-05-07T20:03:40.890Z"
   },
   {
    "duration": 7,
    "start_time": "2025-05-07T20:03:40.933Z"
   },
   {
    "duration": 5,
    "start_time": "2025-05-07T20:03:40.941Z"
   },
   {
    "duration": 11,
    "start_time": "2025-05-07T20:03:40.947Z"
   },
   {
    "duration": 17,
    "start_time": "2025-05-07T20:03:40.960Z"
   },
   {
    "duration": 60,
    "start_time": "2025-05-07T20:03:40.978Z"
   },
   {
    "duration": 4,
    "start_time": "2025-05-07T20:03:41.041Z"
   },
   {
    "duration": 4,
    "start_time": "2025-05-07T20:03:41.047Z"
   },
   {
    "duration": 3,
    "start_time": "2025-05-07T20:03:41.052Z"
   },
   {
    "duration": 8,
    "start_time": "2025-05-07T20:03:41.058Z"
   },
   {
    "duration": 213,
    "start_time": "2025-05-07T20:03:41.068Z"
   },
   {
    "duration": 18,
    "start_time": "2025-05-07T20:38:04.944Z"
   },
   {
    "duration": 457,
    "start_time": "2025-05-07T20:38:30.562Z"
   },
   {
    "duration": 899,
    "start_time": "2025-05-07T20:38:31.021Z"
   },
   {
    "duration": 16,
    "start_time": "2025-05-07T20:38:31.922Z"
   },
   {
    "duration": 11,
    "start_time": "2025-05-07T20:38:31.939Z"
   },
   {
    "duration": 18,
    "start_time": "2025-05-07T20:38:31.953Z"
   },
   {
    "duration": 8,
    "start_time": "2025-05-07T20:38:31.973Z"
   },
   {
    "duration": 24,
    "start_time": "2025-05-07T20:38:31.982Z"
   },
   {
    "duration": 116,
    "start_time": "2025-05-07T20:38:32.008Z"
   },
   {
    "duration": 15,
    "start_time": "2025-05-07T20:38:32.126Z"
   },
   {
    "duration": 117,
    "start_time": "2025-05-07T20:38:32.143Z"
   },
   {
    "duration": 92,
    "start_time": "2025-05-07T20:38:32.262Z"
   },
   {
    "duration": 30,
    "start_time": "2025-05-07T20:38:32.356Z"
   },
   {
    "duration": 13,
    "start_time": "2025-05-07T20:38:32.388Z"
   },
   {
    "duration": 4,
    "start_time": "2025-05-07T20:38:32.406Z"
   },
   {
    "duration": 28,
    "start_time": "2025-05-07T20:38:32.432Z"
   },
   {
    "duration": 21,
    "start_time": "2025-05-07T20:38:32.462Z"
   },
   {
    "duration": 8,
    "start_time": "2025-05-07T20:38:32.485Z"
   },
   {
    "duration": 5,
    "start_time": "2025-05-07T20:38:32.495Z"
   },
   {
    "duration": 33,
    "start_time": "2025-05-07T20:38:32.501Z"
   },
   {
    "duration": 6,
    "start_time": "2025-05-07T20:38:32.536Z"
   },
   {
    "duration": 4,
    "start_time": "2025-05-07T20:38:32.543Z"
   },
   {
    "duration": 799,
    "start_time": "2025-05-07T20:38:32.549Z"
   },
   {
    "duration": 699,
    "start_time": "2025-05-07T20:38:33.350Z"
   },
   {
    "duration": 5,
    "start_time": "2025-05-07T20:38:34.051Z"
   },
   {
    "duration": 7,
    "start_time": "2025-05-07T20:38:34.058Z"
   },
   {
    "duration": 6,
    "start_time": "2025-05-07T20:38:34.067Z"
   },
   {
    "duration": 10,
    "start_time": "2025-05-07T20:38:34.075Z"
   },
   {
    "duration": 44,
    "start_time": "2025-05-07T20:38:34.088Z"
   },
   {
    "duration": 9,
    "start_time": "2025-05-07T20:38:34.134Z"
   },
   {
    "duration": 6,
    "start_time": "2025-05-07T20:38:34.144Z"
   },
   {
    "duration": 11,
    "start_time": "2025-05-07T20:38:34.151Z"
   },
   {
    "duration": 18,
    "start_time": "2025-05-07T20:38:34.164Z"
   },
   {
    "duration": 63,
    "start_time": "2025-05-07T20:38:34.184Z"
   },
   {
    "duration": 2,
    "start_time": "2025-05-07T20:38:34.249Z"
   },
   {
    "duration": 2,
    "start_time": "2025-05-07T20:38:34.253Z"
   },
   {
    "duration": 3,
    "start_time": "2025-05-07T20:38:34.258Z"
   },
   {
    "duration": 7,
    "start_time": "2025-05-07T20:38:34.262Z"
   },
   {
    "duration": 211,
    "start_time": "2025-05-07T20:38:34.271Z"
   },
   {
    "duration": 203,
    "start_time": "2025-05-07T20:39:10.094Z"
   },
   {
    "duration": 193,
    "start_time": "2025-05-07T20:40:49.059Z"
   },
   {
    "duration": 8,
    "start_time": "2025-05-07T20:44:17.526Z"
   },
   {
    "duration": 202,
    "start_time": "2025-05-07T20:44:23.029Z"
   },
   {
    "duration": 204,
    "start_time": "2025-05-07T20:44:39.435Z"
   },
   {
    "duration": 182,
    "start_time": "2025-05-07T20:47:58.725Z"
   },
   {
    "duration": 258,
    "start_time": "2025-05-07T20:48:44.252Z"
   },
   {
    "duration": 195,
    "start_time": "2025-05-08T02:35:41.319Z"
   },
   {
    "duration": 2786,
    "start_time": "2025-05-08T02:35:59.203Z"
   },
   {
    "duration": 1259,
    "start_time": "2025-05-08T02:36:01.991Z"
   },
   {
    "duration": 14,
    "start_time": "2025-05-08T02:36:03.251Z"
   },
   {
    "duration": 21,
    "start_time": "2025-05-08T02:36:03.267Z"
   },
   {
    "duration": 10,
    "start_time": "2025-05-08T02:36:03.290Z"
   },
   {
    "duration": 9,
    "start_time": "2025-05-08T02:36:03.302Z"
   },
   {
    "duration": 36,
    "start_time": "2025-05-08T02:36:03.313Z"
   },
   {
    "duration": 156,
    "start_time": "2025-05-08T02:36:03.352Z"
   },
   {
    "duration": 24,
    "start_time": "2025-05-08T02:36:03.515Z"
   },
   {
    "duration": 185,
    "start_time": "2025-05-08T02:36:03.545Z"
   },
   {
    "duration": 162,
    "start_time": "2025-05-08T02:36:03.735Z"
   },
   {
    "duration": 50,
    "start_time": "2025-05-08T02:36:03.899Z"
   },
   {
    "duration": 24,
    "start_time": "2025-05-08T02:36:03.951Z"
   },
   {
    "duration": 21,
    "start_time": "2025-05-08T02:36:03.980Z"
   },
   {
    "duration": 65,
    "start_time": "2025-05-08T02:36:04.003Z"
   },
   {
    "duration": 41,
    "start_time": "2025-05-08T02:36:04.074Z"
   },
   {
    "duration": 16,
    "start_time": "2025-05-08T02:36:04.120Z"
   },
   {
    "duration": 8,
    "start_time": "2025-05-08T02:36:04.143Z"
   },
   {
    "duration": 11,
    "start_time": "2025-05-08T02:36:04.153Z"
   },
   {
    "duration": 16,
    "start_time": "2025-05-08T02:36:04.166Z"
   },
   {
    "duration": 5,
    "start_time": "2025-05-08T02:36:04.188Z"
   },
   {
    "duration": 1093,
    "start_time": "2025-05-08T02:36:04.195Z"
   },
   {
    "duration": 1009,
    "start_time": "2025-05-08T02:36:05.290Z"
   },
   {
    "duration": 9,
    "start_time": "2025-05-08T02:36:06.301Z"
   },
   {
    "duration": 12,
    "start_time": "2025-05-08T02:36:06.312Z"
   },
   {
    "duration": 12,
    "start_time": "2025-05-08T02:36:06.326Z"
   },
   {
    "duration": 16,
    "start_time": "2025-05-08T02:36:06.341Z"
   },
   {
    "duration": 20,
    "start_time": "2025-05-08T02:36:06.364Z"
   },
   {
    "duration": 19,
    "start_time": "2025-05-08T02:36:06.386Z"
   },
   {
    "duration": 6,
    "start_time": "2025-05-08T02:36:06.407Z"
   },
   {
    "duration": 20,
    "start_time": "2025-05-08T02:36:06.415Z"
   },
   {
    "duration": 20,
    "start_time": "2025-05-08T02:36:06.437Z"
   },
   {
    "duration": 63,
    "start_time": "2025-05-08T02:36:06.458Z"
   },
   {
    "duration": 2,
    "start_time": "2025-05-08T02:36:06.526Z"
   },
   {
    "duration": 3,
    "start_time": "2025-05-08T02:36:06.531Z"
   },
   {
    "duration": 3,
    "start_time": "2025-05-08T02:36:06.536Z"
   },
   {
    "duration": 7,
    "start_time": "2025-05-08T02:36:06.541Z"
   },
   {
    "duration": 290,
    "start_time": "2025-05-08T02:36:06.550Z"
   },
   {
    "duration": 157,
    "start_time": "2025-05-08T02:36:06.842Z"
   },
   {
    "duration": 258,
    "start_time": "2025-05-08T02:36:07.004Z"
   },
   {
    "duration": 150,
    "start_time": "2025-05-08T02:47:40.451Z"
   },
   {
    "duration": 106,
    "start_time": "2025-05-08T02:47:51.869Z"
   },
   {
    "duration": 111,
    "start_time": "2025-05-08T03:00:42.273Z"
   },
   {
    "duration": 147,
    "start_time": "2025-05-08T03:01:29.993Z"
   },
   {
    "duration": 304,
    "start_time": "2025-05-08T03:13:10.862Z"
   },
   {
    "duration": 261,
    "start_time": "2025-05-08T04:10:17.814Z"
   },
   {
    "duration": 275,
    "start_time": "2025-05-08T04:10:53.435Z"
   },
   {
    "duration": 227,
    "start_time": "2025-05-08T04:11:08.831Z"
   },
   {
    "duration": 56,
    "start_time": "2025-05-08T04:11:47.078Z"
   },
   {
    "duration": 140,
    "start_time": "2025-05-08T04:12:18.668Z"
   },
   {
    "duration": 158,
    "start_time": "2025-05-08T04:12:32.693Z"
   },
   {
    "duration": 248,
    "start_time": "2025-05-08T04:12:40.491Z"
   },
   {
    "duration": 48,
    "start_time": "2025-05-08T04:12:52.980Z"
   },
   {
    "duration": 63,
    "start_time": "2025-05-08T04:13:09.084Z"
   },
   {
    "duration": 62,
    "start_time": "2025-05-08T04:13:42.104Z"
   },
   {
    "duration": 59,
    "start_time": "2025-05-08T04:13:51.744Z"
   },
   {
    "duration": 192,
    "start_time": "2025-05-08T04:19:09.807Z"
   },
   {
    "duration": 16,
    "start_time": "2025-05-08T04:44:47.538Z"
   },
   {
    "duration": 14,
    "start_time": "2025-05-08T04:45:02.517Z"
   },
   {
    "duration": 9,
    "start_time": "2025-05-08T04:45:16.383Z"
   },
   {
    "duration": 12,
    "start_time": "2025-05-08T04:45:32.354Z"
   },
   {
    "duration": 310,
    "start_time": "2025-05-08T04:45:41.299Z"
   },
   {
    "duration": 157,
    "start_time": "2025-05-08T06:04:56.840Z"
   },
   {
    "duration": 11,
    "start_time": "2025-05-08T06:05:15.575Z"
   },
   {
    "duration": 2172,
    "start_time": "2025-05-08T06:05:31.007Z"
   },
   {
    "duration": 1032,
    "start_time": "2025-05-08T06:05:33.182Z"
   },
   {
    "duration": 15,
    "start_time": "2025-05-08T06:05:34.216Z"
   },
   {
    "duration": 11,
    "start_time": "2025-05-08T06:05:34.234Z"
   },
   {
    "duration": 12,
    "start_time": "2025-05-08T06:05:34.247Z"
   },
   {
    "duration": 10,
    "start_time": "2025-05-08T06:05:34.261Z"
   },
   {
    "duration": 58,
    "start_time": "2025-05-08T06:05:34.274Z"
   },
   {
    "duration": 116,
    "start_time": "2025-05-08T06:05:34.334Z"
   },
   {
    "duration": 11,
    "start_time": "2025-05-08T06:05:34.453Z"
   },
   {
    "duration": 131,
    "start_time": "2025-05-08T06:05:34.468Z"
   },
   {
    "duration": 141,
    "start_time": "2025-05-08T06:05:34.601Z"
   },
   {
    "duration": 41,
    "start_time": "2025-05-08T06:05:34.744Z"
   },
   {
    "duration": 35,
    "start_time": "2025-05-08T06:05:34.788Z"
   },
   {
    "duration": 6,
    "start_time": "2025-05-08T06:05:34.825Z"
   },
   {
    "duration": 28,
    "start_time": "2025-05-08T06:05:34.833Z"
   },
   {
    "duration": 21,
    "start_time": "2025-05-08T06:05:34.863Z"
   },
   {
    "duration": 35,
    "start_time": "2025-05-08T06:05:34.886Z"
   },
   {
    "duration": 7,
    "start_time": "2025-05-08T06:05:34.923Z"
   },
   {
    "duration": 8,
    "start_time": "2025-05-08T06:05:34.932Z"
   },
   {
    "duration": 5,
    "start_time": "2025-05-08T06:05:34.942Z"
   },
   {
    "duration": 4,
    "start_time": "2025-05-08T06:05:34.948Z"
   },
   {
    "duration": 813,
    "start_time": "2025-05-08T06:05:34.953Z"
   },
   {
    "duration": 677,
    "start_time": "2025-05-08T06:05:35.768Z"
   },
   {
    "duration": 7,
    "start_time": "2025-05-08T06:05:36.448Z"
   },
   {
    "duration": 6,
    "start_time": "2025-05-08T06:05:36.457Z"
   },
   {
    "duration": 7,
    "start_time": "2025-05-08T06:05:36.464Z"
   },
   {
    "duration": 11,
    "start_time": "2025-05-08T06:05:36.472Z"
   },
   {
    "duration": 49,
    "start_time": "2025-05-08T06:05:36.489Z"
   },
   {
    "duration": 6,
    "start_time": "2025-05-08T06:05:36.540Z"
   },
   {
    "duration": 5,
    "start_time": "2025-05-08T06:05:36.548Z"
   },
   {
    "duration": 12,
    "start_time": "2025-05-08T06:05:36.555Z"
   },
   {
    "duration": 54,
    "start_time": "2025-05-08T06:05:36.570Z"
   },
   {
    "duration": 44,
    "start_time": "2025-05-08T06:05:36.626Z"
   },
   {
    "duration": 64,
    "start_time": "2025-05-08T06:05:36.672Z"
   },
   {
    "duration": 0,
    "start_time": "2025-05-08T06:05:36.738Z"
   },
   {
    "duration": 0,
    "start_time": "2025-05-08T06:05:36.739Z"
   },
   {
    "duration": 0,
    "start_time": "2025-05-08T06:05:36.740Z"
   },
   {
    "duration": 0,
    "start_time": "2025-05-08T06:05:36.741Z"
   },
   {
    "duration": 0,
    "start_time": "2025-05-08T06:05:36.742Z"
   },
   {
    "duration": 0,
    "start_time": "2025-05-08T06:05:36.742Z"
   },
   {
    "duration": 0,
    "start_time": "2025-05-08T06:05:36.744Z"
   },
   {
    "duration": 0,
    "start_time": "2025-05-08T06:05:36.744Z"
   },
   {
    "duration": 0,
    "start_time": "2025-05-08T06:05:36.746Z"
   },
   {
    "duration": 0,
    "start_time": "2025-05-08T06:05:36.748Z"
   },
   {
    "duration": 3,
    "start_time": "2025-05-08T06:05:45.485Z"
   },
   {
    "duration": 879,
    "start_time": "2025-05-08T06:05:45.696Z"
   },
   {
    "duration": 13,
    "start_time": "2025-05-08T06:05:46.577Z"
   },
   {
    "duration": 12,
    "start_time": "2025-05-08T06:05:46.592Z"
   },
   {
    "duration": 10,
    "start_time": "2025-05-08T06:05:46.620Z"
   },
   {
    "duration": 13,
    "start_time": "2025-05-08T06:05:46.634Z"
   },
   {
    "duration": 25,
    "start_time": "2025-05-08T06:05:46.845Z"
   },
   {
    "duration": 78,
    "start_time": "2025-05-08T06:05:48.280Z"
   },
   {
    "duration": 10,
    "start_time": "2025-05-08T06:05:48.796Z"
   },
   {
    "duration": 85,
    "start_time": "2025-05-08T06:05:49.311Z"
   },
   {
    "duration": 73,
    "start_time": "2025-05-08T06:05:49.567Z"
   },
   {
    "duration": 25,
    "start_time": "2025-05-08T06:05:49.862Z"
   },
   {
    "duration": 18,
    "start_time": "2025-05-08T06:05:50.662Z"
   },
   {
    "duration": 6,
    "start_time": "2025-05-08T06:05:50.953Z"
   },
   {
    "duration": 26,
    "start_time": "2025-05-08T06:05:51.192Z"
   },
   {
    "duration": 34,
    "start_time": "2025-05-08T06:05:51.442Z"
   },
   {
    "duration": 12,
    "start_time": "2025-05-08T06:05:52.185Z"
   },
   {
    "duration": 7,
    "start_time": "2025-05-08T06:05:53.730Z"
   },
   {
    "duration": 6,
    "start_time": "2025-05-08T06:05:54.084Z"
   },
   {
    "duration": 6,
    "start_time": "2025-05-08T06:05:55.293Z"
   },
   {
    "duration": 4,
    "start_time": "2025-05-08T06:05:55.574Z"
   },
   {
    "duration": 761,
    "start_time": "2025-05-08T06:05:56.782Z"
   },
   {
    "duration": 674,
    "start_time": "2025-05-08T06:05:57.545Z"
   },
   {
    "duration": 6,
    "start_time": "2025-05-08T06:05:58.723Z"
   },
   {
    "duration": 7,
    "start_time": "2025-05-08T06:05:59.508Z"
   },
   {
    "duration": 7,
    "start_time": "2025-05-08T06:06:00.543Z"
   },
   {
    "duration": 10,
    "start_time": "2025-05-08T06:06:02.011Z"
   },
   {
    "duration": 20,
    "start_time": "2025-05-08T06:06:06.071Z"
   },
   {
    "duration": 7,
    "start_time": "2025-05-08T06:06:08.291Z"
   },
   {
    "duration": 6,
    "start_time": "2025-05-08T06:06:09.019Z"
   },
   {
    "duration": 12,
    "start_time": "2025-05-08T06:06:09.774Z"
   },
   {
    "duration": 18,
    "start_time": "2025-05-08T06:06:11.894Z"
   },
   {
    "duration": 33,
    "start_time": "2025-05-08T06:06:12.767Z"
   },
   {
    "duration": 23,
    "start_time": "2025-05-08T06:06:16.592Z"
   },
   {
    "duration": 8,
    "start_time": "2025-05-08T06:06:27.931Z"
   },
   {
    "duration": 27,
    "start_time": "2025-05-08T06:07:07.306Z"
   },
   {
    "duration": 18,
    "start_time": "2025-05-08T06:20:45.401Z"
   },
   {
    "duration": 156,
    "start_time": "2025-05-08T17:23:41.284Z"
   },
   {
    "duration": 2108,
    "start_time": "2025-05-08T17:23:45.604Z"
   },
   {
    "duration": 989,
    "start_time": "2025-05-08T17:23:47.714Z"
   },
   {
    "duration": 16,
    "start_time": "2025-05-08T17:23:48.705Z"
   },
   {
    "duration": 9,
    "start_time": "2025-05-08T17:23:48.724Z"
   },
   {
    "duration": 8,
    "start_time": "2025-05-08T17:23:48.734Z"
   },
   {
    "duration": 7,
    "start_time": "2025-05-08T17:23:48.743Z"
   },
   {
    "duration": 22,
    "start_time": "2025-05-08T17:23:48.752Z"
   },
   {
    "duration": 123,
    "start_time": "2025-05-08T17:23:48.776Z"
   },
   {
    "duration": 19,
    "start_time": "2025-05-08T17:23:48.900Z"
   },
   {
    "duration": 102,
    "start_time": "2025-05-08T17:23:48.923Z"
   },
   {
    "duration": 89,
    "start_time": "2025-05-08T17:23:49.026Z"
   },
   {
    "duration": 29,
    "start_time": "2025-05-08T17:23:49.118Z"
   },
   {
    "duration": 14,
    "start_time": "2025-05-08T17:23:49.149Z"
   },
   {
    "duration": 4,
    "start_time": "2025-05-08T17:23:49.164Z"
   },
   {
    "duration": 48,
    "start_time": "2025-05-08T17:23:49.170Z"
   },
   {
    "duration": 21,
    "start_time": "2025-05-08T17:23:49.220Z"
   },
   {
    "duration": 8,
    "start_time": "2025-05-08T17:23:49.244Z"
   },
   {
    "duration": 5,
    "start_time": "2025-05-08T17:23:49.254Z"
   },
   {
    "duration": 5,
    "start_time": "2025-05-08T17:23:49.261Z"
   },
   {
    "duration": 5,
    "start_time": "2025-05-08T17:23:49.267Z"
   },
   {
    "duration": 38,
    "start_time": "2025-05-08T17:23:49.274Z"
   },
   {
    "duration": 754,
    "start_time": "2025-05-08T17:23:49.314Z"
   },
   {
    "duration": 633,
    "start_time": "2025-05-08T17:23:50.070Z"
   },
   {
    "duration": 9,
    "start_time": "2025-05-08T17:23:50.705Z"
   },
   {
    "duration": 6,
    "start_time": "2025-05-08T17:23:50.716Z"
   },
   {
    "duration": 7,
    "start_time": "2025-05-08T17:23:50.723Z"
   },
   {
    "duration": 9,
    "start_time": "2025-05-08T17:23:50.732Z"
   },
   {
    "duration": 16,
    "start_time": "2025-05-08T17:23:50.744Z"
   },
   {
    "duration": 7,
    "start_time": "2025-05-08T17:23:50.762Z"
   },
   {
    "duration": 42,
    "start_time": "2025-05-08T17:23:50.770Z"
   },
   {
    "duration": 9,
    "start_time": "2025-05-08T17:23:50.814Z"
   },
   {
    "duration": 16,
    "start_time": "2025-05-08T17:23:50.825Z"
   },
   {
    "duration": 29,
    "start_time": "2025-05-08T17:23:50.843Z"
   },
   {
    "duration": 40,
    "start_time": "2025-05-08T17:23:50.874Z"
   },
   {
    "duration": 2,
    "start_time": "2025-05-08T17:23:50.915Z"
   },
   {
    "duration": 27,
    "start_time": "2025-05-08T17:23:50.919Z"
   },
   {
    "duration": 6,
    "start_time": "2025-05-08T17:23:50.948Z"
   },
   {
    "duration": 269,
    "start_time": "2025-05-08T17:23:50.956Z"
   },
   {
    "duration": 140,
    "start_time": "2025-05-08T17:23:51.226Z"
   },
   {
    "duration": 221,
    "start_time": "2025-05-08T17:23:51.367Z"
   },
   {
    "duration": 246,
    "start_time": "2025-05-08T17:23:51.589Z"
   },
   {
    "duration": 169,
    "start_time": "2025-05-08T17:23:51.838Z"
   },
   {
    "duration": 39,
    "start_time": "2025-05-08T17:23:52.011Z"
   },
   {
    "duration": 124,
    "start_time": "2025-05-08T17:23:52.052Z"
   },
   {
    "duration": 246,
    "start_time": "2025-05-08T17:24:07.480Z"
   },
   {
    "duration": 164,
    "start_time": "2025-05-08T17:24:24.020Z"
   },
   {
    "duration": 1887,
    "start_time": "2025-05-08T17:31:12.444Z"
   },
   {
    "duration": 139,
    "start_time": "2025-05-08T17:31:32.388Z"
   },
   {
    "duration": 144,
    "start_time": "2025-05-08T17:31:48.849Z"
   },
   {
    "duration": 14,
    "start_time": "2025-05-08T17:33:54.120Z"
   },
   {
    "duration": 5,
    "start_time": "2025-05-08T17:35:26.496Z"
   },
   {
    "duration": 7,
    "start_time": "2025-05-08T17:35:59.048Z"
   },
   {
    "duration": 7,
    "start_time": "2025-05-08T17:36:03.620Z"
   },
   {
    "duration": 3,
    "start_time": "2025-05-08T17:36:12.800Z"
   },
   {
    "duration": 850,
    "start_time": "2025-05-08T17:36:12.805Z"
   },
   {
    "duration": 11,
    "start_time": "2025-05-08T17:36:13.657Z"
   },
   {
    "duration": 10,
    "start_time": "2025-05-08T17:36:13.669Z"
   },
   {
    "duration": 32,
    "start_time": "2025-05-08T17:36:13.681Z"
   },
   {
    "duration": 7,
    "start_time": "2025-05-08T17:36:13.714Z"
   },
   {
    "duration": 22,
    "start_time": "2025-05-08T17:36:13.723Z"
   },
   {
    "duration": 89,
    "start_time": "2025-05-08T17:36:13.747Z"
   },
   {
    "duration": 8,
    "start_time": "2025-05-08T17:36:13.837Z"
   },
   {
    "duration": 90,
    "start_time": "2025-05-08T17:36:13.847Z"
   },
   {
    "duration": 77,
    "start_time": "2025-05-08T17:36:13.938Z"
   },
   {
    "duration": 23,
    "start_time": "2025-05-08T17:36:14.016Z"
   },
   {
    "duration": 14,
    "start_time": "2025-05-08T17:36:14.040Z"
   },
   {
    "duration": 4,
    "start_time": "2025-05-08T17:36:14.057Z"
   },
   {
    "duration": 51,
    "start_time": "2025-05-08T17:36:14.062Z"
   },
   {
    "duration": 22,
    "start_time": "2025-05-08T17:36:14.114Z"
   },
   {
    "duration": 9,
    "start_time": "2025-05-08T17:36:14.137Z"
   },
   {
    "duration": 6,
    "start_time": "2025-05-08T17:36:14.148Z"
   },
   {
    "duration": 5,
    "start_time": "2025-05-08T17:36:14.155Z"
   },
   {
    "duration": 5,
    "start_time": "2025-05-08T17:36:14.161Z"
   },
   {
    "duration": 4,
    "start_time": "2025-05-08T17:36:14.167Z"
   },
   {
    "duration": 722,
    "start_time": "2025-05-08T17:36:14.173Z"
   },
   {
    "duration": 635,
    "start_time": "2025-05-08T17:36:14.896Z"
   },
   {
    "duration": 9,
    "start_time": "2025-05-08T17:36:15.533Z"
   },
   {
    "duration": 7,
    "start_time": "2025-05-08T17:36:16.888Z"
   },
   {
    "duration": 5,
    "start_time": "2025-05-08T17:36:29.857Z"
   },
   {
    "duration": 7,
    "start_time": "2025-05-08T17:36:46.471Z"
   },
   {
    "duration": 7,
    "start_time": "2025-05-08T17:38:49.290Z"
   },
   {
    "duration": 3,
    "start_time": "2025-05-08T17:38:54.074Z"
   },
   {
    "duration": 819,
    "start_time": "2025-05-08T17:38:54.078Z"
   },
   {
    "duration": 18,
    "start_time": "2025-05-08T17:38:54.899Z"
   },
   {
    "duration": 9,
    "start_time": "2025-05-08T17:38:54.918Z"
   },
   {
    "duration": 9,
    "start_time": "2025-05-08T17:38:54.928Z"
   },
   {
    "duration": 7,
    "start_time": "2025-05-08T17:38:54.939Z"
   },
   {
    "duration": 21,
    "start_time": "2025-05-08T17:38:54.948Z"
   },
   {
    "duration": 105,
    "start_time": "2025-05-08T17:38:54.970Z"
   },
   {
    "duration": 9,
    "start_time": "2025-05-08T17:38:55.077Z"
   },
   {
    "duration": 86,
    "start_time": "2025-05-08T17:38:55.088Z"
   },
   {
    "duration": 76,
    "start_time": "2025-05-08T17:38:55.176Z"
   },
   {
    "duration": 22,
    "start_time": "2025-05-08T17:38:55.254Z"
   },
   {
    "duration": 14,
    "start_time": "2025-05-08T17:38:55.277Z"
   },
   {
    "duration": 21,
    "start_time": "2025-05-08T17:38:55.292Z"
   },
   {
    "duration": 25,
    "start_time": "2025-05-08T17:38:55.314Z"
   },
   {
    "duration": 20,
    "start_time": "2025-05-08T17:38:55.341Z"
   },
   {
    "duration": 7,
    "start_time": "2025-05-08T17:38:55.362Z"
   },
   {
    "duration": 7,
    "start_time": "2025-05-08T17:39:42.447Z"
   },
   {
    "duration": 8,
    "start_time": "2025-05-08T17:39:47.401Z"
   },
   {
    "duration": 7,
    "start_time": "2025-05-08T17:39:52.091Z"
   },
   {
    "duration": 10,
    "start_time": "2025-05-08T17:40:19.339Z"
   },
   {
    "duration": 23,
    "start_time": "2025-05-08T18:07:58.910Z"
   },
   {
    "duration": 19,
    "start_time": "2025-05-08T18:08:37.610Z"
   },
   {
    "duration": 27,
    "start_time": "2025-05-08T18:23:59.468Z"
   },
   {
    "duration": 40,
    "start_time": "2025-05-08T18:24:15.417Z"
   },
   {
    "duration": 18,
    "start_time": "2025-05-08T18:24:39.340Z"
   },
   {
    "duration": 15,
    "start_time": "2025-05-08T18:25:09.492Z"
   },
   {
    "duration": 41,
    "start_time": "2025-05-08T18:25:15.328Z"
   },
   {
    "duration": 16,
    "start_time": "2025-05-08T18:25:18.917Z"
   },
   {
    "duration": 15,
    "start_time": "2025-05-08T18:25:21.715Z"
   },
   {
    "duration": 15,
    "start_time": "2025-05-08T18:25:22.792Z"
   },
   {
    "duration": 3,
    "start_time": "2025-05-08T18:25:34.291Z"
   },
   {
    "duration": 830,
    "start_time": "2025-05-08T18:25:34.295Z"
   },
   {
    "duration": 10,
    "start_time": "2025-05-08T18:25:35.127Z"
   },
   {
    "duration": 9,
    "start_time": "2025-05-08T18:25:35.138Z"
   },
   {
    "duration": 7,
    "start_time": "2025-05-08T18:25:35.149Z"
   },
   {
    "duration": 7,
    "start_time": "2025-05-08T18:25:35.158Z"
   },
   {
    "duration": 46,
    "start_time": "2025-05-08T18:25:35.166Z"
   },
   {
    "duration": 68,
    "start_time": "2025-05-08T18:25:35.213Z"
   },
   {
    "duration": 8,
    "start_time": "2025-05-08T18:25:35.283Z"
   },
   {
    "duration": 92,
    "start_time": "2025-05-08T18:25:35.293Z"
   },
   {
    "duration": 73,
    "start_time": "2025-05-08T18:25:35.388Z"
   },
   {
    "duration": 22,
    "start_time": "2025-05-08T18:25:35.463Z"
   },
   {
    "duration": 31,
    "start_time": "2025-05-08T18:25:35.486Z"
   },
   {
    "duration": 3,
    "start_time": "2025-05-08T18:25:35.519Z"
   },
   {
    "duration": 27,
    "start_time": "2025-05-08T18:25:35.524Z"
   },
   {
    "duration": 20,
    "start_time": "2025-05-08T18:25:35.552Z"
   },
   {
    "duration": 4,
    "start_time": "2025-05-08T18:25:35.574Z"
   },
   {
    "duration": 32,
    "start_time": "2025-05-08T18:25:35.580Z"
   },
   {
    "duration": 5,
    "start_time": "2025-05-08T18:25:35.614Z"
   },
   {
    "duration": 5,
    "start_time": "2025-05-08T18:25:35.621Z"
   },
   {
    "duration": 720,
    "start_time": "2025-05-08T18:25:35.628Z"
   },
   {
    "duration": 586,
    "start_time": "2025-05-08T18:25:36.350Z"
   },
   {
    "duration": 7,
    "start_time": "2025-05-08T18:25:36.939Z"
   },
   {
    "duration": 8,
    "start_time": "2025-05-08T18:25:36.947Z"
   },
   {
    "duration": 8,
    "start_time": "2025-05-08T18:25:36.957Z"
   },
   {
    "duration": 8,
    "start_time": "2025-05-08T18:25:36.966Z"
   },
   {
    "duration": 46,
    "start_time": "2025-05-08T18:25:36.976Z"
   },
   {
    "duration": 6,
    "start_time": "2025-05-08T18:25:37.024Z"
   },
   {
    "duration": 4,
    "start_time": "2025-05-08T18:25:37.034Z"
   },
   {
    "duration": 11,
    "start_time": "2025-05-08T18:25:37.040Z"
   },
   {
    "duration": 16,
    "start_time": "2025-05-08T18:25:37.052Z"
   },
   {
    "duration": 62,
    "start_time": "2025-05-08T18:25:37.069Z"
   },
   {
    "duration": 40,
    "start_time": "2025-05-08T18:25:37.133Z"
   },
   {
    "duration": 11,
    "start_time": "2025-05-08T18:25:37.175Z"
   },
   {
    "duration": 3,
    "start_time": "2025-05-08T18:25:37.187Z"
   },
   {
    "duration": 29,
    "start_time": "2025-05-08T18:25:37.211Z"
   },
   {
    "duration": 7,
    "start_time": "2025-05-08T18:25:37.242Z"
   },
   {
    "duration": 204,
    "start_time": "2025-05-08T18:25:37.250Z"
   },
   {
    "duration": 134,
    "start_time": "2025-05-08T18:25:37.456Z"
   },
   {
    "duration": 221,
    "start_time": "2025-05-08T18:25:37.592Z"
   },
   {
    "duration": 149,
    "start_time": "2025-05-08T18:25:37.815Z"
   },
   {
    "duration": 174,
    "start_time": "2025-05-08T18:25:37.965Z"
   },
   {
    "duration": 37,
    "start_time": "2025-05-08T18:25:38.140Z"
   },
   {
    "duration": 94,
    "start_time": "2025-05-08T18:25:38.178Z"
   },
   {
    "duration": 52,
    "start_time": "2025-05-08T18:26:48.851Z"
   },
   {
    "duration": 10,
    "start_time": "2025-05-08T18:27:19.311Z"
   },
   {
    "duration": 5,
    "start_time": "2025-05-08T18:27:22.460Z"
   },
   {
    "duration": 4,
    "start_time": "2025-05-08T18:27:31.986Z"
   },
   {
    "duration": 6,
    "start_time": "2025-05-08T18:27:38.922Z"
   },
   {
    "duration": 827,
    "start_time": "2025-05-08T18:27:38.930Z"
   },
   {
    "duration": 10,
    "start_time": "2025-05-08T18:27:39.759Z"
   },
   {
    "duration": 9,
    "start_time": "2025-05-08T18:27:39.770Z"
   },
   {
    "duration": 7,
    "start_time": "2025-05-08T18:27:39.781Z"
   },
   {
    "duration": 7,
    "start_time": "2025-05-08T18:27:39.811Z"
   },
   {
    "duration": 20,
    "start_time": "2025-05-08T18:27:39.820Z"
   },
   {
    "duration": 78,
    "start_time": "2025-05-08T18:27:39.842Z"
   },
   {
    "duration": 8,
    "start_time": "2025-05-08T18:27:39.922Z"
   },
   {
    "duration": 94,
    "start_time": "2025-05-08T18:27:39.931Z"
   },
   {
    "duration": 69,
    "start_time": "2025-05-08T18:27:40.027Z"
   },
   {
    "duration": 30,
    "start_time": "2025-05-08T18:27:40.098Z"
   },
   {
    "duration": 14,
    "start_time": "2025-05-08T18:27:40.130Z"
   },
   {
    "duration": 3,
    "start_time": "2025-05-08T18:27:40.147Z"
   },
   {
    "duration": 24,
    "start_time": "2025-05-08T18:27:40.152Z"
   },
   {
    "duration": 48,
    "start_time": "2025-05-08T18:27:40.178Z"
   },
   {
    "duration": 6,
    "start_time": "2025-05-08T18:27:40.227Z"
   },
   {
    "duration": 6,
    "start_time": "2025-05-08T18:27:40.234Z"
   },
   {
    "duration": 6,
    "start_time": "2025-05-08T18:27:40.241Z"
   },
   {
    "duration": 4,
    "start_time": "2025-05-08T18:27:40.248Z"
   },
   {
    "duration": 727,
    "start_time": "2025-05-08T18:27:40.254Z"
   },
   {
    "duration": 597,
    "start_time": "2025-05-08T18:27:40.983Z"
   },
   {
    "duration": 8,
    "start_time": "2025-05-08T18:27:41.583Z"
   },
   {
    "duration": 20,
    "start_time": "2025-05-08T18:27:41.592Z"
   },
   {
    "duration": 6,
    "start_time": "2025-05-08T18:27:41.614Z"
   },
   {
    "duration": 8,
    "start_time": "2025-05-08T18:27:41.622Z"
   },
   {
    "duration": 16,
    "start_time": "2025-05-08T18:27:41.632Z"
   },
   {
    "duration": 7,
    "start_time": "2025-05-08T18:27:41.650Z"
   },
   {
    "duration": 4,
    "start_time": "2025-05-08T18:27:41.659Z"
   },
   {
    "duration": 10,
    "start_time": "2025-05-08T18:27:41.664Z"
   },
   {
    "duration": 16,
    "start_time": "2025-05-08T18:27:41.712Z"
   },
   {
    "duration": 35,
    "start_time": "2025-05-08T18:27:41.729Z"
   },
   {
    "duration": 13,
    "start_time": "2025-05-08T18:27:58.384Z"
   },
   {
    "duration": 48,
    "start_time": "2025-05-08T18:31:18.626Z"
   },
   {
    "duration": 16,
    "start_time": "2025-05-08T18:31:29.464Z"
   },
   {
    "duration": 6,
    "start_time": "2025-05-08T18:31:39.443Z"
   },
   {
    "duration": 7,
    "start_time": "2025-05-08T18:31:58.542Z"
   },
   {
    "duration": 122,
    "start_time": "2025-05-08T19:02:16.026Z"
   },
   {
    "duration": 353,
    "start_time": "2025-05-08T19:02:36.485Z"
   },
   {
    "duration": 103,
    "start_time": "2025-05-08T19:09:21.593Z"
   },
   {
    "duration": 102,
    "start_time": "2025-05-08T19:09:27.750Z"
   },
   {
    "duration": 281,
    "start_time": "2025-05-08T19:09:37.389Z"
   },
   {
    "duration": 102,
    "start_time": "2025-05-08T19:09:40.239Z"
   },
   {
    "duration": 110,
    "start_time": "2025-05-08T19:09:55.211Z"
   },
   {
    "duration": 195,
    "start_time": "2025-05-08T19:15:38.673Z"
   },
   {
    "duration": 201,
    "start_time": "2025-05-08T19:16:07.900Z"
   },
   {
    "duration": 2259,
    "start_time": "2025-05-09T02:56:19.400Z"
   },
   {
    "duration": 986,
    "start_time": "2025-05-09T02:56:21.661Z"
   },
   {
    "duration": 12,
    "start_time": "2025-05-09T02:56:22.649Z"
   },
   {
    "duration": 9,
    "start_time": "2025-05-09T02:56:22.664Z"
   },
   {
    "duration": 8,
    "start_time": "2025-05-09T02:56:22.675Z"
   },
   {
    "duration": 8,
    "start_time": "2025-05-09T02:56:22.684Z"
   },
   {
    "duration": 57,
    "start_time": "2025-05-09T02:56:22.693Z"
   },
   {
    "duration": 97,
    "start_time": "2025-05-09T02:56:22.752Z"
   },
   {
    "duration": 9,
    "start_time": "2025-05-09T02:56:22.851Z"
   },
   {
    "duration": 119,
    "start_time": "2025-05-09T02:56:22.864Z"
   },
   {
    "duration": 97,
    "start_time": "2025-05-09T02:56:22.985Z"
   },
   {
    "duration": 33,
    "start_time": "2025-05-09T02:56:23.084Z"
   },
   {
    "duration": 16,
    "start_time": "2025-05-09T02:56:23.131Z"
   },
   {
    "duration": 4,
    "start_time": "2025-05-09T02:56:23.149Z"
   },
   {
    "duration": 31,
    "start_time": "2025-05-09T02:56:23.155Z"
   },
   {
    "duration": 48,
    "start_time": "2025-05-09T02:56:23.187Z"
   },
   {
    "duration": 5,
    "start_time": "2025-05-09T02:56:23.239Z"
   },
   {
    "duration": 6,
    "start_time": "2025-05-09T02:56:23.246Z"
   },
   {
    "duration": 6,
    "start_time": "2025-05-09T02:56:23.254Z"
   },
   {
    "duration": 4,
    "start_time": "2025-05-09T02:56:23.262Z"
   },
   {
    "duration": 844,
    "start_time": "2025-05-09T02:56:23.268Z"
   },
   {
    "duration": 742,
    "start_time": "2025-05-09T02:56:24.114Z"
   },
   {
    "duration": 8,
    "start_time": "2025-05-09T02:56:24.857Z"
   },
   {
    "duration": 8,
    "start_time": "2025-05-09T02:56:24.866Z"
   },
   {
    "duration": 8,
    "start_time": "2025-05-09T02:56:24.876Z"
   },
   {
    "duration": 10,
    "start_time": "2025-05-09T02:56:24.885Z"
   },
   {
    "duration": 54,
    "start_time": "2025-05-09T02:56:24.899Z"
   },
   {
    "duration": 7,
    "start_time": "2025-05-09T02:56:24.958Z"
   },
   {
    "duration": 4,
    "start_time": "2025-05-09T02:56:24.967Z"
   },
   {
    "duration": 9,
    "start_time": "2025-05-09T02:56:24.973Z"
   },
   {
    "duration": 19,
    "start_time": "2025-05-09T02:56:24.983Z"
   },
   {
    "duration": 57,
    "start_time": "2025-05-09T02:56:25.003Z"
   },
   {
    "duration": 12,
    "start_time": "2025-05-09T02:56:25.062Z"
   },
   {
    "duration": 2,
    "start_time": "2025-05-09T02:56:25.076Z"
   },
   {
    "duration": 57,
    "start_time": "2025-05-09T02:56:25.080Z"
   },
   {
    "duration": 8,
    "start_time": "2025-05-09T02:56:25.139Z"
   },
   {
    "duration": 225,
    "start_time": "2025-05-09T02:56:25.148Z"
   },
   {
    "duration": 180,
    "start_time": "2025-05-09T02:56:25.375Z"
   },
   {
    "duration": 232,
    "start_time": "2025-05-09T02:56:25.557Z"
   },
   {
    "duration": 181,
    "start_time": "2025-05-09T02:56:25.791Z"
   },
   {
    "duration": 180,
    "start_time": "2025-05-09T02:56:25.973Z"
   },
   {
    "duration": 42,
    "start_time": "2025-05-09T02:56:26.155Z"
   },
   {
    "duration": 120,
    "start_time": "2025-05-09T02:56:26.199Z"
   },
   {
    "duration": 211,
    "start_time": "2025-05-09T02:56:26.321Z"
   },
   {
    "duration": 207,
    "start_time": "2025-05-09T02:56:26.534Z"
   },
   {
    "duration": 277,
    "start_time": "2025-05-09T03:01:32.682Z"
   },
   {
    "duration": 181,
    "start_time": "2025-05-09T03:01:59.435Z"
   },
   {
    "duration": 263,
    "start_time": "2025-05-09T03:02:52.526Z"
   },
   {
    "duration": 281,
    "start_time": "2025-05-09T03:03:00.150Z"
   },
   {
    "duration": 155,
    "start_time": "2025-05-09T03:03:07.000Z"
   },
   {
    "duration": 287,
    "start_time": "2025-05-09T03:03:17.854Z"
   },
   {
    "duration": 174,
    "start_time": "2025-05-09T03:03:22.796Z"
   },
   {
    "duration": 144,
    "start_time": "2025-05-09T03:20:40.293Z"
   },
   {
    "duration": 145,
    "start_time": "2025-05-09T03:21:01.423Z"
   },
   {
    "duration": 928,
    "start_time": "2025-05-09T03:21:23.321Z"
   },
   {
    "duration": 140,
    "start_time": "2025-05-09T03:21:49.078Z"
   },
   {
    "duration": 175,
    "start_time": "2025-05-09T03:22:02.065Z"
   },
   {
    "duration": 178,
    "start_time": "2025-05-09T03:22:56.151Z"
   },
   {
    "duration": 8,
    "start_time": "2025-05-09T03:23:11.665Z"
   },
   {
    "duration": 188,
    "start_time": "2025-05-09T03:23:31.501Z"
   },
   {
    "duration": 7,
    "start_time": "2025-05-09T03:23:45.360Z"
   },
   {
    "duration": 278,
    "start_time": "2025-05-09T03:34:36.526Z"
   },
   {
    "duration": 452,
    "start_time": "2025-05-09T03:34:57.736Z"
   },
   {
    "duration": 962,
    "start_time": "2025-05-09T03:48:14.423Z"
   },
   {
    "duration": 946,
    "start_time": "2025-05-09T03:48:42.074Z"
   },
   {
    "duration": 250,
    "start_time": "2025-05-09T04:29:03.630Z"
   },
   {
    "duration": 4,
    "start_time": "2025-05-09T04:29:13.298Z"
   },
   {
    "duration": 1019,
    "start_time": "2025-05-09T04:29:13.304Z"
   },
   {
    "duration": 15,
    "start_time": "2025-05-09T04:29:14.326Z"
   },
   {
    "duration": 20,
    "start_time": "2025-05-09T04:29:14.343Z"
   },
   {
    "duration": 9,
    "start_time": "2025-05-09T04:29:14.368Z"
   },
   {
    "duration": 8,
    "start_time": "2025-05-09T04:29:14.379Z"
   },
   {
    "duration": 22,
    "start_time": "2025-05-09T04:29:14.389Z"
   },
   {
    "duration": 94,
    "start_time": "2025-05-09T04:29:14.431Z"
   },
   {
    "duration": 30,
    "start_time": "2025-05-09T04:29:14.527Z"
   },
   {
    "duration": 106,
    "start_time": "2025-05-09T04:29:14.560Z"
   },
   {
    "duration": 87,
    "start_time": "2025-05-09T04:29:14.669Z"
   },
   {
    "duration": 26,
    "start_time": "2025-05-09T04:29:14.758Z"
   },
   {
    "duration": 15,
    "start_time": "2025-05-09T04:29:14.786Z"
   },
   {
    "duration": 3,
    "start_time": "2025-05-09T04:29:14.804Z"
   },
   {
    "duration": 54,
    "start_time": "2025-05-09T04:29:14.809Z"
   },
   {
    "duration": 21,
    "start_time": "2025-05-09T04:29:14.865Z"
   },
   {
    "duration": 5,
    "start_time": "2025-05-09T04:29:14.887Z"
   },
   {
    "duration": 5,
    "start_time": "2025-05-09T04:29:14.894Z"
   },
   {
    "duration": 5,
    "start_time": "2025-05-09T04:29:14.900Z"
   },
   {
    "duration": 31,
    "start_time": "2025-05-09T04:29:14.906Z"
   },
   {
    "duration": 780,
    "start_time": "2025-05-09T04:29:14.939Z"
   },
   {
    "duration": 711,
    "start_time": "2025-05-09T04:29:15.721Z"
   },
   {
    "duration": 10,
    "start_time": "2025-05-09T04:29:16.434Z"
   },
   {
    "duration": 7,
    "start_time": "2025-05-09T04:29:16.446Z"
   },
   {
    "duration": 8,
    "start_time": "2025-05-09T04:29:16.455Z"
   },
   {
    "duration": 10,
    "start_time": "2025-05-09T04:29:16.464Z"
   },
   {
    "duration": 21,
    "start_time": "2025-05-09T04:29:16.475Z"
   },
   {
    "duration": 42,
    "start_time": "2025-05-09T04:29:16.497Z"
   },
   {
    "duration": 6,
    "start_time": "2025-05-09T04:29:16.545Z"
   },
   {
    "duration": 10,
    "start_time": "2025-05-09T04:29:16.554Z"
   },
   {
    "duration": 15,
    "start_time": "2025-05-09T04:29:16.566Z"
   },
   {
    "duration": 55,
    "start_time": "2025-05-09T04:29:16.583Z"
   },
   {
    "duration": 13,
    "start_time": "2025-05-09T04:29:16.640Z"
   },
   {
    "duration": 2,
    "start_time": "2025-05-09T04:29:16.655Z"
   },
   {
    "duration": 28,
    "start_time": "2025-05-09T04:29:16.659Z"
   },
   {
    "duration": 8,
    "start_time": "2025-05-09T04:29:16.689Z"
   },
   {
    "duration": 240,
    "start_time": "2025-05-09T04:29:16.698Z"
   },
   {
    "duration": 144,
    "start_time": "2025-05-09T04:29:16.940Z"
   },
   {
    "duration": 227,
    "start_time": "2025-05-09T04:29:17.086Z"
   },
   {
    "duration": 164,
    "start_time": "2025-05-09T04:29:17.315Z"
   },
   {
    "duration": 170,
    "start_time": "2025-05-09T04:29:17.481Z"
   },
   {
    "duration": 38,
    "start_time": "2025-05-09T04:29:17.653Z"
   },
   {
    "duration": 106,
    "start_time": "2025-05-09T04:29:17.693Z"
   },
   {
    "duration": 472,
    "start_time": "2025-05-09T04:29:17.800Z"
   },
   {
    "duration": 7,
    "start_time": "2025-05-09T04:29:18.274Z"
   },
   {
    "duration": 193,
    "start_time": "2025-05-09T04:29:18.282Z"
   },
   {
    "duration": 197,
    "start_time": "2025-05-09T04:29:18.478Z"
   },
   {
    "duration": 214,
    "start_time": "2025-05-09T04:29:18.676Z"
   },
   {
    "duration": 137,
    "start_time": "2025-05-09T04:29:18.892Z"
   },
   {
    "duration": 127,
    "start_time": "2025-05-09T04:29:28.614Z"
   },
   {
    "duration": 2851,
    "start_time": "2025-05-09T06:24:02.262Z"
   },
   {
    "duration": 1376,
    "start_time": "2025-05-09T06:24:05.115Z"
   },
   {
    "duration": 13,
    "start_time": "2025-05-09T06:24:06.493Z"
   },
   {
    "duration": 11,
    "start_time": "2025-05-09T06:24:06.509Z"
   },
   {
    "duration": 33,
    "start_time": "2025-05-09T06:24:06.521Z"
   },
   {
    "duration": 12,
    "start_time": "2025-05-09T06:24:06.556Z"
   },
   {
    "duration": 39,
    "start_time": "2025-05-09T06:24:06.570Z"
   },
   {
    "duration": 144,
    "start_time": "2025-05-09T06:24:06.611Z"
   },
   {
    "duration": 19,
    "start_time": "2025-05-09T06:24:06.757Z"
   },
   {
    "duration": 127,
    "start_time": "2025-05-09T06:24:06.780Z"
   },
   {
    "duration": 110,
    "start_time": "2025-05-09T06:24:06.909Z"
   },
   {
    "duration": 34,
    "start_time": "2025-05-09T06:24:07.021Z"
   },
   {
    "duration": 22,
    "start_time": "2025-05-09T06:24:07.057Z"
   },
   {
    "duration": 4,
    "start_time": "2025-05-09T06:24:07.081Z"
   },
   {
    "duration": 28,
    "start_time": "2025-05-09T06:24:07.086Z"
   },
   {
    "duration": 58,
    "start_time": "2025-05-09T06:24:07.116Z"
   },
   {
    "duration": 6,
    "start_time": "2025-05-09T06:24:07.175Z"
   },
   {
    "duration": 5,
    "start_time": "2025-05-09T06:24:07.183Z"
   },
   {
    "duration": 5,
    "start_time": "2025-05-09T06:24:07.191Z"
   },
   {
    "duration": 4,
    "start_time": "2025-05-09T06:24:07.198Z"
   },
   {
    "duration": 939,
    "start_time": "2025-05-09T06:24:07.204Z"
   },
   {
    "duration": 797,
    "start_time": "2025-05-09T06:24:08.145Z"
   },
   {
    "duration": 18,
    "start_time": "2025-05-09T06:24:08.960Z"
   },
   {
    "duration": 8,
    "start_time": "2025-05-09T06:24:08.981Z"
   },
   {
    "duration": 7,
    "start_time": "2025-05-09T06:24:08.990Z"
   },
   {
    "duration": 11,
    "start_time": "2025-05-09T06:24:08.998Z"
   },
   {
    "duration": 17,
    "start_time": "2025-05-09T06:24:09.011Z"
   },
   {
    "duration": 14,
    "start_time": "2025-05-09T06:24:09.032Z"
   },
   {
    "duration": 13,
    "start_time": "2025-05-09T06:24:09.047Z"
   },
   {
    "duration": 14,
    "start_time": "2025-05-09T06:24:09.064Z"
   },
   {
    "duration": 17,
    "start_time": "2025-05-09T06:24:09.079Z"
   },
   {
    "duration": 44,
    "start_time": "2025-05-09T06:24:09.098Z"
   },
   {
    "duration": 28,
    "start_time": "2025-05-09T06:24:09.144Z"
   },
   {
    "duration": 2,
    "start_time": "2025-05-09T06:24:09.174Z"
   },
   {
    "duration": 27,
    "start_time": "2025-05-09T06:24:09.178Z"
   },
   {
    "duration": 7,
    "start_time": "2025-05-09T06:24:09.209Z"
   },
   {
    "duration": 305,
    "start_time": "2025-05-09T06:24:09.217Z"
   },
   {
    "duration": 182,
    "start_time": "2025-05-09T06:24:09.525Z"
   },
   {
    "duration": 290,
    "start_time": "2025-05-09T06:24:09.709Z"
   },
   {
    "duration": 210,
    "start_time": "2025-05-09T06:24:10.001Z"
   },
   {
    "duration": 211,
    "start_time": "2025-05-09T06:24:10.213Z"
   },
   {
    "duration": 59,
    "start_time": "2025-05-09T06:24:10.425Z"
   },
   {
    "duration": 126,
    "start_time": "2025-05-09T06:24:10.486Z"
   },
   {
    "duration": 511,
    "start_time": "2025-05-09T06:24:10.614Z"
   },
   {
    "duration": 7,
    "start_time": "2025-05-09T06:24:11.127Z"
   },
   {
    "duration": 198,
    "start_time": "2025-05-09T06:24:11.144Z"
   },
   {
    "duration": 205,
    "start_time": "2025-05-09T06:24:11.345Z"
   },
   {
    "duration": 201,
    "start_time": "2025-05-09T06:24:11.552Z"
   },
   {
    "duration": 142,
    "start_time": "2025-05-09T06:24:11.755Z"
   },
   {
    "duration": 613,
    "start_time": "2025-05-09T06:27:42.221Z"
   },
   {
    "duration": 3,
    "start_time": "2025-05-09T06:27:59.771Z"
   },
   {
    "duration": 1024,
    "start_time": "2025-05-09T06:27:59.776Z"
   },
   {
    "duration": 10,
    "start_time": "2025-05-09T06:28:00.803Z"
   },
   {
    "duration": 11,
    "start_time": "2025-05-09T06:28:00.814Z"
   },
   {
    "duration": 20,
    "start_time": "2025-05-09T06:28:00.827Z"
   },
   {
    "duration": 14,
    "start_time": "2025-05-09T06:28:00.849Z"
   },
   {
    "duration": 25,
    "start_time": "2025-05-09T06:28:00.868Z"
   },
   {
    "duration": 89,
    "start_time": "2025-05-09T06:28:00.896Z"
   },
   {
    "duration": 9,
    "start_time": "2025-05-09T06:28:00.987Z"
   },
   {
    "duration": 96,
    "start_time": "2025-05-09T06:28:00.997Z"
   },
   {
    "duration": 88,
    "start_time": "2025-05-09T06:28:01.096Z"
   },
   {
    "duration": 24,
    "start_time": "2025-05-09T06:28:01.185Z"
   },
   {
    "duration": 14,
    "start_time": "2025-05-09T06:28:01.211Z"
   },
   {
    "duration": 4,
    "start_time": "2025-05-09T06:28:01.227Z"
   },
   {
    "duration": 51,
    "start_time": "2025-05-09T06:28:01.233Z"
   },
   {
    "duration": 21,
    "start_time": "2025-05-09T06:28:01.285Z"
   },
   {
    "duration": 5,
    "start_time": "2025-05-09T06:28:01.308Z"
   },
   {
    "duration": 6,
    "start_time": "2025-05-09T06:28:01.314Z"
   },
   {
    "duration": 22,
    "start_time": "2025-05-09T06:28:01.322Z"
   },
   {
    "duration": 6,
    "start_time": "2025-05-09T06:28:01.346Z"
   },
   {
    "duration": 807,
    "start_time": "2025-05-09T06:28:01.354Z"
   },
   {
    "duration": 665,
    "start_time": "2025-05-09T06:28:02.163Z"
   },
   {
    "duration": 9,
    "start_time": "2025-05-09T06:28:02.829Z"
   },
   {
    "duration": 8,
    "start_time": "2025-05-09T06:28:02.845Z"
   },
   {
    "duration": 9,
    "start_time": "2025-05-09T06:28:02.857Z"
   },
   {
    "duration": 9,
    "start_time": "2025-05-09T06:28:02.869Z"
   },
   {
    "duration": 17,
    "start_time": "2025-05-09T06:28:02.880Z"
   },
   {
    "duration": 7,
    "start_time": "2025-05-09T06:28:02.899Z"
   },
   {
    "duration": 33,
    "start_time": "2025-05-09T06:28:02.911Z"
   },
   {
    "duration": 21,
    "start_time": "2025-05-09T06:28:02.946Z"
   },
   {
    "duration": 26,
    "start_time": "2025-05-09T06:28:02.969Z"
   },
   {
    "duration": 48,
    "start_time": "2025-05-09T06:28:02.997Z"
   },
   {
    "duration": 12,
    "start_time": "2025-05-09T06:28:03.047Z"
   },
   {
    "duration": 3,
    "start_time": "2025-05-09T06:28:03.061Z"
   },
   {
    "duration": 34,
    "start_time": "2025-05-09T06:28:03.066Z"
   },
   {
    "duration": 8,
    "start_time": "2025-05-09T06:28:03.102Z"
   },
   {
    "duration": 282,
    "start_time": "2025-05-09T06:28:03.112Z"
   },
   {
    "duration": 148,
    "start_time": "2025-05-09T06:28:03.397Z"
   },
   {
    "duration": 220,
    "start_time": "2025-05-09T06:28:03.546Z"
   },
   {
    "duration": 177,
    "start_time": "2025-05-09T06:28:03.768Z"
   },
   {
    "duration": 189,
    "start_time": "2025-05-09T06:28:03.947Z"
   },
   {
    "duration": 57,
    "start_time": "2025-05-09T06:28:04.142Z"
   },
   {
    "duration": 117,
    "start_time": "2025-05-09T06:28:04.200Z"
   },
   {
    "duration": 486,
    "start_time": "2025-05-09T06:28:04.319Z"
   },
   {
    "duration": 7,
    "start_time": "2025-05-09T06:28:04.808Z"
   },
   {
    "duration": 220,
    "start_time": "2025-05-09T06:28:04.817Z"
   },
   {
    "duration": 233,
    "start_time": "2025-05-09T06:28:05.040Z"
   },
   {
    "duration": 209,
    "start_time": "2025-05-09T06:28:05.276Z"
   },
   {
    "duration": 151,
    "start_time": "2025-05-09T06:28:05.487Z"
   },
   {
    "duration": 672,
    "start_time": "2025-05-09T06:35:26.240Z"
   },
   {
    "duration": 661,
    "start_time": "2025-05-09T06:35:37.660Z"
   },
   {
    "duration": 706,
    "start_time": "2025-05-09T06:36:00.909Z"
   },
   {
    "duration": 3,
    "start_time": "2025-05-09T06:52:57.495Z"
   },
   {
    "duration": 845,
    "start_time": "2025-05-09T06:52:57.500Z"
   },
   {
    "duration": 11,
    "start_time": "2025-05-09T06:52:58.347Z"
   },
   {
    "duration": 9,
    "start_time": "2025-05-09T06:52:58.361Z"
   },
   {
    "duration": 8,
    "start_time": "2025-05-09T06:52:58.372Z"
   },
   {
    "duration": 8,
    "start_time": "2025-05-09T06:52:58.381Z"
   },
   {
    "duration": 52,
    "start_time": "2025-05-09T06:52:58.391Z"
   },
   {
    "duration": 68,
    "start_time": "2025-05-09T06:52:58.445Z"
   },
   {
    "duration": 8,
    "start_time": "2025-05-09T06:52:58.516Z"
   },
   {
    "duration": 97,
    "start_time": "2025-05-09T06:52:58.525Z"
   },
   {
    "duration": 89,
    "start_time": "2025-05-09T06:52:58.624Z"
   },
   {
    "duration": 33,
    "start_time": "2025-05-09T06:52:58.715Z"
   },
   {
    "duration": 20,
    "start_time": "2025-05-09T06:52:58.750Z"
   },
   {
    "duration": 5,
    "start_time": "2025-05-09T06:52:58.772Z"
   },
   {
    "duration": 26,
    "start_time": "2025-05-09T06:52:58.779Z"
   },
   {
    "duration": 41,
    "start_time": "2025-05-09T06:52:58.807Z"
   },
   {
    "duration": 5,
    "start_time": "2025-05-09T06:52:58.849Z"
   },
   {
    "duration": 5,
    "start_time": "2025-05-09T06:52:58.855Z"
   },
   {
    "duration": 5,
    "start_time": "2025-05-09T06:52:58.862Z"
   },
   {
    "duration": 4,
    "start_time": "2025-05-09T06:52:58.868Z"
   },
   {
    "duration": 750,
    "start_time": "2025-05-09T06:52:58.874Z"
   },
   {
    "duration": 632,
    "start_time": "2025-05-09T06:52:59.626Z"
   },
   {
    "duration": 9,
    "start_time": "2025-05-09T06:53:00.259Z"
   },
   {
    "duration": 8,
    "start_time": "2025-05-09T06:53:00.273Z"
   },
   {
    "duration": 7,
    "start_time": "2025-05-09T06:53:00.284Z"
   },
   {
    "duration": 13,
    "start_time": "2025-05-09T06:53:00.293Z"
   },
   {
    "duration": 48,
    "start_time": "2025-05-09T06:53:00.307Z"
   },
   {
    "duration": 6,
    "start_time": "2025-05-09T06:53:00.357Z"
   },
   {
    "duration": 4,
    "start_time": "2025-05-09T06:53:00.365Z"
   },
   {
    "duration": 9,
    "start_time": "2025-05-09T06:53:00.371Z"
   },
   {
    "duration": 15,
    "start_time": "2025-05-09T06:53:00.382Z"
   },
   {
    "duration": 65,
    "start_time": "2025-05-09T06:53:00.399Z"
   },
   {
    "duration": 13,
    "start_time": "2025-05-09T06:53:00.466Z"
   },
   {
    "duration": 3,
    "start_time": "2025-05-09T06:53:00.480Z"
   },
   {
    "duration": 28,
    "start_time": "2025-05-09T06:53:00.484Z"
   },
   {
    "duration": 33,
    "start_time": "2025-05-09T06:53:00.514Z"
   },
   {
    "duration": 207,
    "start_time": "2025-05-09T06:53:00.548Z"
   },
   {
    "duration": 143,
    "start_time": "2025-05-09T06:53:00.756Z"
   },
   {
    "duration": 225,
    "start_time": "2025-05-09T06:53:00.900Z"
   },
   {
    "duration": 225,
    "start_time": "2025-05-09T06:53:01.127Z"
   },
   {
    "duration": 170,
    "start_time": "2025-05-09T06:53:01.354Z"
   },
   {
    "duration": 42,
    "start_time": "2025-05-09T06:53:01.526Z"
   },
   {
    "duration": 93,
    "start_time": "2025-05-09T06:53:01.570Z"
   },
   {
    "duration": 384,
    "start_time": "2025-05-09T06:53:01.664Z"
   },
   {
    "duration": 8,
    "start_time": "2025-05-09T06:53:02.050Z"
   },
   {
    "duration": 191,
    "start_time": "2025-05-09T06:53:02.060Z"
   },
   {
    "duration": 176,
    "start_time": "2025-05-09T06:53:02.253Z"
   },
   {
    "duration": 201,
    "start_time": "2025-05-09T06:53:02.431Z"
   },
   {
    "duration": 100,
    "start_time": "2025-05-09T06:53:02.642Z"
   },
   {
    "duration": 662,
    "start_time": "2025-05-09T06:53:02.744Z"
   },
   {
    "duration": 39,
    "start_time": "2025-05-09T06:53:07.833Z"
   },
   {
    "duration": 207,
    "start_time": "2025-05-09T06:53:11.406Z"
   },
   {
    "duration": 212,
    "start_time": "2025-05-09T06:53:19.444Z"
   },
   {
    "duration": 203,
    "start_time": "2025-05-09T06:53:27.727Z"
   },
   {
    "duration": 39,
    "start_time": "2025-05-09T06:53:59.705Z"
   },
   {
    "duration": 38,
    "start_time": "2025-05-09T06:54:13.757Z"
   },
   {
    "duration": 2119,
    "start_time": "2025-05-09T16:26:36.685Z"
   },
   {
    "duration": 1035,
    "start_time": "2025-05-09T16:26:38.806Z"
   },
   {
    "duration": 12,
    "start_time": "2025-05-09T16:26:39.842Z"
   },
   {
    "duration": 9,
    "start_time": "2025-05-09T16:26:39.855Z"
   },
   {
    "duration": 8,
    "start_time": "2025-05-09T16:26:39.866Z"
   },
   {
    "duration": 9,
    "start_time": "2025-05-09T16:26:39.875Z"
   },
   {
    "duration": 53,
    "start_time": "2025-05-09T16:26:39.886Z"
   },
   {
    "duration": 92,
    "start_time": "2025-05-09T16:26:39.941Z"
   },
   {
    "duration": 9,
    "start_time": "2025-05-09T16:26:40.035Z"
   },
   {
    "duration": 108,
    "start_time": "2025-05-09T16:26:40.046Z"
   },
   {
    "duration": 87,
    "start_time": "2025-05-09T16:26:40.156Z"
   },
   {
    "duration": 28,
    "start_time": "2025-05-09T16:26:40.245Z"
   },
   {
    "duration": 14,
    "start_time": "2025-05-09T16:26:40.275Z"
   },
   {
    "duration": 5,
    "start_time": "2025-05-09T16:26:40.293Z"
   },
   {
    "duration": 52,
    "start_time": "2025-05-09T16:26:40.299Z"
   },
   {
    "duration": 20,
    "start_time": "2025-05-09T16:26:40.353Z"
   },
   {
    "duration": 5,
    "start_time": "2025-05-09T16:26:40.375Z"
   },
   {
    "duration": 5,
    "start_time": "2025-05-09T16:26:40.382Z"
   },
   {
    "duration": 37,
    "start_time": "2025-05-09T16:26:40.389Z"
   },
   {
    "duration": 3,
    "start_time": "2025-05-09T16:26:40.428Z"
   },
   {
    "duration": 770,
    "start_time": "2025-05-09T16:26:40.433Z"
   },
   {
    "duration": 628,
    "start_time": "2025-05-09T16:26:41.205Z"
   },
   {
    "duration": 8,
    "start_time": "2025-05-09T16:26:41.834Z"
   },
   {
    "duration": 6,
    "start_time": "2025-05-09T16:26:41.844Z"
   },
   {
    "duration": 6,
    "start_time": "2025-05-09T16:26:41.852Z"
   },
   {
    "duration": 9,
    "start_time": "2025-05-09T16:26:41.859Z"
   },
   {
    "duration": 16,
    "start_time": "2025-05-09T16:26:41.870Z"
   },
   {
    "duration": 38,
    "start_time": "2025-05-09T16:26:41.888Z"
   },
   {
    "duration": 5,
    "start_time": "2025-05-09T16:26:41.928Z"
   },
   {
    "duration": 10,
    "start_time": "2025-05-09T16:26:41.934Z"
   },
   {
    "duration": 17,
    "start_time": "2025-05-09T16:26:41.945Z"
   },
   {
    "duration": 60,
    "start_time": "2025-05-09T16:26:41.964Z"
   },
   {
    "duration": 11,
    "start_time": "2025-05-09T16:26:42.026Z"
   },
   {
    "duration": 2,
    "start_time": "2025-05-09T16:26:42.039Z"
   },
   {
    "duration": 27,
    "start_time": "2025-05-09T16:26:42.043Z"
   },
   {
    "duration": 8,
    "start_time": "2025-05-09T16:26:42.072Z"
   },
   {
    "duration": 234,
    "start_time": "2025-05-09T16:26:42.081Z"
   },
   {
    "duration": 144,
    "start_time": "2025-05-09T16:26:42.317Z"
   },
   {
    "duration": 266,
    "start_time": "2025-05-09T16:26:42.462Z"
   },
   {
    "duration": 170,
    "start_time": "2025-05-09T16:26:42.730Z"
   },
   {
    "duration": 163,
    "start_time": "2025-05-09T16:26:42.905Z"
   },
   {
    "duration": 39,
    "start_time": "2025-05-09T16:26:43.071Z"
   },
   {
    "duration": 113,
    "start_time": "2025-05-09T16:26:43.112Z"
   },
   {
    "duration": 423,
    "start_time": "2025-05-09T16:26:43.227Z"
   },
   {
    "duration": 7,
    "start_time": "2025-05-09T16:26:43.652Z"
   },
   {
    "duration": 190,
    "start_time": "2025-05-09T16:26:43.661Z"
   },
   {
    "duration": 199,
    "start_time": "2025-05-09T16:26:43.853Z"
   },
   {
    "duration": 201,
    "start_time": "2025-05-09T16:26:44.053Z"
   },
   {
    "duration": 132,
    "start_time": "2025-05-09T16:26:44.257Z"
   },
   {
    "duration": 664,
    "start_time": "2025-05-09T16:26:44.391Z"
   },
   {
    "duration": 41,
    "start_time": "2025-05-09T16:26:45.057Z"
   },
   {
    "duration": 240,
    "start_time": "2025-05-09T16:26:45.100Z"
   },
   {
    "duration": 4,
    "start_time": "2025-05-09T16:28:02.314Z"
   },
   {
    "duration": 5,
    "start_time": "2025-05-09T16:28:08.362Z"
   },
   {
    "duration": 9,
    "start_time": "2025-05-09T16:28:15.386Z"
   },
   {
    "duration": 4,
    "start_time": "2025-05-09T16:28:26.887Z"
   },
   {
    "duration": 4,
    "start_time": "2025-05-09T16:28:28.705Z"
   },
   {
    "duration": 5,
    "start_time": "2025-05-09T16:28:46.624Z"
   },
   {
    "duration": 3,
    "start_time": "2025-05-09T16:28:53.467Z"
   },
   {
    "duration": 828,
    "start_time": "2025-05-09T16:28:53.472Z"
   },
   {
    "duration": 11,
    "start_time": "2025-05-09T16:28:54.302Z"
   },
   {
    "duration": 18,
    "start_time": "2025-05-09T16:28:54.314Z"
   },
   {
    "duration": 7,
    "start_time": "2025-05-09T16:28:54.334Z"
   },
   {
    "duration": 7,
    "start_time": "2025-05-09T16:28:54.343Z"
   },
   {
    "duration": 20,
    "start_time": "2025-05-09T16:28:54.352Z"
   },
   {
    "duration": 96,
    "start_time": "2025-05-09T16:28:54.373Z"
   },
   {
    "duration": 9,
    "start_time": "2025-05-09T16:28:54.470Z"
   },
   {
    "duration": 86,
    "start_time": "2025-05-09T16:28:54.480Z"
   },
   {
    "duration": 78,
    "start_time": "2025-05-09T16:28:54.569Z"
   },
   {
    "duration": 22,
    "start_time": "2025-05-09T16:28:54.649Z"
   },
   {
    "duration": 15,
    "start_time": "2025-05-09T16:28:54.673Z"
   },
   {
    "duration": 4,
    "start_time": "2025-05-09T16:28:54.689Z"
   },
   {
    "duration": 47,
    "start_time": "2025-05-09T16:28:54.695Z"
   },
   {
    "duration": 21,
    "start_time": "2025-05-09T16:28:54.745Z"
   },
   {
    "duration": 5,
    "start_time": "2025-05-09T16:28:54.767Z"
   },
   {
    "duration": 6,
    "start_time": "2025-05-09T16:28:54.773Z"
   },
   {
    "duration": 4,
    "start_time": "2025-05-09T16:28:54.781Z"
   },
   {
    "duration": 4,
    "start_time": "2025-05-09T16:28:54.787Z"
   },
   {
    "duration": 724,
    "start_time": "2025-05-09T16:28:54.792Z"
   },
   {
    "duration": 568,
    "start_time": "2025-05-09T16:28:55.518Z"
   },
   {
    "duration": 7,
    "start_time": "2025-05-09T16:28:56.088Z"
   },
   {
    "duration": 8,
    "start_time": "2025-05-09T16:28:56.097Z"
   },
   {
    "duration": 21,
    "start_time": "2025-05-09T16:28:56.106Z"
   },
   {
    "duration": 9,
    "start_time": "2025-05-09T16:28:56.129Z"
   },
   {
    "duration": 18,
    "start_time": "2025-05-09T16:28:56.139Z"
   },
   {
    "duration": 8,
    "start_time": "2025-05-09T16:28:56.159Z"
   },
   {
    "duration": 5,
    "start_time": "2025-05-09T16:28:56.171Z"
   },
   {
    "duration": 46,
    "start_time": "2025-05-09T16:28:56.178Z"
   },
   {
    "duration": 18,
    "start_time": "2025-05-09T16:28:56.226Z"
   },
   {
    "duration": 29,
    "start_time": "2025-05-09T16:28:56.245Z"
   },
   {
    "duration": 12,
    "start_time": "2025-05-09T16:28:56.276Z"
   },
   {
    "duration": 156,
    "start_time": "2025-05-09T18:05:26.093Z"
   },
   {
    "duration": 2133,
    "start_time": "2025-05-09T18:05:37.272Z"
   },
   {
    "duration": 1020,
    "start_time": "2025-05-09T18:05:39.407Z"
   },
   {
    "duration": 12,
    "start_time": "2025-05-09T18:05:40.429Z"
   },
   {
    "duration": 9,
    "start_time": "2025-05-09T18:05:40.442Z"
   },
   {
    "duration": 7,
    "start_time": "2025-05-09T18:05:40.454Z"
   },
   {
    "duration": 8,
    "start_time": "2025-05-09T18:05:40.462Z"
   },
   {
    "duration": 52,
    "start_time": "2025-05-09T18:05:40.472Z"
   },
   {
    "duration": 84,
    "start_time": "2025-05-09T18:05:40.526Z"
   },
   {
    "duration": 18,
    "start_time": "2025-05-09T18:05:40.612Z"
   },
   {
    "duration": 106,
    "start_time": "2025-05-09T18:05:40.632Z"
   },
   {
    "duration": 85,
    "start_time": "2025-05-09T18:05:40.739Z"
   },
   {
    "duration": 30,
    "start_time": "2025-05-09T18:05:40.825Z"
   },
   {
    "duration": 15,
    "start_time": "2025-05-09T18:05:40.856Z"
   },
   {
    "duration": 4,
    "start_time": "2025-05-09T18:05:40.874Z"
   },
   {
    "duration": 52,
    "start_time": "2025-05-09T18:05:40.880Z"
   },
   {
    "duration": 20,
    "start_time": "2025-05-09T18:05:40.933Z"
   },
   {
    "duration": 5,
    "start_time": "2025-05-09T18:05:40.955Z"
   },
   {
    "duration": 4,
    "start_time": "2025-05-09T18:05:40.962Z"
   },
   {
    "duration": 722,
    "start_time": "2025-05-09T18:07:45.735Z"
   },
   {
    "duration": 11,
    "start_time": "2025-05-09T18:13:50.534Z"
   },
   {
    "duration": 14,
    "start_time": "2025-05-09T18:15:05.606Z"
   },
   {
    "duration": 12,
    "start_time": "2025-05-09T18:15:17.602Z"
   },
   {
    "duration": 76,
    "start_time": "2025-05-09T19:11:31.578Z"
   },
   {
    "duration": 3,
    "start_time": "2025-05-09T19:11:36.387Z"
   },
   {
    "duration": 840,
    "start_time": "2025-05-09T19:11:36.392Z"
   },
   {
    "duration": 11,
    "start_time": "2025-05-09T19:11:37.233Z"
   },
   {
    "duration": 9,
    "start_time": "2025-05-09T19:11:37.247Z"
   },
   {
    "duration": 7,
    "start_time": "2025-05-09T19:11:37.258Z"
   },
   {
    "duration": 7,
    "start_time": "2025-05-09T19:11:37.268Z"
   },
   {
    "duration": 54,
    "start_time": "2025-05-09T19:11:37.276Z"
   },
   {
    "duration": 71,
    "start_time": "2025-05-09T19:11:46.388Z"
   },
   {
    "duration": 434,
    "start_time": "2025-05-09T19:12:10.983Z"
   },
   {
    "duration": 78,
    "start_time": "2025-05-09T19:12:49.454Z"
   },
   {
    "duration": 155,
    "start_time": "2025-05-09T19:13:12.383Z"
   },
   {
    "duration": 158,
    "start_time": "2025-05-09T19:13:14.857Z"
   },
   {
    "duration": 82,
    "start_time": "2025-05-09T19:13:20.728Z"
   },
   {
    "duration": 16,
    "start_time": "2025-05-09T19:13:37.540Z"
   },
   {
    "duration": 8,
    "start_time": "2025-05-09T19:13:43.675Z"
   },
   {
    "duration": 81,
    "start_time": "2025-05-09T19:15:26.374Z"
   },
   {
    "duration": 73,
    "start_time": "2025-05-09T19:15:36.431Z"
   },
   {
    "duration": 79,
    "start_time": "2025-05-09T19:15:41.146Z"
   },
   {
    "duration": 91,
    "start_time": "2025-05-09T19:16:05.133Z"
   },
   {
    "duration": 3,
    "start_time": "2025-05-09T19:17:20.298Z"
   },
   {
    "duration": 822,
    "start_time": "2025-05-09T19:17:20.303Z"
   },
   {
    "duration": 10,
    "start_time": "2025-05-09T19:17:21.128Z"
   },
   {
    "duration": 10,
    "start_time": "2025-05-09T19:17:21.139Z"
   },
   {
    "duration": 7,
    "start_time": "2025-05-09T19:17:21.151Z"
   },
   {
    "duration": 7,
    "start_time": "2025-05-09T19:17:21.159Z"
   },
   {
    "duration": 54,
    "start_time": "2025-05-09T19:17:21.170Z"
   },
   {
    "duration": 75,
    "start_time": "2025-05-09T19:17:21.226Z"
   },
   {
    "duration": 21,
    "start_time": "2025-05-09T19:17:21.303Z"
   },
   {
    "duration": 76,
    "start_time": "2025-05-09T19:17:21.325Z"
   },
   {
    "duration": 81,
    "start_time": "2025-05-09T19:17:21.403Z"
   },
   {
    "duration": 23,
    "start_time": "2025-05-09T19:17:21.486Z"
   },
   {
    "duration": 3,
    "start_time": "2025-05-09T19:24:24.121Z"
   },
   {
    "duration": 838,
    "start_time": "2025-05-09T19:24:24.127Z"
   },
   {
    "duration": 12,
    "start_time": "2025-05-09T19:24:24.967Z"
   },
   {
    "duration": 10,
    "start_time": "2025-05-09T19:24:24.980Z"
   },
   {
    "duration": 8,
    "start_time": "2025-05-09T19:24:24.993Z"
   },
   {
    "duration": 8,
    "start_time": "2025-05-09T19:24:25.025Z"
   },
   {
    "duration": 20,
    "start_time": "2025-05-09T19:24:25.034Z"
   },
   {
    "duration": 97,
    "start_time": "2025-05-09T19:24:25.056Z"
   },
   {
    "duration": 8,
    "start_time": "2025-05-09T19:24:25.155Z"
   },
   {
    "duration": 104,
    "start_time": "2025-05-09T19:24:25.165Z"
   },
   {
    "duration": 89,
    "start_time": "2025-05-09T19:24:25.272Z"
   },
   {
    "duration": 26,
    "start_time": "2025-05-09T19:24:25.363Z"
   },
   {
    "duration": 34,
    "start_time": "2025-05-09T19:24:25.391Z"
   },
   {
    "duration": 4,
    "start_time": "2025-05-09T19:24:25.427Z"
   },
   {
    "duration": 27,
    "start_time": "2025-05-09T19:24:25.434Z"
   },
   {
    "duration": 22,
    "start_time": "2025-05-09T19:24:25.463Z"
   },
   {
    "duration": 5,
    "start_time": "2025-05-09T19:24:25.487Z"
   },
   {
    "duration": 31,
    "start_time": "2025-05-09T19:24:25.494Z"
   },
   {
    "duration": 6,
    "start_time": "2025-05-09T19:24:25.528Z"
   },
   {
    "duration": 6,
    "start_time": "2025-05-09T19:24:25.535Z"
   },
   {
    "duration": 835,
    "start_time": "2025-05-09T19:24:25.543Z"
   },
   {
    "duration": 8,
    "start_time": "2025-05-09T19:31:24.554Z"
   },
   {
    "duration": 11,
    "start_time": "2025-05-09T19:31:32.618Z"
   },
   {
    "duration": 9,
    "start_time": "2025-05-09T19:31:41.321Z"
   },
   {
    "duration": 3,
    "start_time": "2025-05-09T19:31:47.648Z"
   },
   {
    "duration": 821,
    "start_time": "2025-05-09T19:31:47.653Z"
   },
   {
    "duration": 11,
    "start_time": "2025-05-09T19:31:48.477Z"
   },
   {
    "duration": 12,
    "start_time": "2025-05-09T19:31:48.491Z"
   },
   {
    "duration": 25,
    "start_time": "2025-05-09T19:31:48.504Z"
   },
   {
    "duration": 7,
    "start_time": "2025-05-09T19:31:48.532Z"
   },
   {
    "duration": 20,
    "start_time": "2025-05-09T19:31:48.540Z"
   },
   {
    "duration": 95,
    "start_time": "2025-05-09T19:31:48.562Z"
   },
   {
    "duration": 7,
    "start_time": "2025-05-09T19:31:48.660Z"
   },
   {
    "duration": 3,
    "start_time": "2025-05-09T20:19:40.393Z"
   },
   {
    "duration": 3,
    "start_time": "2025-05-09T20:19:57.597Z"
   },
   {
    "duration": 3,
    "start_time": "2025-05-09T20:20:17.216Z"
   },
   {
    "duration": 1009,
    "start_time": "2025-05-09T20:20:17.221Z"
   },
   {
    "duration": 20,
    "start_time": "2025-05-09T20:20:18.232Z"
   },
   {
    "duration": 11,
    "start_time": "2025-05-09T20:20:18.253Z"
   },
   {
    "duration": 8,
    "start_time": "2025-05-09T20:20:18.267Z"
   },
   {
    "duration": 7,
    "start_time": "2025-05-09T20:20:18.277Z"
   },
   {
    "duration": 56,
    "start_time": "2025-05-09T20:20:18.286Z"
   },
   {
    "duration": 93,
    "start_time": "2025-05-09T20:20:18.344Z"
   },
   {
    "duration": 11,
    "start_time": "2025-05-09T20:20:18.439Z"
   },
   {
    "duration": 105,
    "start_time": "2025-05-09T20:20:18.452Z"
   },
   {
    "duration": 95,
    "start_time": "2025-05-09T20:20:18.560Z"
   },
   {
    "duration": 29,
    "start_time": "2025-05-09T20:20:18.657Z"
   },
   {
    "duration": 16,
    "start_time": "2025-05-09T20:20:18.688Z"
   },
   {
    "duration": 18,
    "start_time": "2025-05-09T20:20:18.706Z"
   },
   {
    "duration": 43,
    "start_time": "2025-05-09T20:20:18.727Z"
   },
   {
    "duration": 21,
    "start_time": "2025-05-09T20:20:18.772Z"
   },
   {
    "duration": 6,
    "start_time": "2025-05-09T20:20:18.795Z"
   },
   {
    "duration": 5,
    "start_time": "2025-05-09T20:20:18.802Z"
   },
   {
    "duration": 7,
    "start_time": "2025-05-09T20:20:18.826Z"
   },
   {
    "duration": 6,
    "start_time": "2025-05-09T20:20:18.834Z"
   },
   {
    "duration": 974,
    "start_time": "2025-05-09T20:20:18.842Z"
   },
   {
    "duration": 900,
    "start_time": "2025-05-09T20:20:19.819Z"
   },
   {
    "duration": 16,
    "start_time": "2025-05-09T20:20:20.721Z"
   },
   {
    "duration": 9,
    "start_time": "2025-05-09T20:20:20.739Z"
   },
   {
    "duration": 10,
    "start_time": "2025-05-09T20:20:20.750Z"
   },
   {
    "duration": 10,
    "start_time": "2025-05-09T20:25:55.414Z"
   },
   {
    "duration": 17,
    "start_time": "2025-05-09T20:26:26.683Z"
   },
   {
    "duration": 12,
    "start_time": "2025-05-09T20:26:34.075Z"
   },
   {
    "duration": 28,
    "start_time": "2025-05-09T20:29:19.581Z"
   },
   {
    "duration": 3,
    "start_time": "2025-05-09T20:37:17.535Z"
   },
   {
    "duration": 956,
    "start_time": "2025-05-09T20:37:17.540Z"
   },
   {
    "duration": 11,
    "start_time": "2025-05-09T20:37:18.498Z"
   },
   {
    "duration": 26,
    "start_time": "2025-05-09T20:37:18.511Z"
   },
   {
    "duration": 10,
    "start_time": "2025-05-09T20:37:18.539Z"
   },
   {
    "duration": 9,
    "start_time": "2025-05-09T20:37:18.550Z"
   },
   {
    "duration": 21,
    "start_time": "2025-05-09T20:37:18.561Z"
   },
   {
    "duration": 106,
    "start_time": "2025-05-09T20:37:18.584Z"
   },
   {
    "duration": 7,
    "start_time": "2025-05-09T20:37:18.692Z"
   },
   {
    "duration": 99,
    "start_time": "2025-05-09T20:37:18.701Z"
   },
   {
    "duration": 86,
    "start_time": "2025-05-09T20:37:18.804Z"
   },
   {
    "duration": 25,
    "start_time": "2025-05-09T20:37:18.892Z"
   },
   {
    "duration": 30,
    "start_time": "2025-05-09T20:37:18.919Z"
   },
   {
    "duration": 4,
    "start_time": "2025-05-09T20:37:18.951Z"
   },
   {
    "duration": 25,
    "start_time": "2025-05-09T20:37:18.957Z"
   },
   {
    "duration": 20,
    "start_time": "2025-05-09T20:37:18.983Z"
   },
   {
    "duration": 21,
    "start_time": "2025-05-09T20:37:19.005Z"
   },
   {
    "duration": 11,
    "start_time": "2025-05-09T20:37:19.029Z"
   },
   {
    "duration": 12,
    "start_time": "2025-05-09T20:37:19.044Z"
   },
   {
    "duration": 4,
    "start_time": "2025-05-09T20:37:19.058Z"
   },
   {
    "duration": 912,
    "start_time": "2025-05-09T20:37:19.064Z"
   },
   {
    "duration": 754,
    "start_time": "2025-05-09T20:37:19.978Z"
   },
   {
    "duration": 15,
    "start_time": "2025-05-09T20:37:20.734Z"
   },
   {
    "duration": 10,
    "start_time": "2025-05-09T20:37:20.750Z"
   },
   {
    "duration": 8,
    "start_time": "2025-05-09T20:37:20.762Z"
   },
   {
    "duration": 13,
    "start_time": "2025-05-09T20:37:20.771Z"
   },
   {
    "duration": 155,
    "start_time": "2025-05-11T00:03:32.498Z"
   },
   {
    "duration": 12,
    "start_time": "2025-05-11T00:06:16.081Z"
   },
   {
    "duration": 11,
    "start_time": "2025-05-11T00:06:17.375Z"
   },
   {
    "duration": 2186,
    "start_time": "2025-05-11T00:06:47.940Z"
   },
   {
    "duration": 1004,
    "start_time": "2025-05-11T00:06:50.128Z"
   },
   {
    "duration": 12,
    "start_time": "2025-05-11T00:06:51.133Z"
   },
   {
    "duration": 9,
    "start_time": "2025-05-11T00:06:51.146Z"
   },
   {
    "duration": 7,
    "start_time": "2025-05-11T00:06:51.157Z"
   },
   {
    "duration": 10,
    "start_time": "2025-05-11T00:06:51.166Z"
   },
   {
    "duration": 51,
    "start_time": "2025-05-11T00:06:51.177Z"
   },
   {
    "duration": 131,
    "start_time": "2025-05-11T00:06:51.230Z"
   },
   {
    "duration": 14,
    "start_time": "2025-05-11T00:06:51.362Z"
   },
   {
    "duration": 132,
    "start_time": "2025-05-11T00:06:51.379Z"
   },
   {
    "duration": 86,
    "start_time": "2025-05-11T00:06:51.514Z"
   },
   {
    "duration": 36,
    "start_time": "2025-05-11T00:06:51.602Z"
   },
   {
    "duration": 15,
    "start_time": "2025-05-11T00:06:51.640Z"
   },
   {
    "duration": 4,
    "start_time": "2025-05-11T00:06:51.658Z"
   },
   {
    "duration": 24,
    "start_time": "2025-05-11T00:06:51.664Z"
   },
   {
    "duration": 20,
    "start_time": "2025-05-11T00:06:51.712Z"
   },
   {
    "duration": 5,
    "start_time": "2025-05-11T00:06:51.734Z"
   },
   {
    "duration": 4,
    "start_time": "2025-05-11T00:06:51.741Z"
   },
   {
    "duration": 5,
    "start_time": "2025-05-11T00:06:51.747Z"
   },
   {
    "duration": 4,
    "start_time": "2025-05-11T00:06:51.753Z"
   },
   {
    "duration": 787,
    "start_time": "2025-05-11T00:06:51.759Z"
   },
   {
    "duration": 697,
    "start_time": "2025-05-11T00:06:52.548Z"
   },
   {
    "duration": 15,
    "start_time": "2025-05-11T00:06:53.247Z"
   },
   {
    "duration": 11,
    "start_time": "2025-05-11T00:06:53.264Z"
   },
   {
    "duration": 7,
    "start_time": "2025-05-11T00:06:53.277Z"
   },
   {
    "duration": 30,
    "start_time": "2025-05-11T00:06:53.287Z"
   },
   {
    "duration": 18,
    "start_time": "2025-05-11T00:06:53.318Z"
   },
   {
    "duration": 6,
    "start_time": "2025-05-11T00:06:53.338Z"
   },
   {
    "duration": 4,
    "start_time": "2025-05-11T00:06:53.345Z"
   },
   {
    "duration": 15,
    "start_time": "2025-05-11T00:06:53.351Z"
   },
   {
    "duration": 46,
    "start_time": "2025-05-11T00:06:53.368Z"
   },
   {
    "duration": 29,
    "start_time": "2025-05-11T00:06:53.416Z"
   },
   {
    "duration": 11,
    "start_time": "2025-05-11T00:06:53.447Z"
   },
   {
    "duration": 7,
    "start_time": "2025-05-11T00:06:53.460Z"
   },
   {
    "duration": 7,
    "start_time": "2025-05-11T00:20:57.905Z"
   },
   {
    "duration": 11,
    "start_time": "2025-05-11T00:22:03.148Z"
   },
   {
    "duration": 79,
    "start_time": "2025-05-11T00:22:30.070Z"
   }
  ],
  "colab": {
   "provenance": [
    {
     "file_id": "1aLGZ19-GYem3LZdYHuzuwYIeSw_tr0AT",
     "timestamp": 1689682143157
    }
   ]
  },
  "kernelspec": {
   "display_name": "base",
   "language": "python",
   "name": "python3"
  },
  "language_info": {
   "codemirror_mode": {
    "name": "ipython",
    "version": 3
   },
   "file_extension": ".py",
   "mimetype": "text/x-python",
   "name": "python",
   "nbconvert_exporter": "python",
   "pygments_lexer": "ipython3",
   "version": "3.11.13"
  },
  "toc": {
   "base_numbering": 1,
   "nav_menu": {},
   "number_sections": true,
   "sideBar": true,
   "skip_h1_title": true,
   "title_cell": "Table of Contents",
   "title_sidebar": "Contents",
   "toc_cell": false,
   "toc_position": {},
   "toc_section_display": true,
   "toc_window_display": false
  }
 },
 "nbformat": 4,
 "nbformat_minor": 5
}
